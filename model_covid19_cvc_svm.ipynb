{
  "nbformat": 4,
  "nbformat_minor": 0,
  "metadata": {
    "kernelspec": {
      "display_name": "Python",
      "language": "python",
      "name": "conda-env-python-py"
    },
    "language_info": {
      "codemirror_mode": {
        "name": "ipython",
        "version": 3
      },
      "file_extension": ".py",
      "mimetype": "text/x-python",
      "name": "python",
      "nbconvert_exporter": "python",
      "pygments_lexer": "ipython3",
      "version": "3.6.13"
    },
    "colab": {
      "name": "model_covid19_cvc_svm",
      "provenance": [],
      "include_colab_link": true
    }
  },
  "cells": [
    {
      "cell_type": "markdown",
      "metadata": {
        "id": "view-in-github",
        "colab_type": "text"
      },
      "source": [
        "<a href=\"https://colab.research.google.com/github/sohaaan/covid19_cvc/blob/master/model_covid19_cvc_svm.ipynb\" target=\"_parent\"><img src=\"https://colab.research.google.com/assets/colab-badge.svg\" alt=\"Open In Colab\"/></a>"
      ]
    },
    {
      "cell_type": "code",
      "metadata": {
        "id": "keLcFW8kaU3n"
      },
      "source": [
        "import pandas as pd\n",
        "import pylab as pl\n",
        "import numpy as np\n",
        "import scipy.optimize as opt\n",
        "from sklearn import preprocessing\n",
        "from sklearn.model_selection import train_test_split\n",
        "%matplotlib inline \n",
        "import matplotlib.pyplot as plt"
      ],
      "execution_count": 1,
      "outputs": []
    },
    {
      "cell_type": "markdown",
      "metadata": {
        "button": false,
        "new_sheet": false,
        "run_control": {
          "read_only": false
        },
        "id": "QqRSh1MwaU3o"
      },
      "source": [
        "## Load Data From CSV File\n"
      ]
    },
    {
      "cell_type": "code",
      "metadata": {
        "button": false,
        "new_sheet": false,
        "run_control": {
          "read_only": false
        },
        "id": "fAd1BGzCaU3p",
        "colab": {
          "base_uri": "https://localhost:8080/",
          "height": 377
        },
        "outputId": "130308c9-cb07-4dfd-97c3-66afdc64a7fa"
      },
      "source": [
        "df = pd.read_csv(\"cov19_cvc_cleaned3.csv\")\n",
        "df.head()"
      ],
      "execution_count": 9,
      "outputs": [
        {
          "output_type": "execute_result",
          "data": {
            "text/html": [
              "<div>\n",
              "<style scoped>\n",
              "    .dataframe tbody tr th:only-of-type {\n",
              "        vertical-align: middle;\n",
              "    }\n",
              "\n",
              "    .dataframe tbody tr th {\n",
              "        vertical-align: top;\n",
              "    }\n",
              "\n",
              "    .dataframe thead th {\n",
              "        text-align: right;\n",
              "    }\n",
              "</style>\n",
              "<table border=\"1\" class=\"dataframe\">\n",
              "  <thead>\n",
              "    <tr style=\"text-align: right;\">\n",
              "      <th></th>\n",
              "      <th>Unnamed: 0</th>\n",
              "      <th>Unnamed: 0.1</th>\n",
              "      <th>Outcome</th>\n",
              "      <th>Age</th>\n",
              "      <th>Gender</th>\n",
              "      <th>Treatment</th>\n",
              "      <th>Ventilated (Y/N)</th>\n",
              "      <th>Red_blood_cell_distribution_width</th>\n",
              "      <th>Monocytes(%)</th>\n",
              "      <th>White_blood_cell_count</th>\n",
              "      <th>Platelet_Count</th>\n",
              "      <th>Lymphocyte_Count</th>\n",
              "      <th>Neutrophils_Count</th>\n",
              "      <th>Lymphocyte_Count_Binned</th>\n",
              "      <th>Ventilated-No</th>\n",
              "      <th>Ventilated-Yes</th>\n",
              "      <th>Discharge</th>\n",
              "      <th>Admission</th>\n",
              "      <th>Sample_Collection</th>\n",
              "      <th>Recovered</th>\n",
              "      <th>Not Recovered</th>\n",
              "      <th>Age-Binned</th>\n",
              "      <th>Antibiotics</th>\n",
              "      <th>Antibiotics,  O2</th>\n",
              "      <th>Antibiotics,  O3-O9</th>\n",
              "      <th>Paracetamol, Antibiotics,  O2</th>\n",
              "    </tr>\n",
              "  </thead>\n",
              "  <tbody>\n",
              "    <tr>\n",
              "      <th>0</th>\n",
              "      <td>0</td>\n",
              "      <td>1</td>\n",
              "      <td>Not Recovered</td>\n",
              "      <td>51</td>\n",
              "      <td>Male</td>\n",
              "      <td>Antibiotics,  O2</td>\n",
              "      <td>Yes</td>\n",
              "      <td>13.2</td>\n",
              "      <td>3.3</td>\n",
              "      <td>21.00</td>\n",
              "      <td>462.00</td>\n",
              "      <td>0.44</td>\n",
              "      <td>19.43</td>\n",
              "      <td>less than 5</td>\n",
              "      <td>0</td>\n",
              "      <td>1</td>\n",
              "      <td>2020-08-08</td>\n",
              "      <td>2020-08-10</td>\n",
              "      <td>2020-08-10</td>\n",
              "      <td>0</td>\n",
              "      <td>1</td>\n",
              "      <td>40-57</td>\n",
              "      <td>0</td>\n",
              "      <td>1</td>\n",
              "      <td>0</td>\n",
              "      <td>0</td>\n",
              "    </tr>\n",
              "    <tr>\n",
              "      <th>1</th>\n",
              "      <td>1</td>\n",
              "      <td>2</td>\n",
              "      <td>Not Recovered</td>\n",
              "      <td>65</td>\n",
              "      <td>Female</td>\n",
              "      <td>Paracetamol, Antibiotics,  O2</td>\n",
              "      <td>Yes</td>\n",
              "      <td>40.0</td>\n",
              "      <td>3.0</td>\n",
              "      <td>8.79</td>\n",
              "      <td>180.66</td>\n",
              "      <td>4.39</td>\n",
              "      <td>7.56</td>\n",
              "      <td>less than 5</td>\n",
              "      <td>0</td>\n",
              "      <td>1</td>\n",
              "      <td>2020-08-05</td>\n",
              "      <td>2020-07-24</td>\n",
              "      <td>2020-07-24</td>\n",
              "      <td>0</td>\n",
              "      <td>1</td>\n",
              "      <td>57-70</td>\n",
              "      <td>0</td>\n",
              "      <td>0</td>\n",
              "      <td>0</td>\n",
              "      <td>1</td>\n",
              "    </tr>\n",
              "    <tr>\n",
              "      <th>2</th>\n",
              "      <td>2</td>\n",
              "      <td>3</td>\n",
              "      <td>Recovered</td>\n",
              "      <td>32</td>\n",
              "      <td>Male</td>\n",
              "      <td>Antibiotics,  O2</td>\n",
              "      <td>No</td>\n",
              "      <td>11.7</td>\n",
              "      <td>5.3</td>\n",
              "      <td>9.90</td>\n",
              "      <td>336.00</td>\n",
              "      <td>3.47</td>\n",
              "      <td>5.34</td>\n",
              "      <td>less than 5</td>\n",
              "      <td>1</td>\n",
              "      <td>0</td>\n",
              "      <td>2020-08-08</td>\n",
              "      <td>2020-07-22</td>\n",
              "      <td>2020-07-22</td>\n",
              "      <td>1</td>\n",
              "      <td>0</td>\n",
              "      <td>35 less</td>\n",
              "      <td>0</td>\n",
              "      <td>1</td>\n",
              "      <td>0</td>\n",
              "      <td>0</td>\n",
              "    </tr>\n",
              "    <tr>\n",
              "      <th>3</th>\n",
              "      <td>3</td>\n",
              "      <td>4</td>\n",
              "      <td>Recovered</td>\n",
              "      <td>36</td>\n",
              "      <td>Female</td>\n",
              "      <td>Antibiotics,  O2</td>\n",
              "      <td>No</td>\n",
              "      <td>13.0</td>\n",
              "      <td>5.0</td>\n",
              "      <td>9.95</td>\n",
              "      <td>240.10</td>\n",
              "      <td>0.80</td>\n",
              "      <td>8.66</td>\n",
              "      <td>less than 5</td>\n",
              "      <td>1</td>\n",
              "      <td>0</td>\n",
              "      <td>2020-08-05</td>\n",
              "      <td>2020-07-19</td>\n",
              "      <td>2020-07-19</td>\n",
              "      <td>1</td>\n",
              "      <td>0</td>\n",
              "      <td>35-40</td>\n",
              "      <td>0</td>\n",
              "      <td>1</td>\n",
              "      <td>0</td>\n",
              "      <td>0</td>\n",
              "    </tr>\n",
              "    <tr>\n",
              "      <th>4</th>\n",
              "      <td>4</td>\n",
              "      <td>5</td>\n",
              "      <td>Recovered</td>\n",
              "      <td>46</td>\n",
              "      <td>Male</td>\n",
              "      <td>Paracetamol, Antibiotics,  O2</td>\n",
              "      <td>No</td>\n",
              "      <td>31.0</td>\n",
              "      <td>3.0</td>\n",
              "      <td>14.15</td>\n",
              "      <td>236.58</td>\n",
              "      <td>7.93</td>\n",
              "      <td>13.02</td>\n",
              "      <td>5 to 11</td>\n",
              "      <td>1</td>\n",
              "      <td>0</td>\n",
              "      <td>2020-08-05</td>\n",
              "      <td>2020-07-18</td>\n",
              "      <td>2020-07-18</td>\n",
              "      <td>1</td>\n",
              "      <td>0</td>\n",
              "      <td>40-57</td>\n",
              "      <td>0</td>\n",
              "      <td>0</td>\n",
              "      <td>0</td>\n",
              "      <td>1</td>\n",
              "    </tr>\n",
              "  </tbody>\n",
              "</table>\n",
              "</div>"
            ],
            "text/plain": [
              "   Unnamed: 0  Unnamed: 0.1  ... Antibiotics,  O3-O9  Paracetamol, Antibiotics,  O2\n",
              "0           0             1  ...                   0                              0\n",
              "1           1             2  ...                   0                              1\n",
              "2           2             3  ...                   0                              0\n",
              "3           3             4  ...                   0                              0\n",
              "4           4             5  ...                   0                              1\n",
              "\n",
              "[5 rows x 26 columns]"
            ]
          },
          "metadata": {},
          "execution_count": 9
        }
      ]
    },
    {
      "cell_type": "markdown",
      "metadata": {
        "id": "G85Bn7pgaU3q"
      },
      "source": [
        "## Data pre-processing and selection\n"
      ]
    },
    {
      "cell_type": "markdown",
      "metadata": {
        "id": "xe7v1z0jaU3q"
      },
      "source": [
        "Let's first look at columns data types:\n"
      ]
    },
    {
      "cell_type": "code",
      "metadata": {
        "id": "c01_x7ZhfWCX"
      },
      "source": [
        "df.drop([\"Unnamed: 0\",\"Unnamed: 0.1\"], axis=1, inplace= True)"
      ],
      "execution_count": 10,
      "outputs": []
    },
    {
      "cell_type": "code",
      "metadata": {
        "id": "6ywBF5g5aU3q",
        "colab": {
          "base_uri": "https://localhost:8080/"
        },
        "outputId": "5987b7e5-215e-493c-ee39-b90467d31b3a"
      },
      "source": [
        "df.dtypes"
      ],
      "execution_count": 11,
      "outputs": [
        {
          "output_type": "execute_result",
          "data": {
            "text/plain": [
              "Outcome                               object\n",
              "Age                                    int64\n",
              "Gender                                object\n",
              "Treatment                             object\n",
              "Ventilated (Y/N)                      object\n",
              "Red_blood_cell_distribution_width    float64\n",
              "Monocytes(%)                         float64\n",
              "White_blood_cell_count               float64\n",
              "Platelet_Count                       float64\n",
              "Lymphocyte_Count                     float64\n",
              "Neutrophils_Count                    float64\n",
              "Lymphocyte_Count_Binned               object\n",
              "Ventilated-No                          int64\n",
              "Ventilated-Yes                         int64\n",
              "Discharge                             object\n",
              "Admission                             object\n",
              "Sample_Collection                     object\n",
              "Recovered                              int64\n",
              "Not Recovered                          int64\n",
              "Age-Binned                            object\n",
              "Antibiotics                            int64\n",
              "Antibiotics,  O2                       int64\n",
              "Antibiotics,  O3-O9                    int64\n",
              "Paracetamol, Antibiotics,  O2          int64\n",
              "dtype: object"
            ]
          },
          "metadata": {},
          "execution_count": 11
        }
      ]
    },
    {
      "cell_type": "code",
      "metadata": {
        "id": "UEVNIZgUaU3r",
        "colab": {
          "base_uri": "https://localhost:8080/"
        },
        "outputId": "6359ab2b-edcf-42c7-fa72-36c947b5565d"
      },
      "source": [
        "feature_df = df[['Age', 'Red_blood_cell_distribution_width', 'Monocytes(%)', 'White_blood_cell_count', 'Platelet_Count', 'Lymphocyte_Count', 'Neutrophils_Count', 'Ventilated-Yes', 'Antibiotics','Antibiotics,  O2','Antibiotics,  O3-O9','Paracetamol, Antibiotics,  O2']]\n",
        "X = np.asarray(feature_df)\n",
        "X[0:5]"
      ],
      "execution_count": 13,
      "outputs": [
        {
          "output_type": "execute_result",
          "data": {
            "text/plain": [
              "array([[5.1000e+01, 1.3200e+01, 3.3000e+00, 2.1000e+01, 4.6200e+02,\n",
              "        4.4000e-01, 1.9430e+01, 1.0000e+00, 0.0000e+00, 1.0000e+00,\n",
              "        0.0000e+00, 0.0000e+00],\n",
              "       [6.5000e+01, 4.0000e+01, 3.0000e+00, 8.7900e+00, 1.8066e+02,\n",
              "        4.3900e+00, 7.5600e+00, 1.0000e+00, 0.0000e+00, 0.0000e+00,\n",
              "        0.0000e+00, 1.0000e+00],\n",
              "       [3.2000e+01, 1.1700e+01, 5.3000e+00, 9.9000e+00, 3.3600e+02,\n",
              "        3.4700e+00, 5.3400e+00, 0.0000e+00, 0.0000e+00, 1.0000e+00,\n",
              "        0.0000e+00, 0.0000e+00],\n",
              "       [3.6000e+01, 1.3000e+01, 5.0000e+00, 9.9500e+00, 2.4010e+02,\n",
              "        8.0000e-01, 8.6600e+00, 0.0000e+00, 0.0000e+00, 1.0000e+00,\n",
              "        0.0000e+00, 0.0000e+00],\n",
              "       [4.6000e+01, 3.1000e+01, 3.0000e+00, 1.4150e+01, 2.3658e+02,\n",
              "        7.9300e+00, 1.3020e+01, 0.0000e+00, 0.0000e+00, 0.0000e+00,\n",
              "        0.0000e+00, 1.0000e+00]])"
            ]
          },
          "metadata": {},
          "execution_count": 13
        }
      ]
    },
    {
      "cell_type": "code",
      "metadata": {
        "id": "vJ_MRGPosn5Q"
      },
      "source": [
        "feature_df2 = df[['Age', 'Red_blood_cell_distribution_width', 'Ventilated-Yes', 'Antibiotics','Antibiotics,  O2','Antibiotics,  O3-O9','Paracetamol, Antibiotics,  O2','Recovered']]\n",
        "X = np.asarray(feature_df2)\n",
        "X[0:5]"
      ],
      "execution_count": null,
      "outputs": []
    },
    {
      "cell_type": "code",
      "metadata": {
        "id": "8zm81-KDaU3r",
        "colab": {
          "base_uri": "https://localhost:8080/"
        },
        "outputId": "8bf9fa21-0e06-4902-973e-1e4f86f7dd1e"
      },
      "source": [
        "#df['Recovered'] = cell_df['Class'].astype('int')\n",
        "y = np.asarray(df['Recovered'])\n",
        "y [0:5]"
      ],
      "execution_count": 14,
      "outputs": [
        {
          "output_type": "execute_result",
          "data": {
            "text/plain": [
              "array([0, 0, 1, 1, 1])"
            ]
          },
          "metadata": {},
          "execution_count": 14
        }
      ]
    },
    {
      "cell_type": "markdown",
      "metadata": {
        "id": "0HmdxBxzaU3s"
      },
      "source": [
        "## Train/Test dataset\n"
      ]
    },
    {
      "cell_type": "markdown",
      "metadata": {
        "id": "mMUNpcO1aU3s"
      },
      "source": [
        "We split our dataset into train and test set:\n"
      ]
    },
    {
      "cell_type": "code",
      "metadata": {
        "id": "2GybL8rpaU3s",
        "colab": {
          "base_uri": "https://localhost:8080/"
        },
        "outputId": "8e9aa076-871a-497f-fb43-a80c53defcd6"
      },
      "source": [
        "X_train, X_test, y_train, y_test = train_test_split( X, y, test_size=0.2, random_state=4)\n",
        "print ('Train set:', X_train.shape,  y_train.shape)\n",
        "print ('Test set:', X_test.shape,  y_test.shape)"
      ],
      "execution_count": 15,
      "outputs": [
        {
          "output_type": "stream",
          "name": "stdout",
          "text": [
            "Train set: (82, 12) (82,)\n",
            "Test set: (21, 12) (21,)\n"
          ]
        }
      ]
    },
    {
      "cell_type": "markdown",
      "metadata": {
        "id": "_JC1gJi7aU3s"
      },
      "source": [
        "<h2 id=\"modeling\">Modeling (SVM with Scikit-learn)</h2>\n"
      ]
    },
    {
      "cell_type": "markdown",
      "metadata": {
        "id": "0gWDHqNhaU3s"
      },
      "source": [
        "The SVM algorithm offers a choice of kernel functions for performing its processing. Basically, mapping data into a higher dimensional space is called kernelling. The mathematical function used for the transformation is known as the kernel function, and can be of different types, such as:\n",
        "\n",
        "```\n",
        "1.Linear\n",
        "2.Polynomial\n",
        "3.Radial basis function (RBF)\n",
        "4.Sigmoid\n",
        "```\n",
        "\n",
        "Each of these functions has its characteristics, its pros and cons, and its equation, but as there's no easy way of knowing which function performs best with any given dataset. We usually choose different functions in turn and compare the results. Let's just use the default, RBF (Radial Basis Function) for this lab.\n"
      ]
    },
    {
      "cell_type": "code",
      "metadata": {
        "id": "VUzqxk8maU3t",
        "colab": {
          "base_uri": "https://localhost:8080/"
        },
        "outputId": "ec3f8fa8-9bb6-4057-dca4-e5bae9a76205"
      },
      "source": [
        "from sklearn import svm\n",
        "clf = svm.SVC(kernel='rbf')\n",
        "clf.fit(X_train, y_train) "
      ],
      "execution_count": 16,
      "outputs": [
        {
          "output_type": "execute_result",
          "data": {
            "text/plain": [
              "SVC(C=1.0, break_ties=False, cache_size=200, class_weight=None, coef0=0.0,\n",
              "    decision_function_shape='ovr', degree=3, gamma='scale', kernel='rbf',\n",
              "    max_iter=-1, probability=False, random_state=None, shrinking=True,\n",
              "    tol=0.001, verbose=False)"
            ]
          },
          "metadata": {},
          "execution_count": 16
        }
      ]
    },
    {
      "cell_type": "markdown",
      "metadata": {
        "id": "s30q_WxFaU3t"
      },
      "source": [
        "After being fitted, the model can then be used to predict new values:\n"
      ]
    },
    {
      "cell_type": "code",
      "metadata": {
        "id": "RI_DqrNNaU3t",
        "colab": {
          "base_uri": "https://localhost:8080/"
        },
        "outputId": "522e7e5e-c7ce-4652-b105-e32f09335361"
      },
      "source": [
        "yhat = clf.predict(X_test)\n",
        "yhat [0:5]"
      ],
      "execution_count": 17,
      "outputs": [
        {
          "output_type": "execute_result",
          "data": {
            "text/plain": [
              "array([1, 1, 1, 0, 0])"
            ]
          },
          "metadata": {},
          "execution_count": 17
        }
      ]
    },
    {
      "cell_type": "markdown",
      "metadata": {
        "id": "zeQ9UoRJaU3t"
      },
      "source": [
        "<h2 id=\"evaluation\">Evaluation</h2>\n"
      ]
    },
    {
      "cell_type": "code",
      "metadata": {
        "id": "zadfx7zcaU3t"
      },
      "source": [
        "from sklearn.metrics import classification_report, confusion_matrix\n",
        "import itertools"
      ],
      "execution_count": 18,
      "outputs": []
    },
    {
      "cell_type": "code",
      "metadata": {
        "id": "d95lV2wvaU3t"
      },
      "source": [
        "def plot_confusion_matrix(cm, classes,\n",
        "                          normalize=False,\n",
        "                          title='Confusion matrix',\n",
        "                          cmap=plt.cm.Blues):\n",
        "    \"\"\"\n",
        "    This function prints and plots the confusion matrix.\n",
        "    Normalization can be applied by setting `normalize=True`.\n",
        "    \"\"\"\n",
        "    if normalize:\n",
        "        cm = cm.astype('float') / cm.sum(axis=1)[:, np.newaxis]\n",
        "        print(\"Normalized confusion matrix\")\n",
        "    else:\n",
        "        print('Confusion matrix, without normalization')\n",
        "\n",
        "    print(cm)\n",
        "\n",
        "    plt.imshow(cm, interpolation='nearest', cmap=cmap)\n",
        "    plt.title(title)\n",
        "    plt.colorbar()\n",
        "    tick_marks = np.arange(len(classes))\n",
        "    plt.xticks(tick_marks, classes, rotation=45)\n",
        "    plt.yticks(tick_marks, classes)\n",
        "\n",
        "    fmt = '.2f' if normalize else 'd'\n",
        "    thresh = cm.max() / 2.\n",
        "    for i, j in itertools.product(range(cm.shape[0]), range(cm.shape[1])):\n",
        "        plt.text(j, i, format(cm[i, j], fmt),\n",
        "                 horizontalalignment=\"center\",\n",
        "                 color=\"white\" if cm[i, j] > thresh else \"black\")\n",
        "\n",
        "    plt.tight_layout()\n",
        "    plt.ylabel('True label')\n",
        "    plt.xlabel('Predicted label')"
      ],
      "execution_count": 19,
      "outputs": []
    },
    {
      "cell_type": "code",
      "metadata": {
        "id": "k94K5nFKaU3t",
        "colab": {
          "base_uri": "https://localhost:8080/",
          "height": 515
        },
        "outputId": "f59925b0-6150-4db0-d52b-3c94951d089c"
      },
      "source": [
        "# Compute confusion matrix\n",
        "cnf_matrix = confusion_matrix(y_test, yhat, labels=[0,1])\n",
        "np.set_printoptions(precision=2)\n",
        "\n",
        "print (classification_report(y_test, yhat))\n",
        "\n",
        "# Plot non-normalized confusion matrix\n",
        "plt.figure()\n",
        "plot_confusion_matrix(cnf_matrix, classes=['Not Recovered','Recovered'],normalize= False,  title='Confusion matrix')"
      ],
      "execution_count": 21,
      "outputs": [
        {
          "output_type": "stream",
          "name": "stdout",
          "text": [
            "              precision    recall  f1-score   support\n",
            "\n",
            "           0       1.00      0.58      0.74        12\n",
            "           1       0.64      1.00      0.78         9\n",
            "\n",
            "    accuracy                           0.76        21\n",
            "   macro avg       0.82      0.79      0.76        21\n",
            "weighted avg       0.85      0.76      0.76        21\n",
            "\n",
            "Confusion matrix, without normalization\n",
            "[[7 5]\n",
            " [0 9]]\n"
          ]
        },
        {
          "output_type": "display_data",
          "data": {
            "image/png": "[encoded data removed]",
            "text/plain": [
              "<Figure size 432x288 with 2 Axes>"
            ]
          },
          "metadata": {
            "needs_background": "light"
          }
        }
      ]
    },
    {
      "cell_type": "markdown",
      "metadata": {
        "id": "Pihj3Z-LaU3t"
      },
      "source": [
        "You can also easily use the **f1\\_score** from sklearn library:\n"
      ]
    },
    {
      "cell_type": "code",
      "metadata": {
        "id": "pPL5F1mMaU3t",
        "colab": {
          "base_uri": "https://localhost:8080/"
        },
        "outputId": "e4cc7266-82f7-4f0c-9fe3-3490634ece6e"
      },
      "source": [
        "from sklearn.metrics import f1_score\n",
        "f1_score(y_test, yhat, average='weighted') "
      ],
      "execution_count": 22,
      "outputs": [
        {
          "output_type": "execute_result",
          "data": {
            "text/plain": [
              "0.756456358287022"
            ]
          },
          "metadata": {},
          "execution_count": 22
        }
      ]
    },
    {
      "cell_type": "markdown",
      "metadata": {
        "id": "0pyp4fg3aU3t"
      },
      "source": [
        "Let's try the jaccard index for accuracy:\n"
      ]
    },
    {
      "cell_type": "code",
      "metadata": {
        "id": "tgA94WVmaU3u",
        "colab": {
          "base_uri": "https://localhost:8080/"
        },
        "outputId": "2a03ea97-259c-42e3-9cd2-8dca627c132b"
      },
      "source": [
        "from sklearn.metrics import jaccard_score\n",
        "jaccard_score(y_test, yhat,pos_label=1)"
      ],
      "execution_count": 24,
      "outputs": [
        {
          "output_type": "execute_result",
          "data": {
            "text/plain": [
              "0.6428571428571429"
            ]
          },
          "metadata": {},
          "execution_count": 24
        }
      ]
    },
    {
      "cell_type": "code",
      "metadata": {
        "id": "0zi1Q3bVaU3u",
        "colab": {
          "base_uri": "https://localhost:8080/"
        },
        "outputId": "693c13ec-de22-4456-fe49-b932e6fdbb8f"
      },
      "source": [
        "# write your code here\n",
        "clf2 = svm.SVC(kernel='linear')\n",
        "clf2.fit(X_train, y_train) \n",
        "yhat2 = clf2.predict(X_test)\n",
        "print(\"Avg F1-score: %.4f\" % f1_score(y_test, yhat2, average='weighted'))\n",
        "print(\"Jaccard score: %.4f\" % jaccard_score(y_test, yhat2,pos_label=1))\n"
      ],
      "execution_count": 26,
      "outputs": [
        {
          "output_type": "stream",
          "name": "stdout",
          "text": [
            "Avg F1-score: 0.9048\n",
            "Jaccard score: 0.8000\n"
          ]
        }
      ]
    },
    {
      "cell_type": "code",
      "metadata": {
        "colab": {
          "base_uri": "https://localhost:8080/",
          "height": 515
        },
        "id": "1xWhYCKkzEBs",
        "outputId": "cb9c369a-0afc-4e8b-b758-348579740e91"
      },
      "source": [
        "# Compute confusion matrix\n",
        "cnf_matrix = confusion_matrix(y_test, yhat2, labels=[0,1])\n",
        "np.set_printoptions(precision=2)\n",
        "\n",
        "print (classification_report(y_test, yhat2))\n",
        "\n",
        "# Plot non-normalized confusion matrix\n",
        "plt.figure()\n",
        "plot_confusion_matrix(cnf_matrix, classes=['Not Recovered','Recovered'],normalize= False,  title='Confusion matrix')"
      ],
      "execution_count": 27,
      "outputs": [
        {
          "output_type": "stream",
          "name": "stdout",
          "text": [
            "              precision    recall  f1-score   support\n",
            "\n",
            "           0       0.92      0.92      0.92        12\n",
            "           1       0.89      0.89      0.89         9\n",
            "\n",
            "    accuracy                           0.90        21\n",
            "   macro avg       0.90      0.90      0.90        21\n",
            "weighted avg       0.90      0.90      0.90        21\n",
            "\n",
            "Confusion matrix, without normalization\n",
            "[[11  1]\n",
            " [ 1  8]]\n"
          ]
        },
        {
          "output_type": "display_data",
          "data": {
            "image/png": "[encoded data removed]",
            "text/plain": [
              "<Figure size 432x288 with 2 Axes>"
            ]
          },
          "metadata": {
            "needs_background": "light"
          }
        }
      ]
    },
    {
      "cell_type": "code",
      "metadata": {
        "colab": {
          "base_uri": "https://localhost:8080/"
        },
        "id": "MvsP5Y_zzRWE",
        "outputId": "109e7082-be04-4173-d11d-72856226910e"
      },
      "source": [
        "feature_df2 = df[['Age', 'Red_blood_cell_distribution_width', 'Ventilated-Yes', 'Antibiotics','Antibiotics,  O2','Antibiotics,  O3-O9','Paracetamol, Antibiotics,  O2','Recovered']]\n",
        "X1 = np.asarray(feature_df2)\n",
        "X1[0:5]"
      ],
      "execution_count": 30,
      "outputs": [
        {
          "output_type": "execute_result",
          "data": {
            "text/plain": [
              "array([[51. , 13.2,  1. ,  0. ,  1. ,  0. ,  0. ,  0. ],\n",
              "       [65. , 40. ,  1. ,  0. ,  0. ,  0. ,  1. ,  0. ],\n",
              "       [32. , 11.7,  0. ,  0. ,  1. ,  0. ,  0. ,  1. ],\n",
              "       [36. , 13. ,  0. ,  0. ,  1. ,  0. ,  0. ,  1. ],\n",
              "       [46. , 31. ,  0. ,  0. ,  0. ,  0. ,  1. ,  1. ]])"
            ]
          },
          "metadata": {},
          "execution_count": 30
        }
      ]
    },
    {
      "cell_type": "code",
      "metadata": {
        "colab": {
          "base_uri": "https://localhost:8080/"
        },
        "id": "jPIkoz_DzaSs",
        "outputId": "a009affd-9e07-4570-8bee-1a499654957d"
      },
      "source": [
        "X_train1, X_test1, y_train1, y_test1 = train_test_split( X1, y, test_size=0.2, random_state=4)\n",
        "print ('Train set:', X_train1.shape,  y_train1.shape)\n",
        "print ('Test set:', X_test1.shape,  y_test1.shape)"
      ],
      "execution_count": 31,
      "outputs": [
        {
          "output_type": "stream",
          "name": "stdout",
          "text": [
            "Train set: (82, 8) (82,)\n",
            "Test set: (21, 8) (21,)\n"
          ]
        }
      ]
    },
    {
      "cell_type": "code",
      "metadata": {
        "colab": {
          "base_uri": "https://localhost:8080/"
        },
        "id": "eHMTZ8hQzwl6",
        "outputId": "0d74269e-d1e9-46d2-d93c-f39cd66e9eb6"
      },
      "source": [
        "# write your code here\n",
        "clf3 = svm.SVC(kernel='linear')\n",
        "clf3.fit(X_train1, y_train1) \n",
        "yhat3 = clf3.predict(X_test1)\n",
        "print(\"Avg F1-score: %.4f\" % f1_score(y_test1, yhat3, average='weighted'))\n",
        "print(\"Jaccard score: %.4f\" % jaccard_score(y_test1, yhat3,pos_label=1))\n"
      ],
      "execution_count": 35,
      "outputs": [
        {
          "output_type": "stream",
          "name": "stdout",
          "text": [
            "Avg F1-score: 1.0000\n",
            "Jaccard score: 1.0000\n"
          ]
        }
      ]
    },
    {
      "cell_type": "code",
      "metadata": {
        "colab": {
          "base_uri": "https://localhost:8080/"
        },
        "id": "13CnoKnV0NPq",
        "outputId": "eb3051a6-3844-4c29-9e60-9c40b70cf495"
      },
      "source": [
        "# write your code here\n",
        "clf3 = svm.SVC(kernel='poly')\n",
        "clf3.fit(X_train1, y_train1) \n",
        "yhat3 = clf3.predict(X_test1)\n",
        "print(\"Avg F1-score: %.4f\" % f1_score(y_test1, yhat3, average='weighted'))\n",
        "print(\"Jaccard score: %.4f\" % jaccard_score(y_test1, yhat3,pos_label=1))\n"
      ],
      "execution_count": 36,
      "outputs": [
        {
          "output_type": "stream",
          "name": "stdout",
          "text": [
            "Avg F1-score: 0.9052\n",
            "Jaccard score: 0.8182\n"
          ]
        }
      ]
    },
    {
      "cell_type": "code",
      "metadata": {
        "id": "nXCFzPy90g1S"
      },
      "source": [
        ""
      ],
      "execution_count": null,
      "outputs": []
    }
  ]
}