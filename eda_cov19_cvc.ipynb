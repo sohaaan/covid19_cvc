{
  "nbformat": 4,
  "nbformat_minor": 0,
  "metadata": {
    "anaconda-cloud": {},
    "kernelspec": {
      "display_name": "Python",
      "language": "python",
      "name": "conda-env-python-py"
    },
    "language_info": {
      "codemirror_mode": {
        "name": "ipython",
        "version": 3
      },
      "file_extension": ".py",
      "mimetype": "text/x-python",
      "name": "python",
      "nbconvert_exporter": "python",
      "pygments_lexer": "ipython3",
      "version": "3.6.13"
    },
    "colab": {
      "name": "eda_cov19_cvc",
      "provenance": [],
      "collapsed_sections": []
    }
  },
  "cells": [
    {
      "cell_type": "markdown",
      "metadata": {
        "id": "Ou9YALPcp5sZ"
      },
      "source": [
        "Import libraries:\n"
      ]
    },
    {
      "cell_type": "code",
      "metadata": {
        "id": "ZG-n79V7p5sa"
      },
      "source": [
        "import pandas as pd\n",
        "import numpy as np"
      ],
      "execution_count": 2,
      "outputs": []
    },
    {
      "cell_type": "code",
      "metadata": {
        "id": "-Gr5gz1Pp5sd",
        "colab": {
          "base_uri": "https://localhost:8080/",
          "height": 360
        },
        "outputId": "71f8efc7-f734-4141-8182-ec5da8cccb13"
      },
      "source": [
        "df = pd.read_csv('cov19_cvc_cleaned.csv')\n",
        "df.head()"
      ],
      "execution_count": 3,
      "outputs": [
        {
          "output_type": "execute_result",
          "data": {
            "text/html": [
              "<div>\n",
              "<style scoped>\n",
              "    .dataframe tbody tr th:only-of-type {\n",
              "        vertical-align: middle;\n",
              "    }\n",
              "\n",
              "    .dataframe tbody tr th {\n",
              "        vertical-align: top;\n",
              "    }\n",
              "\n",
              "    .dataframe thead th {\n",
              "        text-align: right;\n",
              "    }\n",
              "</style>\n",
              "<table border=\"1\" class=\"dataframe\">\n",
              "  <thead>\n",
              "    <tr style=\"text-align: right;\">\n",
              "      <th></th>\n",
              "      <th>Unnamed: 0</th>\n",
              "      <th>Admission_Date</th>\n",
              "      <th>Discharge_DATE</th>\n",
              "      <th>Outcome</th>\n",
              "      <th>Age</th>\n",
              "      <th>Gender</th>\n",
              "      <th>Sample_Collection_Date</th>\n",
              "      <th>Treatment</th>\n",
              "      <th>Ventilated (Y/N)</th>\n",
              "      <th>Red_blood_cell_distribution_width</th>\n",
              "      <th>Monocytes(%)</th>\n",
              "      <th>White_blood_cell_count</th>\n",
              "      <th>Platelet_Count</th>\n",
              "      <th>Lymphocyte_Count</th>\n",
              "      <th>Neutrophils_Count</th>\n",
              "      <th>Lymphocyte_Count_Binned</th>\n",
              "      <th>Ventilated-No</th>\n",
              "      <th>Ventilated-Yes</th>\n",
              "    </tr>\n",
              "  </thead>\n",
              "  <tbody>\n",
              "    <tr>\n",
              "      <th>0</th>\n",
              "      <td>1</td>\n",
              "      <td>8/10/2020</td>\n",
              "      <td>8/8/2020</td>\n",
              "      <td>Not Recovered</td>\n",
              "      <td>51</td>\n",
              "      <td>Male</td>\n",
              "      <td>8/10/2020</td>\n",
              "      <td>Antibiotics,  O2</td>\n",
              "      <td>Yes</td>\n",
              "      <td>13.2</td>\n",
              "      <td>3.3</td>\n",
              "      <td>21.00</td>\n",
              "      <td>462.00</td>\n",
              "      <td>0.44</td>\n",
              "      <td>19.43</td>\n",
              "      <td>less than 5</td>\n",
              "      <td>0</td>\n",
              "      <td>1</td>\n",
              "    </tr>\n",
              "    <tr>\n",
              "      <th>1</th>\n",
              "      <td>2</td>\n",
              "      <td>7/24/2020</td>\n",
              "      <td>8/5/2020</td>\n",
              "      <td>Not Recovered</td>\n",
              "      <td>65</td>\n",
              "      <td>Female</td>\n",
              "      <td>7/24/2020</td>\n",
              "      <td>Paracetamol, Antibiotics,  O2</td>\n",
              "      <td>Yes</td>\n",
              "      <td>40.0</td>\n",
              "      <td>3.0</td>\n",
              "      <td>8.79</td>\n",
              "      <td>180.66</td>\n",
              "      <td>4.39</td>\n",
              "      <td>7.56</td>\n",
              "      <td>less than 5</td>\n",
              "      <td>0</td>\n",
              "      <td>1</td>\n",
              "    </tr>\n",
              "    <tr>\n",
              "      <th>2</th>\n",
              "      <td>3</td>\n",
              "      <td>7/22/2020</td>\n",
              "      <td>8/8/2020</td>\n",
              "      <td>Recovered</td>\n",
              "      <td>32</td>\n",
              "      <td>Male</td>\n",
              "      <td>7/22/2020</td>\n",
              "      <td>Antibiotics,  O2</td>\n",
              "      <td>No</td>\n",
              "      <td>11.7</td>\n",
              "      <td>5.3</td>\n",
              "      <td>9.90</td>\n",
              "      <td>336.00</td>\n",
              "      <td>3.47</td>\n",
              "      <td>5.34</td>\n",
              "      <td>less than 5</td>\n",
              "      <td>1</td>\n",
              "      <td>0</td>\n",
              "    </tr>\n",
              "    <tr>\n",
              "      <th>3</th>\n",
              "      <td>4</td>\n",
              "      <td>7/19/2020</td>\n",
              "      <td>8/5/2020</td>\n",
              "      <td>Recovered</td>\n",
              "      <td>36</td>\n",
              "      <td>Female</td>\n",
              "      <td>7/19/2020</td>\n",
              "      <td>Antibiotics,  O2</td>\n",
              "      <td>No</td>\n",
              "      <td>13.0</td>\n",
              "      <td>5.0</td>\n",
              "      <td>9.95</td>\n",
              "      <td>240.10</td>\n",
              "      <td>0.80</td>\n",
              "      <td>8.66</td>\n",
              "      <td>less than 5</td>\n",
              "      <td>1</td>\n",
              "      <td>0</td>\n",
              "    </tr>\n",
              "    <tr>\n",
              "      <th>4</th>\n",
              "      <td>5</td>\n",
              "      <td>7/18/2020</td>\n",
              "      <td>8/5/2020</td>\n",
              "      <td>Recovered</td>\n",
              "      <td>46</td>\n",
              "      <td>Male</td>\n",
              "      <td>7/18/2020</td>\n",
              "      <td>Paracetamol, Antibiotics,  O2</td>\n",
              "      <td>No</td>\n",
              "      <td>31.0</td>\n",
              "      <td>3.0</td>\n",
              "      <td>14.15</td>\n",
              "      <td>236.58</td>\n",
              "      <td>7.93</td>\n",
              "      <td>13.02</td>\n",
              "      <td>5 to 11</td>\n",
              "      <td>1</td>\n",
              "      <td>0</td>\n",
              "    </tr>\n",
              "  </tbody>\n",
              "</table>\n",
              "</div>"
            ],
            "text/plain": [
              "   Unnamed: 0 Admission_Date  ... Ventilated-No Ventilated-Yes\n",
              "0           1      8/10/2020  ...             0              1\n",
              "1           2      7/24/2020  ...             0              1\n",
              "2           3      7/22/2020  ...             1              0\n",
              "3           4      7/19/2020  ...             1              0\n",
              "4           5      7/18/2020  ...             1              0\n",
              "\n",
              "[5 rows x 18 columns]"
            ]
          },
          "metadata": {},
          "execution_count": 3
        }
      ]
    },
    {
      "cell_type": "code",
      "metadata": {
        "id": "dMUHEZJte4BD"
      },
      "source": [
        "df[\"Sample_Collection_Date\"].replace(to_replace='0617/2020', value=\"06/17/2020\", inplace=True)\n",
        "df['Sample_Collection'] = pd.to_datetime(df['Sample_Collection_Date']).dt.date"
      ],
      "execution_count": 8,
      "outputs": []
    },
    {
      "cell_type": "code",
      "metadata": {
        "colab": {
          "base_uri": "https://localhost:8080/",
          "height": 360
        },
        "id": "rKlUVeWDdelU",
        "outputId": "06912f14-6e9a-4676-abb3-17eb469315d2"
      },
      "source": [
        "df.head()"
      ],
      "execution_count": 12,
      "outputs": [
        {
          "output_type": "execute_result",
          "data": {
            "text/html": [
              "<div>\n",
              "<style scoped>\n",
              "    .dataframe tbody tr th:only-of-type {\n",
              "        vertical-align: middle;\n",
              "    }\n",
              "\n",
              "    .dataframe tbody tr th {\n",
              "        vertical-align: top;\n",
              "    }\n",
              "\n",
              "    .dataframe thead th {\n",
              "        text-align: right;\n",
              "    }\n",
              "</style>\n",
              "<table border=\"1\" class=\"dataframe\">\n",
              "  <thead>\n",
              "    <tr style=\"text-align: right;\">\n",
              "      <th></th>\n",
              "      <th>Unnamed: 0</th>\n",
              "      <th>Outcome</th>\n",
              "      <th>Age</th>\n",
              "      <th>Gender</th>\n",
              "      <th>Treatment</th>\n",
              "      <th>Ventilated (Y/N)</th>\n",
              "      <th>Red_blood_cell_distribution_width</th>\n",
              "      <th>Monocytes(%)</th>\n",
              "      <th>White_blood_cell_count</th>\n",
              "      <th>Platelet_Count</th>\n",
              "      <th>Lymphocyte_Count</th>\n",
              "      <th>Neutrophils_Count</th>\n",
              "      <th>Lymphocyte_Count_Binned</th>\n",
              "      <th>Ventilated-No</th>\n",
              "      <th>Ventilated-Yes</th>\n",
              "      <th>Discharge</th>\n",
              "      <th>Admission</th>\n",
              "      <th>Sample_Collection</th>\n",
              "    </tr>\n",
              "  </thead>\n",
              "  <tbody>\n",
              "    <tr>\n",
              "      <th>0</th>\n",
              "      <td>1</td>\n",
              "      <td>Not Recovered</td>\n",
              "      <td>51</td>\n",
              "      <td>Male</td>\n",
              "      <td>Antibiotics,  O2</td>\n",
              "      <td>Yes</td>\n",
              "      <td>13.2</td>\n",
              "      <td>3.3</td>\n",
              "      <td>21.00</td>\n",
              "      <td>462.00</td>\n",
              "      <td>0.44</td>\n",
              "      <td>19.43</td>\n",
              "      <td>less than 5</td>\n",
              "      <td>0</td>\n",
              "      <td>1</td>\n",
              "      <td>2020-08-08</td>\n",
              "      <td>2020-08-10</td>\n",
              "      <td>2020-08-10</td>\n",
              "    </tr>\n",
              "    <tr>\n",
              "      <th>1</th>\n",
              "      <td>2</td>\n",
              "      <td>Not Recovered</td>\n",
              "      <td>65</td>\n",
              "      <td>Female</td>\n",
              "      <td>Paracetamol, Antibiotics,  O2</td>\n",
              "      <td>Yes</td>\n",
              "      <td>40.0</td>\n",
              "      <td>3.0</td>\n",
              "      <td>8.79</td>\n",
              "      <td>180.66</td>\n",
              "      <td>4.39</td>\n",
              "      <td>7.56</td>\n",
              "      <td>less than 5</td>\n",
              "      <td>0</td>\n",
              "      <td>1</td>\n",
              "      <td>2020-08-05</td>\n",
              "      <td>2020-07-24</td>\n",
              "      <td>2020-07-24</td>\n",
              "    </tr>\n",
              "    <tr>\n",
              "      <th>2</th>\n",
              "      <td>3</td>\n",
              "      <td>Recovered</td>\n",
              "      <td>32</td>\n",
              "      <td>Male</td>\n",
              "      <td>Antibiotics,  O2</td>\n",
              "      <td>No</td>\n",
              "      <td>11.7</td>\n",
              "      <td>5.3</td>\n",
              "      <td>9.90</td>\n",
              "      <td>336.00</td>\n",
              "      <td>3.47</td>\n",
              "      <td>5.34</td>\n",
              "      <td>less than 5</td>\n",
              "      <td>1</td>\n",
              "      <td>0</td>\n",
              "      <td>2020-08-08</td>\n",
              "      <td>2020-07-22</td>\n",
              "      <td>2020-07-22</td>\n",
              "    </tr>\n",
              "    <tr>\n",
              "      <th>3</th>\n",
              "      <td>4</td>\n",
              "      <td>Recovered</td>\n",
              "      <td>36</td>\n",
              "      <td>Female</td>\n",
              "      <td>Antibiotics,  O2</td>\n",
              "      <td>No</td>\n",
              "      <td>13.0</td>\n",
              "      <td>5.0</td>\n",
              "      <td>9.95</td>\n",
              "      <td>240.10</td>\n",
              "      <td>0.80</td>\n",
              "      <td>8.66</td>\n",
              "      <td>less than 5</td>\n",
              "      <td>1</td>\n",
              "      <td>0</td>\n",
              "      <td>2020-08-05</td>\n",
              "      <td>2020-07-19</td>\n",
              "      <td>2020-07-19</td>\n",
              "    </tr>\n",
              "    <tr>\n",
              "      <th>4</th>\n",
              "      <td>5</td>\n",
              "      <td>Recovered</td>\n",
              "      <td>46</td>\n",
              "      <td>Male</td>\n",
              "      <td>Paracetamol, Antibiotics,  O2</td>\n",
              "      <td>No</td>\n",
              "      <td>31.0</td>\n",
              "      <td>3.0</td>\n",
              "      <td>14.15</td>\n",
              "      <td>236.58</td>\n",
              "      <td>7.93</td>\n",
              "      <td>13.02</td>\n",
              "      <td>5 to 11</td>\n",
              "      <td>1</td>\n",
              "      <td>0</td>\n",
              "      <td>2020-08-05</td>\n",
              "      <td>2020-07-18</td>\n",
              "      <td>2020-07-18</td>\n",
              "    </tr>\n",
              "  </tbody>\n",
              "</table>\n",
              "</div>"
            ],
            "text/plain": [
              "   Unnamed: 0        Outcome  Age  ...   Discharge   Admission Sample_Collection\n",
              "0           1  Not Recovered   51  ...  2020-08-08  2020-08-10        2020-08-10\n",
              "1           2  Not Recovered   65  ...  2020-08-05  2020-07-24        2020-07-24\n",
              "2           3      Recovered   32  ...  2020-08-08  2020-07-22        2020-07-22\n",
              "3           4      Recovered   36  ...  2020-08-05  2020-07-19        2020-07-19\n",
              "4           5      Recovered   46  ...  2020-08-05  2020-07-18        2020-07-18\n",
              "\n",
              "[5 rows x 18 columns]"
            ]
          },
          "metadata": {},
          "execution_count": 12
        }
      ]
    },
    {
      "cell_type": "code",
      "metadata": {
        "id": "X3ZighcqfaKd"
      },
      "source": [
        "df.drop([\"Admission_Date\",\"Discharge_DATE\",\"Sample_Collection_Date\"], axis = 1, inplace=True)"
      ],
      "execution_count": 10,
      "outputs": []
    },
    {
      "cell_type": "code",
      "metadata": {
        "id": "QRqoZRrrgG7B"
      },
      "source": [
        ""
      ],
      "execution_count": null,
      "outputs": []
    },
    {
      "cell_type": "markdown",
      "metadata": {
        "id": "xMybQnrcp5se"
      },
      "source": [
        "<h2 id=\"pattern_visualization\">2. Analyzing Individual Feature Patterns Using Visualization</h2>\n"
      ]
    },
    {
      "cell_type": "code",
      "metadata": {
        "id": "S-twKiXyp5sf"
      },
      "source": [
        "import matplotlib.pyplot as plt\n",
        "import seaborn as sns\n",
        "%matplotlib inline "
      ],
      "execution_count": 13,
      "outputs": []
    },
    {
      "cell_type": "code",
      "metadata": {
        "id": "LKrwu8arp5sg",
        "colab": {
          "base_uri": "https://localhost:8080/"
        },
        "outputId": "0b049bc4-78a8-48f3-a353-03535b685559"
      },
      "source": [
        "\n",
        "# list the data types for each column\n",
        "print(df.dtypes)"
      ],
      "execution_count": 14,
      "outputs": [
        {
          "output_type": "stream",
          "name": "stdout",
          "text": [
            "Unnamed: 0                             int64\n",
            "Outcome                               object\n",
            "Age                                    int64\n",
            "Gender                                object\n",
            "Treatment                             object\n",
            "Ventilated (Y/N)                      object\n",
            "Red_blood_cell_distribution_width    float64\n",
            "Monocytes(%)                         float64\n",
            "White_blood_cell_count               float64\n",
            "Platelet_Count                       float64\n",
            "Lymphocyte_Count                     float64\n",
            "Neutrophils_Count                    float64\n",
            "Lymphocyte_Count_Binned               object\n",
            "Ventilated-No                          int64\n",
            "Ventilated-Yes                         int64\n",
            "Discharge                             object\n",
            "Admission                             object\n",
            "Sample_Collection                     object\n",
            "dtype: object\n"
          ]
        }
      ]
    },
    {
      "cell_type": "code",
      "metadata": {
        "id": "B-51C8YVp5sh",
        "colab": {
          "base_uri": "https://localhost:8080/",
          "height": 396
        },
        "outputId": "369afe40-a6a9-4a98-a0b1-a8fb80694af8"
      },
      "source": [
        "df.corr()"
      ],
      "execution_count": 15,
      "outputs": [
        {
          "output_type": "execute_result",
          "data": {
            "text/html": [
              "<div>\n",
              "<style scoped>\n",
              "    .dataframe tbody tr th:only-of-type {\n",
              "        vertical-align: middle;\n",
              "    }\n",
              "\n",
              "    .dataframe tbody tr th {\n",
              "        vertical-align: top;\n",
              "    }\n",
              "\n",
              "    .dataframe thead th {\n",
              "        text-align: right;\n",
              "    }\n",
              "</style>\n",
              "<table border=\"1\" class=\"dataframe\">\n",
              "  <thead>\n",
              "    <tr style=\"text-align: right;\">\n",
              "      <th></th>\n",
              "      <th>Unnamed: 0</th>\n",
              "      <th>Age</th>\n",
              "      <th>Red_blood_cell_distribution_width</th>\n",
              "      <th>Monocytes(%)</th>\n",
              "      <th>White_blood_cell_count</th>\n",
              "      <th>Platelet_Count</th>\n",
              "      <th>Lymphocyte_Count</th>\n",
              "      <th>Neutrophils_Count</th>\n",
              "      <th>Ventilated-No</th>\n",
              "      <th>Ventilated-Yes</th>\n",
              "    </tr>\n",
              "  </thead>\n",
              "  <tbody>\n",
              "    <tr>\n",
              "      <th>Unnamed: 0</th>\n",
              "      <td>1.000000</td>\n",
              "      <td>-0.172279</td>\n",
              "      <td>-0.135893</td>\n",
              "      <td>-0.300878</td>\n",
              "      <td>-0.156680</td>\n",
              "      <td>-0.433765</td>\n",
              "      <td>0.037795</td>\n",
              "      <td>-0.099210</td>\n",
              "      <td>0.404539</td>\n",
              "      <td>-0.404539</td>\n",
              "    </tr>\n",
              "    <tr>\n",
              "      <th>Age</th>\n",
              "      <td>-0.172279</td>\n",
              "      <td>1.000000</td>\n",
              "      <td>0.126425</td>\n",
              "      <td>0.150397</td>\n",
              "      <td>-0.060969</td>\n",
              "      <td>-0.158683</td>\n",
              "      <td>0.010463</td>\n",
              "      <td>0.134431</td>\n",
              "      <td>-0.513368</td>\n",
              "      <td>0.513368</td>\n",
              "    </tr>\n",
              "    <tr>\n",
              "      <th>Red_blood_cell_distribution_width</th>\n",
              "      <td>-0.135893</td>\n",
              "      <td>0.126425</td>\n",
              "      <td>1.000000</td>\n",
              "      <td>-0.128371</td>\n",
              "      <td>0.063359</td>\n",
              "      <td>-0.065350</td>\n",
              "      <td>0.458238</td>\n",
              "      <td>0.330845</td>\n",
              "      <td>-0.320077</td>\n",
              "      <td>0.320077</td>\n",
              "    </tr>\n",
              "    <tr>\n",
              "      <th>Monocytes(%)</th>\n",
              "      <td>-0.300878</td>\n",
              "      <td>0.150397</td>\n",
              "      <td>-0.128371</td>\n",
              "      <td>1.000000</td>\n",
              "      <td>-0.305091</td>\n",
              "      <td>-0.051753</td>\n",
              "      <td>-0.356333</td>\n",
              "      <td>-0.286704</td>\n",
              "      <td>-0.243414</td>\n",
              "      <td>0.243414</td>\n",
              "    </tr>\n",
              "    <tr>\n",
              "      <th>White_blood_cell_count</th>\n",
              "      <td>-0.156680</td>\n",
              "      <td>-0.060969</td>\n",
              "      <td>0.063359</td>\n",
              "      <td>-0.305091</td>\n",
              "      <td>1.000000</td>\n",
              "      <td>0.199980</td>\n",
              "      <td>0.375280</td>\n",
              "      <td>0.438633</td>\n",
              "      <td>-0.054333</td>\n",
              "      <td>0.054333</td>\n",
              "    </tr>\n",
              "    <tr>\n",
              "      <th>Platelet_Count</th>\n",
              "      <td>-0.433765</td>\n",
              "      <td>-0.158683</td>\n",
              "      <td>-0.065350</td>\n",
              "      <td>-0.051753</td>\n",
              "      <td>0.199980</td>\n",
              "      <td>1.000000</td>\n",
              "      <td>0.016676</td>\n",
              "      <td>0.296369</td>\n",
              "      <td>0.114119</td>\n",
              "      <td>-0.114119</td>\n",
              "    </tr>\n",
              "    <tr>\n",
              "      <th>Lymphocyte_Count</th>\n",
              "      <td>0.037795</td>\n",
              "      <td>0.010463</td>\n",
              "      <td>0.458238</td>\n",
              "      <td>-0.356333</td>\n",
              "      <td>0.375280</td>\n",
              "      <td>0.016676</td>\n",
              "      <td>1.000000</td>\n",
              "      <td>0.797521</td>\n",
              "      <td>-0.027449</td>\n",
              "      <td>0.027449</td>\n",
              "    </tr>\n",
              "    <tr>\n",
              "      <th>Neutrophils_Count</th>\n",
              "      <td>-0.099210</td>\n",
              "      <td>0.134431</td>\n",
              "      <td>0.330845</td>\n",
              "      <td>-0.286704</td>\n",
              "      <td>0.438633</td>\n",
              "      <td>0.296369</td>\n",
              "      <td>0.797521</td>\n",
              "      <td>1.000000</td>\n",
              "      <td>-0.206399</td>\n",
              "      <td>0.206399</td>\n",
              "    </tr>\n",
              "    <tr>\n",
              "      <th>Ventilated-No</th>\n",
              "      <td>0.404539</td>\n",
              "      <td>-0.513368</td>\n",
              "      <td>-0.320077</td>\n",
              "      <td>-0.243414</td>\n",
              "      <td>-0.054333</td>\n",
              "      <td>0.114119</td>\n",
              "      <td>-0.027449</td>\n",
              "      <td>-0.206399</td>\n",
              "      <td>1.000000</td>\n",
              "      <td>-1.000000</td>\n",
              "    </tr>\n",
              "    <tr>\n",
              "      <th>Ventilated-Yes</th>\n",
              "      <td>-0.404539</td>\n",
              "      <td>0.513368</td>\n",
              "      <td>0.320077</td>\n",
              "      <td>0.243414</td>\n",
              "      <td>0.054333</td>\n",
              "      <td>-0.114119</td>\n",
              "      <td>0.027449</td>\n",
              "      <td>0.206399</td>\n",
              "      <td>-1.000000</td>\n",
              "      <td>1.000000</td>\n",
              "    </tr>\n",
              "  </tbody>\n",
              "</table>\n",
              "</div>"
            ],
            "text/plain": [
              "                                   Unnamed: 0  ...  Ventilated-Yes\n",
              "Unnamed: 0                           1.000000  ...       -0.404539\n",
              "Age                                 -0.172279  ...        0.513368\n",
              "Red_blood_cell_distribution_width   -0.135893  ...        0.320077\n",
              "Monocytes(%)                        -0.300878  ...        0.243414\n",
              "White_blood_cell_count              -0.156680  ...        0.054333\n",
              "Platelet_Count                      -0.433765  ...       -0.114119\n",
              "Lymphocyte_Count                     0.037795  ...        0.027449\n",
              "Neutrophils_Count                   -0.099210  ...        0.206399\n",
              "Ventilated-No                        0.404539  ...       -1.000000\n",
              "Ventilated-Yes                      -0.404539  ...        1.000000\n",
              "\n",
              "[10 rows x 10 columns]"
            ]
          },
          "metadata": {},
          "execution_count": 15
        }
      ]
    },
    {
      "cell_type": "code",
      "metadata": {
        "colab": {
          "base_uri": "https://localhost:8080/",
          "height": 224
        },
        "id": "TUlGff7lkSQF",
        "outputId": "91dbe828-4009-4adf-8b66-f55dc9cb5822"
      },
      "source": [
        "df[['Red_blood_cell_distribution_width','White_blood_cell_count','Platelet_Count','Neutrophils_Count','Lymphocyte_Count']].corr()"
      ],
      "execution_count": 28,
      "outputs": [
        {
          "output_type": "execute_result",
          "data": {
            "text/html": [
              "<div>\n",
              "<style scoped>\n",
              "    .dataframe tbody tr th:only-of-type {\n",
              "        vertical-align: middle;\n",
              "    }\n",
              "\n",
              "    .dataframe tbody tr th {\n",
              "        vertical-align: top;\n",
              "    }\n",
              "\n",
              "    .dataframe thead th {\n",
              "        text-align: right;\n",
              "    }\n",
              "</style>\n",
              "<table border=\"1\" class=\"dataframe\">\n",
              "  <thead>\n",
              "    <tr style=\"text-align: right;\">\n",
              "      <th></th>\n",
              "      <th>Red_blood_cell_distribution_width</th>\n",
              "      <th>White_blood_cell_count</th>\n",
              "      <th>Platelet_Count</th>\n",
              "      <th>Neutrophils_Count</th>\n",
              "      <th>Lymphocyte_Count</th>\n",
              "    </tr>\n",
              "  </thead>\n",
              "  <tbody>\n",
              "    <tr>\n",
              "      <th>Red_blood_cell_distribution_width</th>\n",
              "      <td>1.000000</td>\n",
              "      <td>0.063359</td>\n",
              "      <td>-0.065350</td>\n",
              "      <td>0.330845</td>\n",
              "      <td>0.458238</td>\n",
              "    </tr>\n",
              "    <tr>\n",
              "      <th>White_blood_cell_count</th>\n",
              "      <td>0.063359</td>\n",
              "      <td>1.000000</td>\n",
              "      <td>0.199980</td>\n",
              "      <td>0.438633</td>\n",
              "      <td>0.375280</td>\n",
              "    </tr>\n",
              "    <tr>\n",
              "      <th>Platelet_Count</th>\n",
              "      <td>-0.065350</td>\n",
              "      <td>0.199980</td>\n",
              "      <td>1.000000</td>\n",
              "      <td>0.296369</td>\n",
              "      <td>0.016676</td>\n",
              "    </tr>\n",
              "    <tr>\n",
              "      <th>Neutrophils_Count</th>\n",
              "      <td>0.330845</td>\n",
              "      <td>0.438633</td>\n",
              "      <td>0.296369</td>\n",
              "      <td>1.000000</td>\n",
              "      <td>0.797521</td>\n",
              "    </tr>\n",
              "    <tr>\n",
              "      <th>Lymphocyte_Count</th>\n",
              "      <td>0.458238</td>\n",
              "      <td>0.375280</td>\n",
              "      <td>0.016676</td>\n",
              "      <td>0.797521</td>\n",
              "      <td>1.000000</td>\n",
              "    </tr>\n",
              "  </tbody>\n",
              "</table>\n",
              "</div>"
            ],
            "text/plain": [
              "                                   Red_blood_cell_distribution_width  ...  Lymphocyte_Count\n",
              "Red_blood_cell_distribution_width                           1.000000  ...          0.458238\n",
              "White_blood_cell_count                                      0.063359  ...          0.375280\n",
              "Platelet_Count                                             -0.065350  ...          0.016676\n",
              "Neutrophils_Count                                           0.330845  ...          0.797521\n",
              "Lymphocyte_Count                                            0.458238  ...          1.000000\n",
              "\n",
              "[5 rows x 5 columns]"
            ]
          },
          "metadata": {},
          "execution_count": 28
        }
      ]
    },
    {
      "cell_type": "markdown",
      "metadata": {
        "id": "yraPJQFnp5si"
      },
      "source": [
        "<h3>Positive Linear Relationship</h4>\n"
      ]
    },
    {
      "cell_type": "code",
      "metadata": {
        "scrolled": true,
        "id": "eNpi1ZYpp5si",
        "colab": {
          "base_uri": "https://localhost:8080/",
          "height": 280
        },
        "outputId": "5595299f-fce1-40db-8ccb-9ac596957def"
      },
      "source": [
        "sns.regplot(y=\"Ventilated-Yes\", x=\"Red_blood_cell_distribution_width\", data=df)\n",
        "plt.ylim(0,)\n",
        "plt.show()"
      ],
      "execution_count": 22,
      "outputs": [
        {
          "output_type": "display_data",
          "data": {
            "image/png": "[encoded data removed]",
            "text/plain": [
              "<Figure size 432x288 with 1 Axes>"
            ]
          },
          "metadata": {
            "needs_background": "light"
          }
        }
      ]
    },
    {
      "cell_type": "code",
      "metadata": {
        "colab": {
          "base_uri": "https://localhost:8080/",
          "height": 280
        },
        "id": "gQNh6SzLiOA8",
        "outputId": "b9dbe941-aba8-4532-dbc1-6dda55bb7b3d"
      },
      "source": [
        "sns.regplot(y=\"Ventilated-Yes\", x=\"Neutrophils_Count\", data=df)\n",
        "plt.ylim(0,)\n",
        "plt.show()"
      ],
      "execution_count": 24,
      "outputs": [
        {
          "output_type": "display_data",
          "data": {
            "image/png": "[encoded data removed]",
            "text/plain": [
              "<Figure size 432x288 with 1 Axes>"
            ]
          },
          "metadata": {
            "needs_background": "light"
          }
        }
      ]
    },
    {
      "cell_type": "code",
      "metadata": {
        "colab": {
          "base_uri": "https://localhost:8080/",
          "height": 280
        },
        "id": "RVnH8CGfidye",
        "outputId": "fa71d24c-caea-4e6d-d952-865bc80cd930"
      },
      "source": [
        "sns.regplot(y=\"Neutrophils_Count\", x=\"Lymphocyte_Count\", data=df)\n",
        "plt.ylim(0,)\n",
        "plt.show()"
      ],
      "execution_count": 29,
      "outputs": [
        {
          "output_type": "display_data",
          "data": {
            "image/png": "[encoded data removed]",
            "text/plain": [
              "<Figure size 432x288 with 1 Axes>"
            ]
          },
          "metadata": {
            "needs_background": "light"
          }
        }
      ]
    },
    {
      "cell_type": "code",
      "metadata": {
        "id": "bMsC4VpVp5sk",
        "colab": {
          "base_uri": "https://localhost:8080/",
          "height": 300
        },
        "outputId": "3528ab33-e31d-4735-96fb-f00192f2de5e"
      },
      "source": [
        "sns.regplot(x=\"Platelet_Count\", y=\"Ventilated-Yes\", data=df)"
      ],
      "execution_count": 31,
      "outputs": [
        {
          "output_type": "execute_result",
          "data": {
            "text/plain": [
              "<matplotlib.axes._subplots.AxesSubplot at 0x7fbd3e5adb90>"
            ]
          },
          "metadata": {},
          "execution_count": 31
        },
        {
          "output_type": "display_data",
          "data": {
            "image/png": "[encoded data removed]",
            "text/plain": [
              "<Figure size 432x288 with 1 Axes>"
            ]
          },
          "metadata": {
            "needs_background": "light"
          }
        }
      ]
    },
    {
      "cell_type": "code",
      "metadata": {
        "scrolled": true,
        "id": "5h1bs46tp5sl",
        "colab": {
          "base_uri": "https://localhost:8080/",
          "height": 296
        },
        "outputId": "455a44f7-eed0-479b-fc70-b8a257320379"
      },
      "source": [
        "sns.boxplot(x=\"Outcome\", y=\"Platelet_Count\", data=df)\n"
      ],
      "execution_count": 32,
      "outputs": [
        {
          "output_type": "execute_result",
          "data": {
            "text/plain": [
              "<matplotlib.axes._subplots.AxesSubplot at 0x7fbd3e8482d0>"
            ]
          },
          "metadata": {},
          "execution_count": 32
        },
        {
          "output_type": "display_data",
          "data": {
            "image/png": "[encoded data removed]",
            "text/plain": [
              "<Figure size 432x288 with 1 Axes>"
            ]
          },
          "metadata": {
            "needs_background": "light"
          }
        }
      ]
    },
    {
      "cell_type": "code",
      "metadata": {
        "scrolled": true,
        "id": "SO2KN3aWp5sm",
        "colab": {
          "base_uri": "https://localhost:8080/",
          "height": 296
        },
        "outputId": "e8f4f63d-5af3-4724-e7ee-bd44f6c9e932"
      },
      "source": [
        "sns.boxplot(x=\"Outcome\", y=\"Ventilated-Yes\", data=df)"
      ],
      "execution_count": 37,
      "outputs": [
        {
          "output_type": "execute_result",
          "data": {
            "text/plain": [
              "<matplotlib.axes._subplots.AxesSubplot at 0x7fbd3e7a3cd0>"
            ]
          },
          "metadata": {},
          "execution_count": 37
        },
        {
          "output_type": "display_data",
          "data": {
            "image/png": "[encoded data removed]",
            "text/plain": [
              "<Figure size 432x288 with 1 Axes>"
            ]
          },
          "metadata": {
            "needs_background": "light"
          }
        }
      ]
    },
    {
      "cell_type": "markdown",
      "metadata": {
        "id": "OsXPIGBOp5sm"
      },
      "source": [
        "<p>Here we see that the distribution of price between these two engine-location categories, front and rear, are distinct enough to take engine-location as a potential good predictor of price.</p>\n"
      ]
    },
    {
      "cell_type": "code",
      "metadata": {
        "colab": {
          "base_uri": "https://localhost:8080/",
          "height": 296
        },
        "id": "WK14qGw5l1co",
        "outputId": "dc79f927-4b1f-40dd-f4dd-5fa540f5082e"
      },
      "source": [
        "sns.boxplot(x=\"Outcome\", y=\"Red_blood_cell_distribution_width\", data=df)"
      ],
      "execution_count": 34,
      "outputs": [
        {
          "output_type": "execute_result",
          "data": {
            "text/plain": [
              "<matplotlib.axes._subplots.AxesSubplot at 0x7fbd3e5d8350>"
            ]
          },
          "metadata": {},
          "execution_count": 34
        },
        {
          "output_type": "display_data",
          "data": {
            "image/png": "[encoded data removed]",
            "text/plain": [
              "<Figure size 432x288 with 1 Axes>"
            ]
          },
          "metadata": {
            "needs_background": "light"
          }
        }
      ]
    },
    {
      "cell_type": "code",
      "metadata": {
        "colab": {
          "base_uri": "https://localhost:8080/",
          "height": 204
        },
        "id": "j8ShGSX_miXy",
        "outputId": "9b4e2eb4-95c7-470f-9d82-ae310919b6ef"
      },
      "source": [
        "dummy_variable_1 = pd.get_dummies(df[\"Outcome\"])\n",
        "dummy_variable_1.head()"
      ],
      "execution_count": 38,
      "outputs": [
        {
          "output_type": "execute_result",
          "data": {
            "text/html": [
              "<div>\n",
              "<style scoped>\n",
              "    .dataframe tbody tr th:only-of-type {\n",
              "        vertical-align: middle;\n",
              "    }\n",
              "\n",
              "    .dataframe tbody tr th {\n",
              "        vertical-align: top;\n",
              "    }\n",
              "\n",
              "    .dataframe thead th {\n",
              "        text-align: right;\n",
              "    }\n",
              "</style>\n",
              "<table border=\"1\" class=\"dataframe\">\n",
              "  <thead>\n",
              "    <tr style=\"text-align: right;\">\n",
              "      <th></th>\n",
              "      <th>Not Recovered</th>\n",
              "      <th>Recovered</th>\n",
              "    </tr>\n",
              "  </thead>\n",
              "  <tbody>\n",
              "    <tr>\n",
              "      <th>0</th>\n",
              "      <td>1</td>\n",
              "      <td>0</td>\n",
              "    </tr>\n",
              "    <tr>\n",
              "      <th>1</th>\n",
              "      <td>1</td>\n",
              "      <td>0</td>\n",
              "    </tr>\n",
              "    <tr>\n",
              "      <th>2</th>\n",
              "      <td>0</td>\n",
              "      <td>1</td>\n",
              "    </tr>\n",
              "    <tr>\n",
              "      <th>3</th>\n",
              "      <td>0</td>\n",
              "      <td>1</td>\n",
              "    </tr>\n",
              "    <tr>\n",
              "      <th>4</th>\n",
              "      <td>0</td>\n",
              "      <td>1</td>\n",
              "    </tr>\n",
              "  </tbody>\n",
              "</table>\n",
              "</div>"
            ],
            "text/plain": [
              "   Not Recovered  Recovered\n",
              "0              1          0\n",
              "1              1          0\n",
              "2              0          1\n",
              "3              0          1\n",
              "4              0          1"
            ]
          },
          "metadata": {},
          "execution_count": 38
        }
      ]
    },
    {
      "cell_type": "code",
      "metadata": {
        "id": "jTmI_WcJmuj7"
      },
      "source": [
        "# merge data frame \"df\" and \"dummy_variable_1\" \n",
        "df = pd.concat([df, dummy_variable_1], axis=1)"
      ],
      "execution_count": null,
      "outputs": []
    },
    {
      "cell_type": "code",
      "metadata": {
        "id": "xL4t2ihHnR07"
      },
      "source": [
        "# drop original column \"fuel-type\" from \"df\"\n",
        "df.drop(\"Not Recovered\", axis = 1, inplace=True)"
      ],
      "execution_count": 40,
      "outputs": []
    },
    {
      "cell_type": "code",
      "metadata": {
        "colab": {
          "base_uri": "https://localhost:8080/",
          "height": 360
        },
        "id": "44BJyznqnbF5",
        "outputId": "4092c7fe-71cb-43c2-9478-b68ad03f7499"
      },
      "source": [
        "df.head()"
      ],
      "execution_count": 41,
      "outputs": [
        {
          "output_type": "execute_result",
          "data": {
            "text/html": [
              "<div>\n",
              "<style scoped>\n",
              "    .dataframe tbody tr th:only-of-type {\n",
              "        vertical-align: middle;\n",
              "    }\n",
              "\n",
              "    .dataframe tbody tr th {\n",
              "        vertical-align: top;\n",
              "    }\n",
              "\n",
              "    .dataframe thead th {\n",
              "        text-align: right;\n",
              "    }\n",
              "</style>\n",
              "<table border=\"1\" class=\"dataframe\">\n",
              "  <thead>\n",
              "    <tr style=\"text-align: right;\">\n",
              "      <th></th>\n",
              "      <th>Unnamed: 0</th>\n",
              "      <th>Outcome</th>\n",
              "      <th>Age</th>\n",
              "      <th>Gender</th>\n",
              "      <th>Treatment</th>\n",
              "      <th>Ventilated (Y/N)</th>\n",
              "      <th>Red_blood_cell_distribution_width</th>\n",
              "      <th>Monocytes(%)</th>\n",
              "      <th>White_blood_cell_count</th>\n",
              "      <th>Platelet_Count</th>\n",
              "      <th>Lymphocyte_Count</th>\n",
              "      <th>Neutrophils_Count</th>\n",
              "      <th>Lymphocyte_Count_Binned</th>\n",
              "      <th>Ventilated-No</th>\n",
              "      <th>Ventilated-Yes</th>\n",
              "      <th>Discharge</th>\n",
              "      <th>Admission</th>\n",
              "      <th>Sample_Collection</th>\n",
              "      <th>Recovered</th>\n",
              "    </tr>\n",
              "  </thead>\n",
              "  <tbody>\n",
              "    <tr>\n",
              "      <th>0</th>\n",
              "      <td>1</td>\n",
              "      <td>Not Recovered</td>\n",
              "      <td>51</td>\n",
              "      <td>Male</td>\n",
              "      <td>Antibiotics,  O2</td>\n",
              "      <td>Yes</td>\n",
              "      <td>13.2</td>\n",
              "      <td>3.3</td>\n",
              "      <td>21.00</td>\n",
              "      <td>462.00</td>\n",
              "      <td>0.44</td>\n",
              "      <td>19.43</td>\n",
              "      <td>less than 5</td>\n",
              "      <td>0</td>\n",
              "      <td>1</td>\n",
              "      <td>2020-08-08</td>\n",
              "      <td>2020-08-10</td>\n",
              "      <td>2020-08-10</td>\n",
              "      <td>0</td>\n",
              "    </tr>\n",
              "    <tr>\n",
              "      <th>1</th>\n",
              "      <td>2</td>\n",
              "      <td>Not Recovered</td>\n",
              "      <td>65</td>\n",
              "      <td>Female</td>\n",
              "      <td>Paracetamol, Antibiotics,  O2</td>\n",
              "      <td>Yes</td>\n",
              "      <td>40.0</td>\n",
              "      <td>3.0</td>\n",
              "      <td>8.79</td>\n",
              "      <td>180.66</td>\n",
              "      <td>4.39</td>\n",
              "      <td>7.56</td>\n",
              "      <td>less than 5</td>\n",
              "      <td>0</td>\n",
              "      <td>1</td>\n",
              "      <td>2020-08-05</td>\n",
              "      <td>2020-07-24</td>\n",
              "      <td>2020-07-24</td>\n",
              "      <td>0</td>\n",
              "    </tr>\n",
              "    <tr>\n",
              "      <th>2</th>\n",
              "      <td>3</td>\n",
              "      <td>Recovered</td>\n",
              "      <td>32</td>\n",
              "      <td>Male</td>\n",
              "      <td>Antibiotics,  O2</td>\n",
              "      <td>No</td>\n",
              "      <td>11.7</td>\n",
              "      <td>5.3</td>\n",
              "      <td>9.90</td>\n",
              "      <td>336.00</td>\n",
              "      <td>3.47</td>\n",
              "      <td>5.34</td>\n",
              "      <td>less than 5</td>\n",
              "      <td>1</td>\n",
              "      <td>0</td>\n",
              "      <td>2020-08-08</td>\n",
              "      <td>2020-07-22</td>\n",
              "      <td>2020-07-22</td>\n",
              "      <td>1</td>\n",
              "    </tr>\n",
              "    <tr>\n",
              "      <th>3</th>\n",
              "      <td>4</td>\n",
              "      <td>Recovered</td>\n",
              "      <td>36</td>\n",
              "      <td>Female</td>\n",
              "      <td>Antibiotics,  O2</td>\n",
              "      <td>No</td>\n",
              "      <td>13.0</td>\n",
              "      <td>5.0</td>\n",
              "      <td>9.95</td>\n",
              "      <td>240.10</td>\n",
              "      <td>0.80</td>\n",
              "      <td>8.66</td>\n",
              "      <td>less than 5</td>\n",
              "      <td>1</td>\n",
              "      <td>0</td>\n",
              "      <td>2020-08-05</td>\n",
              "      <td>2020-07-19</td>\n",
              "      <td>2020-07-19</td>\n",
              "      <td>1</td>\n",
              "    </tr>\n",
              "    <tr>\n",
              "      <th>4</th>\n",
              "      <td>5</td>\n",
              "      <td>Recovered</td>\n",
              "      <td>46</td>\n",
              "      <td>Male</td>\n",
              "      <td>Paracetamol, Antibiotics,  O2</td>\n",
              "      <td>No</td>\n",
              "      <td>31.0</td>\n",
              "      <td>3.0</td>\n",
              "      <td>14.15</td>\n",
              "      <td>236.58</td>\n",
              "      <td>7.93</td>\n",
              "      <td>13.02</td>\n",
              "      <td>5 to 11</td>\n",
              "      <td>1</td>\n",
              "      <td>0</td>\n",
              "      <td>2020-08-05</td>\n",
              "      <td>2020-07-18</td>\n",
              "      <td>2020-07-18</td>\n",
              "      <td>1</td>\n",
              "    </tr>\n",
              "  </tbody>\n",
              "</table>\n",
              "</div>"
            ],
            "text/plain": [
              "   Unnamed: 0        Outcome  Age  ...   Admission Sample_Collection Recovered\n",
              "0           1  Not Recovered   51  ...  2020-08-10        2020-08-10         0\n",
              "1           2  Not Recovered   65  ...  2020-07-24        2020-07-24         0\n",
              "2           3      Recovered   32  ...  2020-07-22        2020-07-22         1\n",
              "3           4      Recovered   36  ...  2020-07-19        2020-07-19         1\n",
              "4           5      Recovered   46  ...  2020-07-18        2020-07-18         1\n",
              "\n",
              "[5 rows x 19 columns]"
            ]
          },
          "metadata": {},
          "execution_count": 41
        }
      ]
    },
    {
      "cell_type": "code",
      "metadata": {
        "colab": {
          "base_uri": "https://localhost:8080/",
          "height": 297
        },
        "id": "XLinIvJdnhNP",
        "outputId": "b4d63832-7e59-4b99-83e9-be9edaf75725"
      },
      "source": [
        "sns.regplot(x=\"Platelet_Count\", y=\"Recovered\", data=df)"
      ],
      "execution_count": 42,
      "outputs": [
        {
          "output_type": "execute_result",
          "data": {
            "text/plain": [
              "<matplotlib.axes._subplots.AxesSubplot at 0x7fbd3e488e10>"
            ]
          },
          "metadata": {},
          "execution_count": 42
        },
        {
          "output_type": "display_data",
          "data": {
            "image/png": "[encoded data removed]",
            "text/plain": [
              "<Figure size 432x288 with 1 Axes>"
            ]
          },
          "metadata": {
            "needs_background": "light"
          }
        }
      ]
    },
    {
      "cell_type": "code",
      "metadata": {
        "colab": {
          "base_uri": "https://localhost:8080/",
          "height": 297
        },
        "id": "_qigMwRZnpNd",
        "outputId": "568e4c2a-bfe9-4e0f-c578-13e838e667e5"
      },
      "source": [
        "sns.regplot(x=\"Neutrophils_Count\", y=\"Recovered\", data=df)"
      ],
      "execution_count": 44,
      "outputs": [
        {
          "output_type": "execute_result",
          "data": {
            "text/plain": [
              "<matplotlib.axes._subplots.AxesSubplot at 0x7fbd3e429f50>"
            ]
          },
          "metadata": {},
          "execution_count": 44
        },
        {
          "output_type": "display_data",
          "data": {
            "image/png": "[encoded data removed]",
            "text/plain": [
              "<Figure size 432x288 with 1 Axes>"
            ]
          },
          "metadata": {
            "needs_background": "light"
          }
        }
      ]
    },
    {
      "cell_type": "code",
      "metadata": {
        "colab": {
          "base_uri": "https://localhost:8080/",
          "height": 297
        },
        "id": "XaGwVV06n_pr",
        "outputId": "da4f2156-0797-44fe-df36-cfc9d456e701"
      },
      "source": [
        "sns.regplot(x=\"Red_blood_cell_distribution_width\", y=\"Recovered\", data=df)"
      ],
      "execution_count": 45,
      "outputs": [
        {
          "output_type": "execute_result",
          "data": {
            "text/plain": [
              "<matplotlib.axes._subplots.AxesSubplot at 0x7fbd3e3a7110>"
            ]
          },
          "metadata": {},
          "execution_count": 45
        },
        {
          "output_type": "display_data",
          "data": {
            "image/png": "[encoded data removed]",
            "text/plain": [
              "<Figure size 432x288 with 1 Axes>"
            ]
          },
          "metadata": {
            "needs_background": "light"
          }
        }
      ]
    },
    {
      "cell_type": "code",
      "metadata": {
        "colab": {
          "base_uri": "https://localhost:8080/",
          "height": 296
        },
        "id": "B_0F4wf9oNmb",
        "outputId": "b513e0c9-05b5-4f05-db7c-8ce4b5c9a94d"
      },
      "source": [
        "sns.regplot(x=\"Monocytes(%)\", y=\"Recovered\", data=df)"
      ],
      "execution_count": 46,
      "outputs": [
        {
          "output_type": "execute_result",
          "data": {
            "text/plain": [
              "<matplotlib.axes._subplots.AxesSubplot at 0x7fbd3e285a10>"
            ]
          },
          "metadata": {},
          "execution_count": 46
        },
        {
          "output_type": "display_data",
          "data": {
            "image/png": "[encoded data removed]",
            "text/plain": [
              "<Figure size 432x288 with 1 Axes>"
            ]
          },
          "metadata": {
            "needs_background": "light"
          }
        }
      ]
    },
    {
      "cell_type": "code",
      "metadata": {
        "colab": {
          "base_uri": "https://localhost:8080/",
          "height": 298
        },
        "id": "h2g9-gbtoUpg",
        "outputId": "5fcef066-ed2b-4fdf-c6e6-d9f72c33f3aa"
      },
      "source": [
        "sns.regplot(x=\"White_blood_cell_count\", y=\"Recovered\", data=df)"
      ],
      "execution_count": 47,
      "outputs": [
        {
          "output_type": "execute_result",
          "data": {
            "text/plain": [
              "<matplotlib.axes._subplots.AxesSubplot at 0x7fbd3e281d90>"
            ]
          },
          "metadata": {},
          "execution_count": 47
        },
        {
          "output_type": "display_data",
          "data": {
            "image/png": "[encoded data removed]",
            "text/plain": [
              "<Figure size 432x288 with 1 Axes>"
            ]
          },
          "metadata": {
            "needs_background": "light"
          }
        }
      ]
    },
    {
      "cell_type": "code",
      "metadata": {
        "colab": {
          "base_uri": "https://localhost:8080/",
          "height": 297
        },
        "id": "leEoXSARofh1",
        "outputId": "fd4f6f38-52cc-4ecd-e269-7272653fe42f"
      },
      "source": [
        "sns.regplot(x=\"Lymphocyte_Count\", y=\"Recovered\", data=df)"
      ],
      "execution_count": 48,
      "outputs": [
        {
          "output_type": "execute_result",
          "data": {
            "text/plain": [
              "<matplotlib.axes._subplots.AxesSubplot at 0x7fbd3e20b550>"
            ]
          },
          "metadata": {},
          "execution_count": 48
        },
        {
          "output_type": "display_data",
          "data": {
            "image/png": "[encoded data removed]",
            "text/plain": [
              "<Figure size 432x288 with 1 Axes>"
            ]
          },
          "metadata": {
            "needs_background": "light"
          }
        }
      ]
    },
    {
      "cell_type": "code",
      "metadata": {
        "id": "wjZxB3bup5sm",
        "colab": {
          "base_uri": "https://localhost:8080/",
          "height": 300
        },
        "outputId": "f1b17eea-baf6-4947-cbb7-a7254eb373f6"
      },
      "source": [
        "sns.boxplot(x=\"Outcome\", y=\"Age\", data=df)"
      ],
      "execution_count": 49,
      "outputs": [
        {
          "output_type": "execute_result",
          "data": {
            "text/plain": [
              "<matplotlib.axes._subplots.AxesSubplot at 0x7fbd3e15b310>"
            ]
          },
          "metadata": {},
          "execution_count": 49
        },
        {
          "output_type": "display_data",
          "data": {
            "image/png": "[encoded data removed]",
            "text/plain": [
              "<Figure size 432x288 with 1 Axes>"
            ]
          },
          "metadata": {
            "needs_background": "light"
          }
        }
      ]
    },
    {
      "cell_type": "code",
      "metadata": {
        "colab": {
          "base_uri": "https://localhost:8080/",
          "height": 297
        },
        "id": "CPU80gehoeRt",
        "outputId": "0ec2d689-ecea-43a0-c9cd-34dec80c4f49"
      },
      "source": [
        "sns.boxplot(x=\"Lymphocyte_Count_Binned\", y=\"Neutrophils_Count\", data=df)"
      ],
      "execution_count": 53,
      "outputs": [
        {
          "output_type": "execute_result",
          "data": {
            "text/plain": [
              "<matplotlib.axes._subplots.AxesSubplot at 0x7fbd3dfd6390>"
            ]
          },
          "metadata": {},
          "execution_count": 53
        },
        {
          "output_type": "display_data",
          "data": {
            "image/png": "[encoded data removed]",
            "text/plain": [
              "<Figure size 432x288 with 1 Axes>"
            ]
          },
          "metadata": {
            "needs_background": "light"
          }
        }
      ]
    },
    {
      "cell_type": "code",
      "metadata": {
        "colab": {
          "base_uri": "https://localhost:8080/",
          "height": 301
        },
        "id": "RXzVW04lp5WO",
        "outputId": "c6961825-4c0c-4d87-e66c-57ee33dcdb32"
      },
      "source": [
        "sns.boxplot(x=\"Lymphocyte_Count_Binned\", y=\"Age\", data=df)"
      ],
      "execution_count": 100,
      "outputs": [
        {
          "output_type": "execute_result",
          "data": {
            "text/plain": [
              "<matplotlib.axes._subplots.AxesSubplot at 0x7fbd3c780a10>"
            ]
          },
          "metadata": {},
          "execution_count": 100
        },
        {
          "output_type": "display_data",
          "data": {
            "image/png": "[encoded data removed]",
            "text/plain": [
              "<Figure size 432x288 with 1 Axes>"
            ]
          },
          "metadata": {
            "needs_background": "light"
          }
        }
      ]
    },
    {
      "cell_type": "markdown",
      "metadata": {
        "id": "qTXlRY6-p5sm"
      },
      "source": [
        "<p>Here we see that the distribution of price between the different drive-wheels categories differs. As such, drive-wheels could potentially be a predictor of price.</p>\n"
      ]
    },
    {
      "cell_type": "markdown",
      "metadata": {
        "id": "-da6tYWpp5sm"
      },
      "source": [
        "<h2 id=\"discriptive_statistics\">3. Descriptive Statistical Analysis</h2>\n"
      ]
    },
    {
      "cell_type": "code",
      "metadata": {
        "id": "PbuodPSVp5sm",
        "colab": {
          "base_uri": "https://localhost:8080/",
          "height": 334
        },
        "outputId": "5830a54f-5eff-43fa-b8ce-0b18aa1b318d"
      },
      "source": [
        "df.describe()"
      ],
      "execution_count": 54,
      "outputs": [
        {
          "output_type": "execute_result",
          "data": {
            "text/html": [
              "<div>\n",
              "<style scoped>\n",
              "    .dataframe tbody tr th:only-of-type {\n",
              "        vertical-align: middle;\n",
              "    }\n",
              "\n",
              "    .dataframe tbody tr th {\n",
              "        vertical-align: top;\n",
              "    }\n",
              "\n",
              "    .dataframe thead th {\n",
              "        text-align: right;\n",
              "    }\n",
              "</style>\n",
              "<table border=\"1\" class=\"dataframe\">\n",
              "  <thead>\n",
              "    <tr style=\"text-align: right;\">\n",
              "      <th></th>\n",
              "      <th>Unnamed: 0</th>\n",
              "      <th>Age</th>\n",
              "      <th>Red_blood_cell_distribution_width</th>\n",
              "      <th>Monocytes(%)</th>\n",
              "      <th>White_blood_cell_count</th>\n",
              "      <th>Platelet_Count</th>\n",
              "      <th>Lymphocyte_Count</th>\n",
              "      <th>Neutrophils_Count</th>\n",
              "      <th>Ventilated-No</th>\n",
              "      <th>Ventilated-Yes</th>\n",
              "      <th>Recovered</th>\n",
              "    </tr>\n",
              "  </thead>\n",
              "  <tbody>\n",
              "    <tr>\n",
              "      <th>count</th>\n",
              "      <td>103.000000</td>\n",
              "      <td>103.000000</td>\n",
              "      <td>103.000000</td>\n",
              "      <td>103.000000</td>\n",
              "      <td>103.000000</td>\n",
              "      <td>103.000000</td>\n",
              "      <td>103.000000</td>\n",
              "      <td>103.000000</td>\n",
              "      <td>103.000000</td>\n",
              "      <td>103.000000</td>\n",
              "      <td>103.000000</td>\n",
              "    </tr>\n",
              "    <tr>\n",
              "      <th>mean</th>\n",
              "      <td>52.000000</td>\n",
              "      <td>47.262136</td>\n",
              "      <td>30.691262</td>\n",
              "      <td>3.939806</td>\n",
              "      <td>12.036505</td>\n",
              "      <td>216.367379</td>\n",
              "      <td>3.520971</td>\n",
              "      <td>8.176019</td>\n",
              "      <td>0.533981</td>\n",
              "      <td>0.466019</td>\n",
              "      <td>0.592233</td>\n",
              "    </tr>\n",
              "    <tr>\n",
              "      <th>std</th>\n",
              "      <td>29.877528</td>\n",
              "      <td>15.749859</td>\n",
              "      <td>22.193746</td>\n",
              "      <td>2.088171</td>\n",
              "      <td>10.258011</td>\n",
              "      <td>57.102773</td>\n",
              "      <td>2.909417</td>\n",
              "      <td>5.158653</td>\n",
              "      <td>0.501283</td>\n",
              "      <td>0.501283</td>\n",
              "      <td>0.493822</td>\n",
              "    </tr>\n",
              "    <tr>\n",
              "      <th>min</th>\n",
              "      <td>1.000000</td>\n",
              "      <td>17.000000</td>\n",
              "      <td>10.000000</td>\n",
              "      <td>2.000000</td>\n",
              "      <td>0.010000</td>\n",
              "      <td>17.400000</td>\n",
              "      <td>0.000000</td>\n",
              "      <td>0.010000</td>\n",
              "      <td>0.000000</td>\n",
              "      <td>0.000000</td>\n",
              "      <td>0.000000</td>\n",
              "    </tr>\n",
              "    <tr>\n",
              "      <th>25%</th>\n",
              "      <td>26.500000</td>\n",
              "      <td>35.000000</td>\n",
              "      <td>13.650000</td>\n",
              "      <td>3.000000</td>\n",
              "      <td>7.545000</td>\n",
              "      <td>184.000000</td>\n",
              "      <td>1.600000</td>\n",
              "      <td>5.340000</td>\n",
              "      <td>0.000000</td>\n",
              "      <td>0.000000</td>\n",
              "      <td>0.000000</td>\n",
              "    </tr>\n",
              "    <tr>\n",
              "      <th>50%</th>\n",
              "      <td>52.000000</td>\n",
              "      <td>46.000000</td>\n",
              "      <td>21.000000</td>\n",
              "      <td>3.000000</td>\n",
              "      <td>9.570000</td>\n",
              "      <td>213.400000</td>\n",
              "      <td>3.470000</td>\n",
              "      <td>7.590000</td>\n",
              "      <td>1.000000</td>\n",
              "      <td>0.000000</td>\n",
              "      <td>1.000000</td>\n",
              "    </tr>\n",
              "    <tr>\n",
              "      <th>75%</th>\n",
              "      <td>77.500000</td>\n",
              "      <td>60.000000</td>\n",
              "      <td>40.000000</td>\n",
              "      <td>4.950000</td>\n",
              "      <td>12.690000</td>\n",
              "      <td>241.500000</td>\n",
              "      <td>4.360000</td>\n",
              "      <td>8.535000</td>\n",
              "      <td>1.000000</td>\n",
              "      <td>1.000000</td>\n",
              "      <td>1.000000</td>\n",
              "    </tr>\n",
              "    <tr>\n",
              "      <th>max</th>\n",
              "      <td>103.000000</td>\n",
              "      <td>77.000000</td>\n",
              "      <td>100.000000</td>\n",
              "      <td>14.300000</td>\n",
              "      <td>85.000000</td>\n",
              "      <td>462.000000</td>\n",
              "      <td>16.500000</td>\n",
              "      <td>34.510000</td>\n",
              "      <td>1.000000</td>\n",
              "      <td>1.000000</td>\n",
              "      <td>1.000000</td>\n",
              "    </tr>\n",
              "  </tbody>\n",
              "</table>\n",
              "</div>"
            ],
            "text/plain": [
              "       Unnamed: 0         Age  ...  Ventilated-Yes   Recovered\n",
              "count  103.000000  103.000000  ...      103.000000  103.000000\n",
              "mean    52.000000   47.262136  ...        0.466019    0.592233\n",
              "std     29.877528   15.749859  ...        0.501283    0.493822\n",
              "min      1.000000   17.000000  ...        0.000000    0.000000\n",
              "25%     26.500000   35.000000  ...        0.000000    0.000000\n",
              "50%     52.000000   46.000000  ...        0.000000    1.000000\n",
              "75%     77.500000   60.000000  ...        1.000000    1.000000\n",
              "max    103.000000   77.000000  ...        1.000000    1.000000\n",
              "\n",
              "[8 rows x 11 columns]"
            ]
          },
          "metadata": {},
          "execution_count": 54
        }
      ]
    },
    {
      "cell_type": "markdown",
      "metadata": {
        "id": "heyu6SP-p5sn"
      },
      "source": [
        "The default setting of \"describe\" skips variables of type object. We can apply the method \"describe\" on the variables of type 'object' as follows:\n"
      ]
    },
    {
      "cell_type": "code",
      "metadata": {
        "scrolled": true,
        "id": "8epq8jUep5sn",
        "colab": {
          "base_uri": "https://localhost:8080/",
          "height": 173
        },
        "outputId": "b4769f1a-74e6-4d99-b0d2-76724dc662b5"
      },
      "source": [
        "df.describe(include=['object'])"
      ],
      "execution_count": 56,
      "outputs": [
        {
          "output_type": "execute_result",
          "data": {
            "text/html": [
              "<div>\n",
              "<style scoped>\n",
              "    .dataframe tbody tr th:only-of-type {\n",
              "        vertical-align: middle;\n",
              "    }\n",
              "\n",
              "    .dataframe tbody tr th {\n",
              "        vertical-align: top;\n",
              "    }\n",
              "\n",
              "    .dataframe thead th {\n",
              "        text-align: right;\n",
              "    }\n",
              "</style>\n",
              "<table border=\"1\" class=\"dataframe\">\n",
              "  <thead>\n",
              "    <tr style=\"text-align: right;\">\n",
              "      <th></th>\n",
              "      <th>Outcome</th>\n",
              "      <th>Gender</th>\n",
              "      <th>Treatment</th>\n",
              "      <th>Ventilated (Y/N)</th>\n",
              "      <th>Lymphocyte_Count_Binned</th>\n",
              "      <th>Discharge</th>\n",
              "      <th>Admission</th>\n",
              "      <th>Sample_Collection</th>\n",
              "    </tr>\n",
              "  </thead>\n",
              "  <tbody>\n",
              "    <tr>\n",
              "      <th>count</th>\n",
              "      <td>103</td>\n",
              "      <td>103</td>\n",
              "      <td>103</td>\n",
              "      <td>103</td>\n",
              "      <td>103</td>\n",
              "      <td>103</td>\n",
              "      <td>103</td>\n",
              "      <td>103</td>\n",
              "    </tr>\n",
              "    <tr>\n",
              "      <th>unique</th>\n",
              "      <td>2</td>\n",
              "      <td>2</td>\n",
              "      <td>10</td>\n",
              "      <td>2</td>\n",
              "      <td>3</td>\n",
              "      <td>50</td>\n",
              "      <td>54</td>\n",
              "      <td>55</td>\n",
              "    </tr>\n",
              "    <tr>\n",
              "      <th>top</th>\n",
              "      <td>Recovered</td>\n",
              "      <td>Male</td>\n",
              "      <td>Antibiotics,  O2</td>\n",
              "      <td>No</td>\n",
              "      <td>less than 5</td>\n",
              "      <td>2020-08-05</td>\n",
              "      <td>2020-07-14</td>\n",
              "      <td>2020-07-14</td>\n",
              "    </tr>\n",
              "    <tr>\n",
              "      <th>freq</th>\n",
              "      <td>61</td>\n",
              "      <td>55</td>\n",
              "      <td>68</td>\n",
              "      <td>55</td>\n",
              "      <td>87</td>\n",
              "      <td>10</td>\n",
              "      <td>6</td>\n",
              "      <td>6</td>\n",
              "    </tr>\n",
              "  </tbody>\n",
              "</table>\n",
              "</div>"
            ],
            "text/plain": [
              "          Outcome Gender  ...   Admission Sample_Collection\n",
              "count         103    103  ...         103               103\n",
              "unique          2      2  ...          54                55\n",
              "top     Recovered   Male  ...  2020-07-14        2020-07-14\n",
              "freq           61     55  ...           6                 6\n",
              "\n",
              "[4 rows x 8 columns]"
            ]
          },
          "metadata": {},
          "execution_count": 56
        }
      ]
    },
    {
      "cell_type": "markdown",
      "metadata": {
        "id": "eWI5Ta47p5so"
      },
      "source": [
        "<h2 id=\"basic_grouping\">4. Grouping</h2>\n"
      ]
    },
    {
      "cell_type": "code",
      "metadata": {
        "id": "vLAhmprYp5so"
      },
      "source": [
        "df_group_one = df[['Age','Neutrophils_Count','Recovered']]"
      ],
      "execution_count": 59,
      "outputs": []
    },
    {
      "cell_type": "markdown",
      "metadata": {
        "id": "v6m-rd9Wp5so"
      },
      "source": [
        "We can then calculate the average price for each of the different categories of data.\n"
      ]
    },
    {
      "cell_type": "code",
      "metadata": {
        "id": "nCni9mf7p5so",
        "colab": {
          "base_uri": "https://localhost:8080/",
          "height": 111
        },
        "outputId": "dfc79d20-6503-4b20-c3b2-d5f2a8e76954"
      },
      "source": [
        "# grouping results\n",
        "df_group_one = df_group_one.groupby(['Recovered'],as_index=False).mean()\n",
        "df_group_one"
      ],
      "execution_count": 60,
      "outputs": [
        {
          "output_type": "execute_result",
          "data": {
            "text/html": [
              "<div>\n",
              "<style scoped>\n",
              "    .dataframe tbody tr th:only-of-type {\n",
              "        vertical-align: middle;\n",
              "    }\n",
              "\n",
              "    .dataframe tbody tr th {\n",
              "        vertical-align: top;\n",
              "    }\n",
              "\n",
              "    .dataframe thead th {\n",
              "        text-align: right;\n",
              "    }\n",
              "</style>\n",
              "<table border=\"1\" class=\"dataframe\">\n",
              "  <thead>\n",
              "    <tr style=\"text-align: right;\">\n",
              "      <th></th>\n",
              "      <th>Recovered</th>\n",
              "      <th>Age</th>\n",
              "      <th>Neutrophils_Count</th>\n",
              "    </tr>\n",
              "  </thead>\n",
              "  <tbody>\n",
              "    <tr>\n",
              "      <th>0</th>\n",
              "      <td>0</td>\n",
              "      <td>57.952381</td>\n",
              "      <td>9.748810</td>\n",
              "    </tr>\n",
              "    <tr>\n",
              "      <th>1</th>\n",
              "      <td>1</td>\n",
              "      <td>39.901639</td>\n",
              "      <td>7.093115</td>\n",
              "    </tr>\n",
              "  </tbody>\n",
              "</table>\n",
              "</div>"
            ],
            "text/plain": [
              "   Recovered        Age  Neutrophils_Count\n",
              "0          0  57.952381           9.748810\n",
              "1          1  39.901639           7.093115"
            ]
          },
          "metadata": {},
          "execution_count": 60
        }
      ]
    },
    {
      "cell_type": "code",
      "metadata": {
        "id": "WronFxXRp5so",
        "colab": {
          "base_uri": "https://localhost:8080/",
          "height": 204
        },
        "outputId": "3687542d-af87-4c04-f83a-df31111e99a4"
      },
      "source": [
        "# grouping results\n",
        "df_gptest = df[['Age','Lymphocyte_Count_Binned','Recovered']]\n",
        "grouped_test1 = df_gptest.groupby(['Lymphocyte_Count_Binned','Recovered'],as_index=False).mean()\n",
        "grouped_test1"
      ],
      "execution_count": 61,
      "outputs": [
        {
          "output_type": "execute_result",
          "data": {
            "text/html": [
              "<div>\n",
              "<style scoped>\n",
              "    .dataframe tbody tr th:only-of-type {\n",
              "        vertical-align: middle;\n",
              "    }\n",
              "\n",
              "    .dataframe tbody tr th {\n",
              "        vertical-align: top;\n",
              "    }\n",
              "\n",
              "    .dataframe thead th {\n",
              "        text-align: right;\n",
              "    }\n",
              "</style>\n",
              "<table border=\"1\" class=\"dataframe\">\n",
              "  <thead>\n",
              "    <tr style=\"text-align: right;\">\n",
              "      <th></th>\n",
              "      <th>Lymphocyte_Count_Binned</th>\n",
              "      <th>Recovered</th>\n",
              "      <th>Age</th>\n",
              "    </tr>\n",
              "  </thead>\n",
              "  <tbody>\n",
              "    <tr>\n",
              "      <th>0</th>\n",
              "      <td>11+</td>\n",
              "      <td>0</td>\n",
              "      <td>62.666667</td>\n",
              "    </tr>\n",
              "    <tr>\n",
              "      <th>1</th>\n",
              "      <td>5 to 11</td>\n",
              "      <td>0</td>\n",
              "      <td>61.600000</td>\n",
              "    </tr>\n",
              "    <tr>\n",
              "      <th>2</th>\n",
              "      <td>5 to 11</td>\n",
              "      <td>1</td>\n",
              "      <td>46.500000</td>\n",
              "    </tr>\n",
              "    <tr>\n",
              "      <th>3</th>\n",
              "      <td>less than 5</td>\n",
              "      <td>0</td>\n",
              "      <td>57.000000</td>\n",
              "    </tr>\n",
              "    <tr>\n",
              "      <th>4</th>\n",
              "      <td>less than 5</td>\n",
              "      <td>1</td>\n",
              "      <td>38.905660</td>\n",
              "    </tr>\n",
              "  </tbody>\n",
              "</table>\n",
              "</div>"
            ],
            "text/plain": [
              "  Lymphocyte_Count_Binned  Recovered        Age\n",
              "0                     11+          0  62.666667\n",
              "1                 5 to 11          0  61.600000\n",
              "2                 5 to 11          1  46.500000\n",
              "3             less than 5          0  57.000000\n",
              "4             less than 5          1  38.905660"
            ]
          },
          "metadata": {},
          "execution_count": 61
        }
      ]
    },
    {
      "cell_type": "code",
      "metadata": {
        "colab": {
          "base_uri": "https://localhost:8080/",
          "height": 173
        },
        "id": "GT1rxXmzuY5F",
        "outputId": "091234f5-a393-4853-c14f-0277f655a09b"
      },
      "source": [
        "df_gptest[[\"Lymphocyte_Count_Binned\",\"Recovered\"]].groupby(\"Lymphocyte_Count_Binned\").sum()"
      ],
      "execution_count": 63,
      "outputs": [
        {
          "output_type": "execute_result",
          "data": {
            "text/html": [
              "<div>\n",
              "<style scoped>\n",
              "    .dataframe tbody tr th:only-of-type {\n",
              "        vertical-align: middle;\n",
              "    }\n",
              "\n",
              "    .dataframe tbody tr th {\n",
              "        vertical-align: top;\n",
              "    }\n",
              "\n",
              "    .dataframe thead th {\n",
              "        text-align: right;\n",
              "    }\n",
              "</style>\n",
              "<table border=\"1\" class=\"dataframe\">\n",
              "  <thead>\n",
              "    <tr style=\"text-align: right;\">\n",
              "      <th></th>\n",
              "      <th>Recovered</th>\n",
              "    </tr>\n",
              "    <tr>\n",
              "      <th>Lymphocyte_Count_Binned</th>\n",
              "      <th></th>\n",
              "    </tr>\n",
              "  </thead>\n",
              "  <tbody>\n",
              "    <tr>\n",
              "      <th>11+</th>\n",
              "      <td>0</td>\n",
              "    </tr>\n",
              "    <tr>\n",
              "      <th>5 to 11</th>\n",
              "      <td>8</td>\n",
              "    </tr>\n",
              "    <tr>\n",
              "      <th>less than 5</th>\n",
              "      <td>53</td>\n",
              "    </tr>\n",
              "  </tbody>\n",
              "</table>\n",
              "</div>"
            ],
            "text/plain": [
              "                         Recovered\n",
              "Lymphocyte_Count_Binned           \n",
              "11+                              0\n",
              "5 to 11                          8\n",
              "less than 5                     53"
            ]
          },
          "metadata": {},
          "execution_count": 63
        }
      ]
    },
    {
      "cell_type": "code",
      "metadata": {
        "id": "UHZI3wk7vSbW"
      },
      "source": [
        "dummy_variable_1 = pd.get_dummies(df[\"Outcome\"])"
      ],
      "execution_count": null,
      "outputs": []
    },
    {
      "cell_type": "code",
      "metadata": {
        "id": "ouKO_8eLvSea"
      },
      "source": [
        "dummy_variable_1.drop(\"Recovered\", axis = 1, inplace=True)"
      ],
      "execution_count": 65,
      "outputs": []
    },
    {
      "cell_type": "code",
      "metadata": {
        "id": "3BRop5CIvShh"
      },
      "source": [
        "df = pd.concat([df, dummy_variable_1], axis=1)"
      ],
      "execution_count": 67,
      "outputs": []
    },
    {
      "cell_type": "code",
      "metadata": {
        "colab": {
          "base_uri": "https://localhost:8080/",
          "height": 173
        },
        "id": "j2oA_C-Vvt56",
        "outputId": "106adc93-5e51-473d-f69c-6cc7a6c90694"
      },
      "source": [
        "df[[\"Lymphocyte_Count_Binned\",\"Not Recovered\"]].groupby(\"Lymphocyte_Count_Binned\").sum()"
      ],
      "execution_count": 69,
      "outputs": [
        {
          "output_type": "execute_result",
          "data": {
            "text/html": [
              "<div>\n",
              "<style scoped>\n",
              "    .dataframe tbody tr th:only-of-type {\n",
              "        vertical-align: middle;\n",
              "    }\n",
              "\n",
              "    .dataframe tbody tr th {\n",
              "        vertical-align: top;\n",
              "    }\n",
              "\n",
              "    .dataframe thead th {\n",
              "        text-align: right;\n",
              "    }\n",
              "</style>\n",
              "<table border=\"1\" class=\"dataframe\">\n",
              "  <thead>\n",
              "    <tr style=\"text-align: right;\">\n",
              "      <th></th>\n",
              "      <th>Not Recovered</th>\n",
              "    </tr>\n",
              "    <tr>\n",
              "      <th>Lymphocyte_Count_Binned</th>\n",
              "      <th></th>\n",
              "    </tr>\n",
              "  </thead>\n",
              "  <tbody>\n",
              "    <tr>\n",
              "      <th>11+</th>\n",
              "      <td>3</td>\n",
              "    </tr>\n",
              "    <tr>\n",
              "      <th>5 to 11</th>\n",
              "      <td>5</td>\n",
              "    </tr>\n",
              "    <tr>\n",
              "      <th>less than 5</th>\n",
              "      <td>34</td>\n",
              "    </tr>\n",
              "  </tbody>\n",
              "</table>\n",
              "</div>"
            ],
            "text/plain": [
              "                         Not Recovered\n",
              "Lymphocyte_Count_Binned               \n",
              "11+                                  3\n",
              "5 to 11                              5\n",
              "less than 5                         34"
            ]
          },
          "metadata": {},
          "execution_count": 69
        }
      ]
    },
    {
      "cell_type": "code",
      "metadata": {
        "id": "piMoU_YRp5so",
        "colab": {
          "base_uri": "https://localhost:8080/",
          "height": 173
        },
        "outputId": "862f6758-1f7c-449d-fcf3-d9782569f4e7"
      },
      "source": [
        "grouped_pivot = grouped_test1.pivot(index='Recovered',columns='Lymphocyte_Count_Binned')\n",
        "grouped_pivot"
      ],
      "execution_count": 70,
      "outputs": [
        {
          "output_type": "execute_result",
          "data": {
            "text/html": [
              "<div>\n",
              "<style scoped>\n",
              "    .dataframe tbody tr th:only-of-type {\n",
              "        vertical-align: middle;\n",
              "    }\n",
              "\n",
              "    .dataframe tbody tr th {\n",
              "        vertical-align: top;\n",
              "    }\n",
              "\n",
              "    .dataframe thead tr th {\n",
              "        text-align: left;\n",
              "    }\n",
              "\n",
              "    .dataframe thead tr:last-of-type th {\n",
              "        text-align: right;\n",
              "    }\n",
              "</style>\n",
              "<table border=\"1\" class=\"dataframe\">\n",
              "  <thead>\n",
              "    <tr>\n",
              "      <th></th>\n",
              "      <th colspan=\"3\" halign=\"left\">Age</th>\n",
              "    </tr>\n",
              "    <tr>\n",
              "      <th>Lymphocyte_Count_Binned</th>\n",
              "      <th>11+</th>\n",
              "      <th>5 to 11</th>\n",
              "      <th>less than 5</th>\n",
              "    </tr>\n",
              "    <tr>\n",
              "      <th>Recovered</th>\n",
              "      <th></th>\n",
              "      <th></th>\n",
              "      <th></th>\n",
              "    </tr>\n",
              "  </thead>\n",
              "  <tbody>\n",
              "    <tr>\n",
              "      <th>0</th>\n",
              "      <td>62.666667</td>\n",
              "      <td>61.6</td>\n",
              "      <td>57.00000</td>\n",
              "    </tr>\n",
              "    <tr>\n",
              "      <th>1</th>\n",
              "      <td>NaN</td>\n",
              "      <td>46.5</td>\n",
              "      <td>38.90566</td>\n",
              "    </tr>\n",
              "  </tbody>\n",
              "</table>\n",
              "</div>"
            ],
            "text/plain": [
              "                               Age                    \n",
              "Lymphocyte_Count_Binned        11+ 5 to 11 less than 5\n",
              "Recovered                                             \n",
              "0                        62.666667    61.6    57.00000\n",
              "1                              NaN    46.5    38.90566"
            ]
          },
          "metadata": {},
          "execution_count": 70
        }
      ]
    },
    {
      "cell_type": "code",
      "metadata": {
        "scrolled": true,
        "id": "olfeNZQ1p5sp",
        "colab": {
          "base_uri": "https://localhost:8080/",
          "height": 173
        },
        "outputId": "1357964e-58e1-4b3c-ef68-f11110a608c8"
      },
      "source": [
        "grouped_pivot = grouped_pivot.fillna(0) #fill missing values with 0\n",
        "grouped_pivot"
      ],
      "execution_count": 71,
      "outputs": [
        {
          "output_type": "execute_result",
          "data": {
            "text/html": [
              "<div>\n",
              "<style scoped>\n",
              "    .dataframe tbody tr th:only-of-type {\n",
              "        vertical-align: middle;\n",
              "    }\n",
              "\n",
              "    .dataframe tbody tr th {\n",
              "        vertical-align: top;\n",
              "    }\n",
              "\n",
              "    .dataframe thead tr th {\n",
              "        text-align: left;\n",
              "    }\n",
              "\n",
              "    .dataframe thead tr:last-of-type th {\n",
              "        text-align: right;\n",
              "    }\n",
              "</style>\n",
              "<table border=\"1\" class=\"dataframe\">\n",
              "  <thead>\n",
              "    <tr>\n",
              "      <th></th>\n",
              "      <th colspan=\"3\" halign=\"left\">Age</th>\n",
              "    </tr>\n",
              "    <tr>\n",
              "      <th>Lymphocyte_Count_Binned</th>\n",
              "      <th>11+</th>\n",
              "      <th>5 to 11</th>\n",
              "      <th>less than 5</th>\n",
              "    </tr>\n",
              "    <tr>\n",
              "      <th>Recovered</th>\n",
              "      <th></th>\n",
              "      <th></th>\n",
              "      <th></th>\n",
              "    </tr>\n",
              "  </thead>\n",
              "  <tbody>\n",
              "    <tr>\n",
              "      <th>0</th>\n",
              "      <td>62.666667</td>\n",
              "      <td>61.6</td>\n",
              "      <td>57.00000</td>\n",
              "    </tr>\n",
              "    <tr>\n",
              "      <th>1</th>\n",
              "      <td>0.000000</td>\n",
              "      <td>46.5</td>\n",
              "      <td>38.90566</td>\n",
              "    </tr>\n",
              "  </tbody>\n",
              "</table>\n",
              "</div>"
            ],
            "text/plain": [
              "                               Age                    \n",
              "Lymphocyte_Count_Binned        11+ 5 to 11 less than 5\n",
              "Recovered                                             \n",
              "0                        62.666667    61.6    57.00000\n",
              "1                         0.000000    46.5    38.90566"
            ]
          },
          "metadata": {},
          "execution_count": 71
        }
      ]
    },
    {
      "cell_type": "code",
      "metadata": {
        "id": "DxM3tbBIp5sp"
      },
      "source": [
        "import matplotlib.pyplot as plt\n",
        "%matplotlib inline "
      ],
      "execution_count": 72,
      "outputs": []
    },
    {
      "cell_type": "markdown",
      "metadata": {
        "id": "mgsm-EL5p5sp"
      },
      "source": [
        "Let's use a heat map to visualize the relationship between Body Style vs Price.\n"
      ]
    },
    {
      "cell_type": "code",
      "metadata": {
        "id": "d83MDGYrp5sp",
        "colab": {
          "base_uri": "https://localhost:8080/",
          "height": 269
        },
        "outputId": "28641528-8538-4b44-bf07-3911fcf22561"
      },
      "source": [
        "#use the grouped results\n",
        "plt.pcolor(grouped_pivot, cmap='RdBu')\n",
        "plt.colorbar()\n",
        "plt.show()"
      ],
      "execution_count": 73,
      "outputs": [
        {
          "output_type": "display_data",
          "data": {
            "image/png": "[encoded data removed]",
            "text/plain": [
              "<Figure size 432x288 with 2 Axes>"
            ]
          },
          "metadata": {
            "needs_background": "light"
          }
        }
      ]
    },
    {
      "cell_type": "code",
      "metadata": {
        "id": "JhkwoYDEp5sp",
        "colab": {
          "base_uri": "https://localhost:8080/",
          "height": 310
        },
        "outputId": "d54c0666-2544-4534-cf62-320300ce6dc8"
      },
      "source": [
        "fig, ax = plt.subplots()\n",
        "im = ax.pcolor(grouped_pivot, cmap='RdBu')\n",
        "\n",
        "#label names\n",
        "row_labels = grouped_pivot.columns.levels[1]\n",
        "col_labels = ['Not Recovered','Recovered']\n",
        "\n",
        "#move ticks and labels to the center\n",
        "ax.set_xticks(np.arange(grouped_pivot.shape[1]) + 0.5, minor=False)\n",
        "ax.set_yticks(np.arange(grouped_pivot.shape[0]) + 0.5, minor=False)\n",
        "\n",
        "#insert labels\n",
        "ax.set_xticklabels(row_labels, minor=False)\n",
        "ax.set_yticklabels(col_labels, minor=False)\n",
        "\n",
        "#rotate label if too long\n",
        "plt.xticks(rotation=90)\n",
        "\n",
        "fig.colorbar(im)\n",
        "plt.show()"
      ],
      "execution_count": 76,
      "outputs": [
        {
          "output_type": "display_data",
          "data": {
            "image/png": "[encoded data removed]",
            "text/plain": [
              "<Figure size 432x288 with 2 Axes>"
            ]
          },
          "metadata": {
            "needs_background": "light"
          }
        }
      ]
    },
    {
      "cell_type": "markdown",
      "metadata": {
        "id": "BafyYLdrp5sp"
      },
      "source": [
        "<h2 id=\"correlation_causation\">5. Correlation and Causation</h2>\n"
      ]
    },
    {
      "cell_type": "code",
      "metadata": {
        "id": "3b4BHDLup5sq",
        "colab": {
          "base_uri": "https://localhost:8080/",
          "height": 458
        },
        "outputId": "7caf8e88-bb5c-468f-caf5-c011bf286b65"
      },
      "source": [
        "\n",
        "df.corr()"
      ],
      "execution_count": 77,
      "outputs": [
        {
          "output_type": "execute_result",
          "data": {
            "text/html": [
              "<div>\n",
              "<style scoped>\n",
              "    .dataframe tbody tr th:only-of-type {\n",
              "        vertical-align: middle;\n",
              "    }\n",
              "\n",
              "    .dataframe tbody tr th {\n",
              "        vertical-align: top;\n",
              "    }\n",
              "\n",
              "    .dataframe thead th {\n",
              "        text-align: right;\n",
              "    }\n",
              "</style>\n",
              "<table border=\"1\" class=\"dataframe\">\n",
              "  <thead>\n",
              "    <tr style=\"text-align: right;\">\n",
              "      <th></th>\n",
              "      <th>Unnamed: 0</th>\n",
              "      <th>Age</th>\n",
              "      <th>Red_blood_cell_distribution_width</th>\n",
              "      <th>Monocytes(%)</th>\n",
              "      <th>White_blood_cell_count</th>\n",
              "      <th>Platelet_Count</th>\n",
              "      <th>Lymphocyte_Count</th>\n",
              "      <th>Neutrophils_Count</th>\n",
              "      <th>Ventilated-No</th>\n",
              "      <th>Ventilated-Yes</th>\n",
              "      <th>Recovered</th>\n",
              "      <th>Not Recovered</th>\n",
              "    </tr>\n",
              "  </thead>\n",
              "  <tbody>\n",
              "    <tr>\n",
              "      <th>Unnamed: 0</th>\n",
              "      <td>1.000000</td>\n",
              "      <td>-0.172279</td>\n",
              "      <td>-0.135893</td>\n",
              "      <td>-0.300878</td>\n",
              "      <td>-0.156680</td>\n",
              "      <td>-0.433765</td>\n",
              "      <td>0.037795</td>\n",
              "      <td>-0.099210</td>\n",
              "      <td>0.404539</td>\n",
              "      <td>-0.404539</td>\n",
              "      <td>0.312972</td>\n",
              "      <td>-0.312972</td>\n",
              "    </tr>\n",
              "    <tr>\n",
              "      <th>Age</th>\n",
              "      <td>-0.172279</td>\n",
              "      <td>1.000000</td>\n",
              "      <td>0.126425</td>\n",
              "      <td>0.150397</td>\n",
              "      <td>-0.060969</td>\n",
              "      <td>-0.158683</td>\n",
              "      <td>0.010463</td>\n",
              "      <td>0.134431</td>\n",
              "      <td>-0.513368</td>\n",
              "      <td>0.513368</td>\n",
              "      <td>-0.565965</td>\n",
              "      <td>0.565965</td>\n",
              "    </tr>\n",
              "    <tr>\n",
              "      <th>Red_blood_cell_distribution_width</th>\n",
              "      <td>-0.135893</td>\n",
              "      <td>0.126425</td>\n",
              "      <td>1.000000</td>\n",
              "      <td>-0.128371</td>\n",
              "      <td>0.063359</td>\n",
              "      <td>-0.065350</td>\n",
              "      <td>0.458238</td>\n",
              "      <td>0.330845</td>\n",
              "      <td>-0.320077</td>\n",
              "      <td>0.320077</td>\n",
              "      <td>-0.415751</td>\n",
              "      <td>0.415751</td>\n",
              "    </tr>\n",
              "    <tr>\n",
              "      <th>Monocytes(%)</th>\n",
              "      <td>-0.300878</td>\n",
              "      <td>0.150397</td>\n",
              "      <td>-0.128371</td>\n",
              "      <td>1.000000</td>\n",
              "      <td>-0.305091</td>\n",
              "      <td>-0.051753</td>\n",
              "      <td>-0.356333</td>\n",
              "      <td>-0.286704</td>\n",
              "      <td>-0.243414</td>\n",
              "      <td>0.243414</td>\n",
              "      <td>-0.224643</td>\n",
              "      <td>0.224643</td>\n",
              "    </tr>\n",
              "    <tr>\n",
              "      <th>White_blood_cell_count</th>\n",
              "      <td>-0.156680</td>\n",
              "      <td>-0.060969</td>\n",
              "      <td>0.063359</td>\n",
              "      <td>-0.305091</td>\n",
              "      <td>1.000000</td>\n",
              "      <td>0.199980</td>\n",
              "      <td>0.375280</td>\n",
              "      <td>0.438633</td>\n",
              "      <td>-0.054333</td>\n",
              "      <td>0.054333</td>\n",
              "      <td>0.049881</td>\n",
              "      <td>-0.049881</td>\n",
              "    </tr>\n",
              "    <tr>\n",
              "      <th>Platelet_Count</th>\n",
              "      <td>-0.433765</td>\n",
              "      <td>-0.158683</td>\n",
              "      <td>-0.065350</td>\n",
              "      <td>-0.051753</td>\n",
              "      <td>0.199980</td>\n",
              "      <td>1.000000</td>\n",
              "      <td>0.016676</td>\n",
              "      <td>0.296369</td>\n",
              "      <td>0.114119</td>\n",
              "      <td>-0.114119</td>\n",
              "      <td>0.185918</td>\n",
              "      <td>-0.185918</td>\n",
              "    </tr>\n",
              "    <tr>\n",
              "      <th>Lymphocyte_Count</th>\n",
              "      <td>0.037795</td>\n",
              "      <td>0.010463</td>\n",
              "      <td>0.458238</td>\n",
              "      <td>-0.356333</td>\n",
              "      <td>0.375280</td>\n",
              "      <td>0.016676</td>\n",
              "      <td>1.000000</td>\n",
              "      <td>0.797521</td>\n",
              "      <td>-0.027449</td>\n",
              "      <td>0.027449</td>\n",
              "      <td>-0.085292</td>\n",
              "      <td>0.085292</td>\n",
              "    </tr>\n",
              "    <tr>\n",
              "      <th>Neutrophils_Count</th>\n",
              "      <td>-0.099210</td>\n",
              "      <td>0.134431</td>\n",
              "      <td>0.330845</td>\n",
              "      <td>-0.286704</td>\n",
              "      <td>0.438633</td>\n",
              "      <td>0.296369</td>\n",
              "      <td>0.797521</td>\n",
              "      <td>1.000000</td>\n",
              "      <td>-0.206399</td>\n",
              "      <td>0.206399</td>\n",
              "      <td>-0.254222</td>\n",
              "      <td>0.254222</td>\n",
              "    </tr>\n",
              "    <tr>\n",
              "      <th>Ventilated-No</th>\n",
              "      <td>0.404539</td>\n",
              "      <td>-0.513368</td>\n",
              "      <td>-0.320077</td>\n",
              "      <td>-0.243414</td>\n",
              "      <td>-0.054333</td>\n",
              "      <td>0.114119</td>\n",
              "      <td>-0.027449</td>\n",
              "      <td>-0.206399</td>\n",
              "      <td>1.000000</td>\n",
              "      <td>-1.000000</td>\n",
              "      <td>0.888220</td>\n",
              "      <td>-0.888220</td>\n",
              "    </tr>\n",
              "    <tr>\n",
              "      <th>Ventilated-Yes</th>\n",
              "      <td>-0.404539</td>\n",
              "      <td>0.513368</td>\n",
              "      <td>0.320077</td>\n",
              "      <td>0.243414</td>\n",
              "      <td>0.054333</td>\n",
              "      <td>-0.114119</td>\n",
              "      <td>0.027449</td>\n",
              "      <td>0.206399</td>\n",
              "      <td>-1.000000</td>\n",
              "      <td>1.000000</td>\n",
              "      <td>-0.888220</td>\n",
              "      <td>0.888220</td>\n",
              "    </tr>\n",
              "    <tr>\n",
              "      <th>Recovered</th>\n",
              "      <td>0.312972</td>\n",
              "      <td>-0.565965</td>\n",
              "      <td>-0.415751</td>\n",
              "      <td>-0.224643</td>\n",
              "      <td>0.049881</td>\n",
              "      <td>0.185918</td>\n",
              "      <td>-0.085292</td>\n",
              "      <td>-0.254222</td>\n",
              "      <td>0.888220</td>\n",
              "      <td>-0.888220</td>\n",
              "      <td>1.000000</td>\n",
              "      <td>-1.000000</td>\n",
              "    </tr>\n",
              "    <tr>\n",
              "      <th>Not Recovered</th>\n",
              "      <td>-0.312972</td>\n",
              "      <td>0.565965</td>\n",
              "      <td>0.415751</td>\n",
              "      <td>0.224643</td>\n",
              "      <td>-0.049881</td>\n",
              "      <td>-0.185918</td>\n",
              "      <td>0.085292</td>\n",
              "      <td>0.254222</td>\n",
              "      <td>-0.888220</td>\n",
              "      <td>0.888220</td>\n",
              "      <td>-1.000000</td>\n",
              "      <td>1.000000</td>\n",
              "    </tr>\n",
              "  </tbody>\n",
              "</table>\n",
              "</div>"
            ],
            "text/plain": [
              "                                   Unnamed: 0  ...  Not Recovered\n",
              "Unnamed: 0                           1.000000  ...      -0.312972\n",
              "Age                                 -0.172279  ...       0.565965\n",
              "Red_blood_cell_distribution_width   -0.135893  ...       0.415751\n",
              "Monocytes(%)                        -0.300878  ...       0.224643\n",
              "White_blood_cell_count              -0.156680  ...      -0.049881\n",
              "Platelet_Count                      -0.433765  ...      -0.185918\n",
              "Lymphocyte_Count                     0.037795  ...       0.085292\n",
              "Neutrophils_Count                   -0.099210  ...       0.254222\n",
              "Ventilated-No                        0.404539  ...      -0.888220\n",
              "Ventilated-Yes                      -0.404539  ...       0.888220\n",
              "Recovered                            0.312972  ...      -1.000000\n",
              "Not Recovered                       -0.312972  ...       1.000000\n",
              "\n",
              "[12 rows x 12 columns]"
            ]
          },
          "metadata": {},
          "execution_count": 77
        }
      ]
    },
    {
      "cell_type": "code",
      "metadata": {
        "id": "8TvufqIgp5sq"
      },
      "source": [
        "from scipy import stats"
      ],
      "execution_count": 78,
      "outputs": []
    },
    {
      "cell_type": "markdown",
      "metadata": {
        "id": "ZcNbh69_5fu5"
      },
      "source": [
        "Recovery"
      ]
    },
    {
      "cell_type": "code",
      "metadata": {
        "id": "YTnGParSp5sq",
        "colab": {
          "base_uri": "https://localhost:8080/"
        },
        "outputId": "600323c4-8e65-4387-9eab-1b02b836f6a9"
      },
      "source": [
        "pearson_coef, p_value = stats.pearsonr(df['Age'], df['Recovered'])\n",
        "print(\"The Pearson Correlation Coefficient is\", pearson_coef, \" with a P-value of P =\", p_value)  "
      ],
      "execution_count": 79,
      "outputs": [
        {
          "output_type": "stream",
          "name": "stdout",
          "text": [
            "The Pearson Correlation Coefficient is -0.5659645647105932  with a P-value of P = 4.665403808890849e-10\n"
          ]
        }
      ]
    },
    {
      "cell_type": "markdown",
      "metadata": {
        "id": "NB_Ve0Tzp5sq"
      },
      "source": [
        "<h4>Conclusion:</h4>\n",
        "<p>Since the p-value is $<$ 0.001, the correlation between age and recovery is statistically significant, although the linear relationship isn't extremely strong (~0.565).</p>\n"
      ]
    },
    {
      "cell_type": "markdown",
      "metadata": {
        "id": "5Tc5m5Df5nTd"
      },
      "source": [
        "Ventilated"
      ]
    },
    {
      "cell_type": "code",
      "metadata": {
        "colab": {
          "base_uri": "https://localhost:8080/"
        },
        "id": "1-hAR6475Y6L",
        "outputId": "5de942da-1121-4919-d4fa-59bc00d8771f"
      },
      "source": [
        "pearson_coef, p_value = stats.pearsonr(df['Age'], df['Ventilated-Yes'])\n",
        "print(\"The Pearson Correlation Coefficient is\", pearson_coef, \" with a P-value of P =\", p_value)  "
      ],
      "execution_count": 101,
      "outputs": [
        {
          "output_type": "stream",
          "name": "stdout",
          "text": [
            "The Pearson Correlation Coefficient is 0.5133679132384166  with a P-value of P = 2.9378166148721056e-08\n"
          ]
        }
      ]
    },
    {
      "cell_type": "markdown",
      "metadata": {
        "id": "BaMb0qO15rYH"
      },
      "source": [
        "Recovery"
      ]
    },
    {
      "cell_type": "code",
      "metadata": {
        "id": "FvHJcOE3p5sq",
        "colab": {
          "base_uri": "https://localhost:8080/"
        },
        "outputId": "35fc46ef-8cc7-4e3c-862b-a633077f15be"
      },
      "source": [
        "pearson_coef, p_value = stats.pearsonr(df['Lymphocyte_Count'], df['Recovered'])\n",
        "print(\"The Pearson Correlation Coefficient is\", pearson_coef, \" with a P-value of P = \", p_value) \n",
        "\n",
        "if p_value<0.001:\n",
        "    print(\"correlation is strong\")\n",
        "elif p_value<0.05:\n",
        "    print(\"correlation is moderate\")\n",
        "elif p_value<0.1:\n",
        "    print(\"correlation is weak\")\n",
        "else:\n",
        "    print(\"no correlation\")"
      ],
      "execution_count": 81,
      "outputs": [
        {
          "output_type": "stream",
          "name": "stdout",
          "text": [
            "The Pearson Correlation Coefficient is -0.08529154436119511  with a P-value of P =  0.3916588729164761\n",
            "no correlation\n"
          ]
        }
      ]
    },
    {
      "cell_type": "markdown",
      "metadata": {
        "id": "WWj3M-fT5s88"
      },
      "source": [
        "Ventilated"
      ]
    },
    {
      "cell_type": "code",
      "metadata": {
        "colab": {
          "base_uri": "https://localhost:8080/"
        },
        "id": "8kNZnAOG5uwl",
        "outputId": "17bb0fef-015b-4671-f786-458aad5aa15b"
      },
      "source": [
        "pearson_coef, p_value = stats.pearsonr(df['Lymphocyte_Count'], df['Ventilated-Yes'])\n",
        "print(\"The Pearson Correlation Coefficient is\", pearson_coef, \" with a P-value of P = \", p_value) \n",
        "\n",
        "if p_value<0.001:\n",
        "    print(\"correlation is strong\")\n",
        "elif p_value<0.05:\n",
        "    print(\"correlation is moderate\")\n",
        "elif p_value<0.1:\n",
        "    print(\"correlation is weak\")\n",
        "else:\n",
        "    print(\"no correlation\")"
      ],
      "execution_count": 102,
      "outputs": [
        {
          "output_type": "stream",
          "name": "stdout",
          "text": [
            "The Pearson Correlation Coefficient is 0.02744936287339627  with a P-value of P =  0.7831375357250748\n",
            "no correlation\n"
          ]
        }
      ]
    },
    {
      "cell_type": "markdown",
      "metadata": {
        "id": "vhMJRyNH50bX"
      },
      "source": [
        "Recovery"
      ]
    },
    {
      "cell_type": "code",
      "metadata": {
        "id": "TDQLwkEtp5sr",
        "colab": {
          "base_uri": "https://localhost:8080/"
        },
        "outputId": "effa4752-bd9d-4f27-f1a0-1ecad74a8d7b"
      },
      "source": [
        "pearson_coef, p_value = stats.pearsonr(df['Neutrophils_Count'], df['Recovered'])\n",
        "print(\"The Pearson Correlation Coefficient is\", pearson_coef, \" with a P-value of P = \", p_value) \n",
        "\n",
        "if p_value<0.001:\n",
        "    print(\"correlation is strong\")\n",
        "elif p_value<0.05:\n",
        "    print(\"correlation is moderate\")\n",
        "elif p_value<0.1:\n",
        "    print(\"correlation is weak\")\n",
        "else:\n",
        "    print(\"no correlation\")"
      ],
      "execution_count": 82,
      "outputs": [
        {
          "output_type": "stream",
          "name": "stdout",
          "text": [
            "The Pearson Correlation Coefficient is -0.2542217335325273  with a P-value of P =  0.009561357675419801\n",
            "correlation is moderate\n"
          ]
        }
      ]
    },
    {
      "cell_type": "markdown",
      "metadata": {
        "id": "8PIZCxEh5_fo"
      },
      "source": [
        "Ventilated"
      ]
    },
    {
      "cell_type": "code",
      "metadata": {
        "colab": {
          "base_uri": "https://localhost:8080/"
        },
        "id": "AdaMDnjQ6CP0",
        "outputId": "0397dd11-80e4-4c4f-ae70-cd3d81e93c72"
      },
      "source": [
        "pearson_coef, p_value = stats.pearsonr(df['Neutrophils_Count'], df['Ventilated-Yes'])\n",
        "print(\"The Pearson Correlation Coefficient is\", pearson_coef, \" with a P-value of P = \", p_value) \n",
        "\n",
        "if p_value<0.001:\n",
        "    print(\"correlation is strong\")\n",
        "elif p_value<0.05:\n",
        "    print(\"correlation is moderate\")\n",
        "elif p_value<0.1:\n",
        "    print(\"correlation is weak\")\n",
        "else:\n",
        "    print(\"no correlation\")"
      ],
      "execution_count": 103,
      "outputs": [
        {
          "output_type": "stream",
          "name": "stdout",
          "text": [
            "The Pearson Correlation Coefficient is 0.20639864994813817  with a P-value of P =  0.03646250007845696\n",
            "correlation is moderate\n"
          ]
        }
      ]
    },
    {
      "cell_type": "markdown",
      "metadata": {
        "id": "lUNE65VV6MNw"
      },
      "source": [
        "Recovery\n"
      ]
    },
    {
      "cell_type": "code",
      "metadata": {
        "id": "XYjnM34wp5sr",
        "colab": {
          "base_uri": "https://localhost:8080/"
        },
        "outputId": "c7e5bb35-a002-4f64-f11b-1877c20d0751"
      },
      "source": [
        "pearson_coef, p_value = stats.pearsonr(df['Platelet_Count'], df['Recovered'])\n",
        "print(\"The Pearson Correlation Coefficient is\", pearson_coef, \" with a P-value of P =\", p_value ) \n",
        "\n",
        "if p_value<0.001:\n",
        "    print(\"correlation is strong\")\n",
        "elif p_value<0.05:\n",
        "    print(\"correlation is moderate\")\n",
        "elif p_value<0.1:\n",
        "    print(\"correlation is weak\")\n",
        "else:\n",
        "    print(\"no correlation\")"
      ],
      "execution_count": 83,
      "outputs": [
        {
          "output_type": "stream",
          "name": "stdout",
          "text": [
            "The Pearson Correlation Coefficient is 0.18591844623223194  with a P-value of P = 0.060071721129428636\n",
            "correlation is weak\n"
          ]
        }
      ]
    },
    {
      "cell_type": "markdown",
      "metadata": {
        "id": "VOE7f4Z-6Ovw"
      },
      "source": [
        "Ventilated"
      ]
    },
    {
      "cell_type": "code",
      "metadata": {
        "colab": {
          "base_uri": "https://localhost:8080/"
        },
        "id": "0cZXi0ws6Qy8",
        "outputId": "6ea8df28-6caf-4950-85b0-051e78f375bf"
      },
      "source": [
        "pearson_coef, p_value = stats.pearsonr(df['Platelet_Count'], df['Ventilated-Yes'])\n",
        "print(\"The Pearson Correlation Coefficient is\", pearson_coef, \" with a P-value of P =\", p_value ) \n",
        "\n",
        "if p_value<0.001:\n",
        "    print(\"correlation is strong\")\n",
        "elif p_value<0.05:\n",
        "    print(\"correlation is moderate\")\n",
        "elif p_value<0.1:\n",
        "    print(\"correlation is weak\")\n",
        "else:\n",
        "    print(\"no correlation\")"
      ],
      "execution_count": 105,
      "outputs": [
        {
          "output_type": "stream",
          "name": "stdout",
          "text": [
            "The Pearson Correlation Coefficient is -0.11411868697359377  with a P-value of P = 0.2510520766084837\n",
            "no correlation\n"
          ]
        }
      ]
    },
    {
      "cell_type": "markdown",
      "metadata": {
        "id": "voe3mT2u6XyI"
      },
      "source": [
        "Recovery"
      ]
    },
    {
      "cell_type": "code",
      "metadata": {
        "id": "WQSXT475p5sr",
        "colab": {
          "base_uri": "https://localhost:8080/"
        },
        "outputId": "c4c66d28-9f46-452d-f1bb-d45a3f34deef"
      },
      "source": [
        "pearson_coef, p_value = stats.pearsonr(df['White_blood_cell_count'], df['Recovered'])\n",
        "print( \"The Pearson Correlation Coefficient is\", pearson_coef, \" with a P-value of P = \", p_value) \n",
        "\n",
        "if p_value<0.001:\n",
        "    print(\"correlation is strong\")\n",
        "elif p_value<0.05:\n",
        "    print(\"correlation is moderate\")\n",
        "elif p_value<0.1:\n",
        "    print(\"correlation is weak\")\n",
        "else:\n",
        "    print(\"no correlation\")"
      ],
      "execution_count": 84,
      "outputs": [
        {
          "output_type": "stream",
          "name": "stdout",
          "text": [
            "The Pearson Correlation Coefficient is 0.04988089125162958  with a P-value of P =  0.6168151357084469\n",
            "no correlation\n"
          ]
        }
      ]
    },
    {
      "cell_type": "markdown",
      "metadata": {
        "id": "FoDLIa_g6ZU1"
      },
      "source": [
        "Ventilated"
      ]
    },
    {
      "cell_type": "code",
      "metadata": {
        "colab": {
          "base_uri": "https://localhost:8080/"
        },
        "id": "YskOon596a8R",
        "outputId": "1095f89f-ee3e-45c8-d380-33d3afd92a96"
      },
      "source": [
        "pearson_coef, p_value = stats.pearsonr(df['White_blood_cell_count'], df['Ventilated-Yes'])\n",
        "print( \"The Pearson Correlation Coefficient is\", pearson_coef, \" with a P-value of P = \", p_value) \n",
        "\n",
        "if p_value<0.001:\n",
        "    print(\"correlation is strong\")\n",
        "elif p_value<0.05:\n",
        "    print(\"correlation is moderate\")\n",
        "elif p_value<0.1:\n",
        "    print(\"correlation is weak\")\n",
        "else:\n",
        "    print(\"no correlation\")"
      ],
      "execution_count": 106,
      "outputs": [
        {
          "output_type": "stream",
          "name": "stdout",
          "text": [
            "The Pearson Correlation Coefficient is 0.054333067619096564  with a P-value of P =  0.585689109402749\n",
            "no correlation\n"
          ]
        }
      ]
    },
    {
      "cell_type": "markdown",
      "metadata": {
        "id": "l4u1c1tX6f8t"
      },
      "source": [
        "Recovery\n"
      ]
    },
    {
      "cell_type": "code",
      "metadata": {
        "id": "fCTkCJBUp5sr",
        "colab": {
          "base_uri": "https://localhost:8080/"
        },
        "outputId": "e9c338ae-3ac1-4312-800a-a817e24e5bc3"
      },
      "source": [
        "pearson_coef, p_value = stats.pearsonr(df['Monocytes(%)'], df['Recovered'])\n",
        "print(\"The Pearson Correlation Coefficient is\", pearson_coef, \" with a P-value of P =\", p_value) \n",
        "\n",
        "if p_value<0.001:\n",
        "    print(\"correlation is strong\")\n",
        "elif p_value<0.05:\n",
        "    print(\"correlation is moderate\")\n",
        "elif p_value<0.1:\n",
        "    print(\"correlation is weak\")\n",
        "else:\n",
        "    print(\"no correlation\")"
      ],
      "execution_count": 85,
      "outputs": [
        {
          "output_type": "stream",
          "name": "stdout",
          "text": [
            "The Pearson Correlation Coefficient is -0.22464289546739674  with a P-value of P = 0.02253113643118112\n",
            "correlation is moderate\n"
          ]
        }
      ]
    },
    {
      "cell_type": "markdown",
      "metadata": {
        "id": "pqGUsxjz6ile"
      },
      "source": [
        "Ventilated"
      ]
    },
    {
      "cell_type": "code",
      "metadata": {
        "colab": {
          "base_uri": "https://localhost:8080/"
        },
        "id": "PFsGUYtp6lFa",
        "outputId": "8c261a3d-260f-4adc-f9f3-ffa506466d96"
      },
      "source": [
        "pearson_coef, p_value = stats.pearsonr(df['Monocytes(%)'], df['Recovered'])\n",
        "print(\"The Pearson Correlation Coefficient is\", pearson_coef, \" with a P-value of P =\", p_value) \n",
        "\n",
        "if p_value<0.001:\n",
        "    print(\"correlation is strong\")\n",
        "elif p_value<0.05:\n",
        "    print(\"correlation is moderate\")\n",
        "elif p_value<0.1:\n",
        "    print(\"correlation is weak\")\n",
        "else:\n",
        "    print(\"no correlation\")"
      ],
      "execution_count": 107,
      "outputs": [
        {
          "output_type": "stream",
          "name": "stdout",
          "text": [
            "The Pearson Correlation Coefficient is -0.22464289546739674  with a P-value of P = 0.02253113643118112\n",
            "correlation is moderate\n"
          ]
        }
      ]
    },
    {
      "cell_type": "markdown",
      "metadata": {
        "id": "c51wg0va6pPm"
      },
      "source": [
        "Recovery"
      ]
    },
    {
      "cell_type": "code",
      "metadata": {
        "id": "gxc3KhbHp5ss",
        "colab": {
          "base_uri": "https://localhost:8080/"
        },
        "outputId": "8ef32f63-4dea-4754-ba89-5a50a7e27532"
      },
      "source": [
        "pearson_coef, p_value = stats.pearsonr(df['Red_blood_cell_distribution_width'], df['Recovered'])\n",
        "print(\"The Pearson Correlation Coefficient is\", pearson_coef, \" with a P-value of P =  \", p_value ) \n",
        "\n",
        "if p_value<0.001:\n",
        "    print(\"correlation is strong\")\n",
        "elif p_value<0.05:\n",
        "    print(\"correlation is moderate\")\n",
        "elif p_value<0.1:\n",
        "    print(\"correlation is weak\")\n",
        "else:\n",
        "    print(\"no correlation\")"
      ],
      "execution_count": 87,
      "outputs": [
        {
          "output_type": "stream",
          "name": "stdout",
          "text": [
            "The Pearson Correlation Coefficient is -0.41575130585956876  with a P-value of P =   1.2578333343385435e-05\n",
            "correlation is strong\n"
          ]
        }
      ]
    },
    {
      "cell_type": "markdown",
      "metadata": {
        "id": "g-u1-Gtv6sLM"
      },
      "source": [
        "Ventilated"
      ]
    },
    {
      "cell_type": "code",
      "metadata": {
        "colab": {
          "base_uri": "https://localhost:8080/"
        },
        "id": "KjDJDVrD6wBV",
        "outputId": "87fb4360-a5fa-4b5d-ffe3-aa47c72bbf64"
      },
      "source": [
        "pearson_coef, p_value = stats.pearsonr(df['Red_blood_cell_distribution_width'], df['Ventilated-Yes'])\n",
        "print(\"The Pearson Correlation Coefficient is\", pearson_coef, \" with a P-value of P =  \", p_value ) \n",
        "\n",
        "if p_value<0.001:\n",
        "    print(\"correlation is strong\")\n",
        "elif p_value<0.05:\n",
        "    print(\"correlation is moderate\")\n",
        "elif p_value<0.1:\n",
        "    print(\"correlation is weak\")\n",
        "else:\n",
        "    print(\"no correlation\")"
      ],
      "execution_count": 109,
      "outputs": [
        {
          "output_type": "stream",
          "name": "stdout",
          "text": [
            "The Pearson Correlation Coefficient is 0.3200773949794996  with a P-value of P =   0.0009809099295529913\n",
            "correlation is strong\n"
          ]
        }
      ]
    },
    {
      "cell_type": "markdown",
      "metadata": {
        "id": "2JuzRbhq62II"
      },
      "source": [
        "Recovery vs Ventilated\n"
      ]
    },
    {
      "cell_type": "code",
      "metadata": {
        "id": "K7mNS0m4p5ss",
        "colab": {
          "base_uri": "https://localhost:8080/"
        },
        "outputId": "37ed3bcc-82b5-4b82-bac8-b2fd39b94255"
      },
      "source": [
        "pearson_coef, p_value = stats.pearsonr(df['Ventilated-Yes'], df['Recovered'])\n",
        "print(\"The Pearson Correlation Coefficient is\", pearson_coef, \" with a P-value of P = \", p_value)  \n",
        "\n",
        "if p_value<0.001:\n",
        "    print(\"correlation is strong\")\n",
        "elif p_value<0.05:\n",
        "    print(\"correlation is moderate\")\n",
        "elif p_value<0.1:\n",
        "    print(\"correlation is weak\")\n",
        "else:\n",
        "    print(\"no correlation\")"
      ],
      "execution_count": 88,
      "outputs": [
        {
          "output_type": "stream",
          "name": "stdout",
          "text": [
            "The Pearson Correlation Coefficient is -0.888219807384134  with a P-value of P =  6.794254676633803e-36\n",
            "correlation is strong\n"
          ]
        }
      ]
    },
    {
      "cell_type": "code",
      "metadata": {
        "id": "C2GL7dkCp5ss",
        "colab": {
          "base_uri": "https://localhost:8080/"
        },
        "outputId": "0ddff270-a159-41ca-8d26-8a8571914af3"
      },
      "source": [
        "pearson_coef, p_value = stats.pearsonr(df['Ventilated-No'], df['Recovered'])\n",
        "print(\"The Pearson Correlation Coefficient is\", pearson_coef, \" with a P-value of P = \", p_value)  \n",
        "\n",
        "if p_value<0.001:\n",
        "    print(\"correlation is strong\")\n",
        "elif p_value<0.05:\n",
        "    print(\"correlation is moderate\")\n",
        "elif p_value<0.1:\n",
        "    print(\"correlation is weak\")\n",
        "else:\n",
        "    print(\"no correlation\")"
      ],
      "execution_count": 91,
      "outputs": [
        {
          "output_type": "stream",
          "name": "stdout",
          "text": [
            "The Pearson Correlation Coefficient is 0.888219807384134  with a P-value of P =  6.794254676633803e-36\n",
            "correlation is strong\n"
          ]
        }
      ]
    },
    {
      "cell_type": "markdown",
      "metadata": {
        "id": "FbT-865ip5ss"
      },
      "source": [
        "<h2 id=\"anova\">6. ANOVA</h2>\n"
      ]
    },
    {
      "cell_type": "code",
      "metadata": {
        "id": "Yk_nQlldp5ss",
        "colab": {
          "base_uri": "https://localhost:8080/",
          "height": 452
        },
        "outputId": "fbf6b793-d5da-45bd-e29e-ff55cd6c1911"
      },
      "source": [
        "grouped_test2=df[['Lymphocyte_Count_Binned', 'Recovered']].groupby(['Lymphocyte_Count_Binned'])\n",
        "grouped_test2.head()"
      ],
      "execution_count": 93,
      "outputs": [
        {
          "output_type": "execute_result",
          "data": {
            "text/html": [
              "<div>\n",
              "<style scoped>\n",
              "    .dataframe tbody tr th:only-of-type {\n",
              "        vertical-align: middle;\n",
              "    }\n",
              "\n",
              "    .dataframe tbody tr th {\n",
              "        vertical-align: top;\n",
              "    }\n",
              "\n",
              "    .dataframe thead th {\n",
              "        text-align: right;\n",
              "    }\n",
              "</style>\n",
              "<table border=\"1\" class=\"dataframe\">\n",
              "  <thead>\n",
              "    <tr style=\"text-align: right;\">\n",
              "      <th></th>\n",
              "      <th>Lymphocyte_Count_Binned</th>\n",
              "      <th>Recovered</th>\n",
              "    </tr>\n",
              "  </thead>\n",
              "  <tbody>\n",
              "    <tr>\n",
              "      <th>0</th>\n",
              "      <td>less than 5</td>\n",
              "      <td>0</td>\n",
              "    </tr>\n",
              "    <tr>\n",
              "      <th>1</th>\n",
              "      <td>less than 5</td>\n",
              "      <td>0</td>\n",
              "    </tr>\n",
              "    <tr>\n",
              "      <th>2</th>\n",
              "      <td>less than 5</td>\n",
              "      <td>1</td>\n",
              "    </tr>\n",
              "    <tr>\n",
              "      <th>3</th>\n",
              "      <td>less than 5</td>\n",
              "      <td>1</td>\n",
              "    </tr>\n",
              "    <tr>\n",
              "      <th>4</th>\n",
              "      <td>5 to 11</td>\n",
              "      <td>1</td>\n",
              "    </tr>\n",
              "    <tr>\n",
              "      <th>5</th>\n",
              "      <td>less than 5</td>\n",
              "      <td>0</td>\n",
              "    </tr>\n",
              "    <tr>\n",
              "      <th>7</th>\n",
              "      <td>5 to 11</td>\n",
              "      <td>0</td>\n",
              "    </tr>\n",
              "    <tr>\n",
              "      <th>14</th>\n",
              "      <td>5 to 11</td>\n",
              "      <td>0</td>\n",
              "    </tr>\n",
              "    <tr>\n",
              "      <th>15</th>\n",
              "      <td>5 to 11</td>\n",
              "      <td>0</td>\n",
              "    </tr>\n",
              "    <tr>\n",
              "      <th>28</th>\n",
              "      <td>11+</td>\n",
              "      <td>0</td>\n",
              "    </tr>\n",
              "    <tr>\n",
              "      <th>39</th>\n",
              "      <td>5 to 11</td>\n",
              "      <td>1</td>\n",
              "    </tr>\n",
              "    <tr>\n",
              "      <th>52</th>\n",
              "      <td>11+</td>\n",
              "      <td>0</td>\n",
              "    </tr>\n",
              "    <tr>\n",
              "      <th>67</th>\n",
              "      <td>11+</td>\n",
              "      <td>0</td>\n",
              "    </tr>\n",
              "  </tbody>\n",
              "</table>\n",
              "</div>"
            ],
            "text/plain": [
              "   Lymphocyte_Count_Binned  Recovered\n",
              "0              less than 5          0\n",
              "1              less than 5          0\n",
              "2              less than 5          1\n",
              "3              less than 5          1\n",
              "4                  5 to 11          1\n",
              "5              less than 5          0\n",
              "7                  5 to 11          0\n",
              "14                 5 to 11          0\n",
              "15                 5 to 11          0\n",
              "28                     11+          0\n",
              "39                 5 to 11          1\n",
              "52                     11+          0\n",
              "67                     11+          0"
            ]
          },
          "metadata": {},
          "execution_count": 93
        }
      ]
    },
    {
      "cell_type": "markdown",
      "metadata": {
        "id": "DVbxqboip5st"
      },
      "source": [
        "We can obtain the values of the method group using the method \"get_group\".\n"
      ]
    },
    {
      "cell_type": "code",
      "metadata": {
        "id": "btoYyj43p5st",
        "colab": {
          "base_uri": "https://localhost:8080/"
        },
        "outputId": "abe4e1c0-1d68-483b-c2cd-8bc51d4294e3"
      },
      "source": [
        "grouped_test2.get_group('less than 5')['Recovered']"
      ],
      "execution_count": 94,
      "outputs": [
        {
          "output_type": "execute_result",
          "data": {
            "text/plain": [
              "0      0\n",
              "1      0\n",
              "2      1\n",
              "3      1\n",
              "5      0\n",
              "      ..\n",
              "96     1\n",
              "99     1\n",
              "100    1\n",
              "101    1\n",
              "102    1\n",
              "Name: Recovered, Length: 87, dtype: uint8"
            ]
          },
          "metadata": {},
          "execution_count": 94
        }
      ]
    },
    {
      "cell_type": "code",
      "metadata": {
        "id": "UV31UAi1p5st",
        "colab": {
          "base_uri": "https://localhost:8080/"
        },
        "outputId": "42840651-f5c7-4688-f1fe-d59312c972d1"
      },
      "source": [
        "# ANOVA\n",
        "f_val, p_val = stats.f_oneway(grouped_test2.get_group('less than 5')['Recovered'], grouped_test2.get_group('5 to 11')['Recovered'], grouped_test2.get_group('11+')['Recovered'])  \n",
        " \n",
        "print( \"ANOVA results: F=\", f_val, \", P =\", p_val)   "
      ],
      "execution_count": 95,
      "outputs": [
        {
          "output_type": "stream",
          "name": "stdout",
          "text": [
            "ANOVA results: F= 2.278771328299387 , P = 0.107703945116361\n"
          ]
        }
      ]
    },
    {
      "cell_type": "markdown",
      "metadata": {
        "id": "xlJgjpYRp5st"
      },
      "source": [
        "This is a great result with a large F-test score showing a strong correlation and a P-value of almost 0 implying almost certain statistical significance. But does this mean all three tested groups are all this highly correlated?\n",
        "\n",
        "Let's examine them separately.\n"
      ]
    },
    {
      "cell_type": "code",
      "metadata": {
        "id": "V7MK-VH2p5st",
        "colab": {
          "base_uri": "https://localhost:8080/"
        },
        "outputId": "b8742925-f089-48bc-e410-484ad5e6b748"
      },
      "source": [
        "f_val, p_val = stats.f_oneway(grouped_test2.get_group('less than 5')['Recovered'], grouped_test2.get_group('5 to 11')['Recovered'])  \n",
        " \n",
        "print( \"ANOVA results: F=\", f_val, \", P =\", p_val )"
      ],
      "execution_count": 96,
      "outputs": [
        {
          "output_type": "stream",
          "name": "stdout",
          "text": [
            "ANOVA results: F= 0.001784732030030453 , P = 0.9663884755337863\n"
          ]
        }
      ]
    },
    {
      "cell_type": "markdown",
      "metadata": {
        "id": "2x9ADJg1p5st"
      },
      "source": [
        "Let's examine the other groups.\n"
      ]
    },
    {
      "cell_type": "code",
      "metadata": {
        "scrolled": true,
        "id": "1UoYidSep5st",
        "colab": {
          "base_uri": "https://localhost:8080/"
        },
        "outputId": "89f30f19-c95e-4422-cb4a-5bac9921a452"
      },
      "source": [
        "f_val, p_val = stats.f_oneway(grouped_test2.get_group('11+')['Recovered'], grouped_test2.get_group('5 to 11')['Recovered'])  \n",
        "   \n",
        "print( \"ANOVA results: F=\", f_val, \", P =\", p_val)   "
      ],
      "execution_count": 97,
      "outputs": [
        {
          "output_type": "stream",
          "name": "stdout",
          "text": [
            "ANOVA results: F= 4.200000000000001 , P = 0.05964616576002253\n"
          ]
        }
      ]
    },
    {
      "cell_type": "code",
      "metadata": {
        "id": "nY436h4Qp5st",
        "colab": {
          "base_uri": "https://localhost:8080/"
        },
        "outputId": "d3d0bf9a-09f5-4ec0-80bc-eae297255209"
      },
      "source": [
        "f_val, p_val = stats.f_oneway(grouped_test2.get_group('less than 5')['Recovered'], grouped_test2.get_group('11+')['Recovered'])  \n",
        " \n",
        "print(\"ANOVA results: F=\", f_val, \", P =\", p_val)   "
      ],
      "execution_count": 98,
      "outputs": [
        {
          "output_type": "stream",
          "name": "stdout",
          "text": [
            "ANOVA results: F= 4.572549019607841 , P = 0.03525948267015065\n"
          ]
        }
      ]
    },
    {
      "cell_type": "code",
      "metadata": {
        "colab": {
          "base_uri": "https://localhost:8080/",
          "height": 142
        },
        "id": "jXzpcTrR7HLi",
        "outputId": "2c3ef524-549d-4fe3-a620-0281dcf50cbe"
      },
      "source": [
        "# grouping results\n",
        "df_gptest = df[['Age','Ventilated-Yes','Recovered']]\n",
        "grouped_test1 = df_gptest.groupby(['Ventilated-Yes','Recovered'],as_index=False).mean()\n",
        "grouped_test1"
      ],
      "execution_count": 110,
      "outputs": [
        {
          "output_type": "execute_result",
          "data": {
            "text/html": [
              "<div>\n",
              "<style scoped>\n",
              "    .dataframe tbody tr th:only-of-type {\n",
              "        vertical-align: middle;\n",
              "    }\n",
              "\n",
              "    .dataframe tbody tr th {\n",
              "        vertical-align: top;\n",
              "    }\n",
              "\n",
              "    .dataframe thead th {\n",
              "        text-align: right;\n",
              "    }\n",
              "</style>\n",
              "<table border=\"1\" class=\"dataframe\">\n",
              "  <thead>\n",
              "    <tr style=\"text-align: right;\">\n",
              "      <th></th>\n",
              "      <th>Ventilated-Yes</th>\n",
              "      <th>Recovered</th>\n",
              "      <th>Age</th>\n",
              "    </tr>\n",
              "  </thead>\n",
              "  <tbody>\n",
              "    <tr>\n",
              "      <th>0</th>\n",
              "      <td>0</td>\n",
              "      <td>1</td>\n",
              "      <td>39.745455</td>\n",
              "    </tr>\n",
              "    <tr>\n",
              "      <th>1</th>\n",
              "      <td>1</td>\n",
              "      <td>0</td>\n",
              "      <td>57.952381</td>\n",
              "    </tr>\n",
              "    <tr>\n",
              "      <th>2</th>\n",
              "      <td>1</td>\n",
              "      <td>1</td>\n",
              "      <td>41.333333</td>\n",
              "    </tr>\n",
              "  </tbody>\n",
              "</table>\n",
              "</div>"
            ],
            "text/plain": [
              "   Ventilated-Yes  Recovered        Age\n",
              "0               0          1  39.745455\n",
              "1               1          0  57.952381\n",
              "2               1          1  41.333333"
            ]
          },
          "metadata": {},
          "execution_count": 110
        }
      ]
    },
    {
      "cell_type": "code",
      "metadata": {
        "colab": {
          "base_uri": "https://localhost:8080/",
          "height": 173
        },
        "id": "jWJkYkD57HOl",
        "outputId": "0299bd1c-55e8-458f-8cca-c725e04b96fa"
      },
      "source": [
        "grouped_pivot = grouped_test1.pivot(index='Recovered',columns='Ventilated-Yes')\n",
        "grouped_pivot"
      ],
      "execution_count": 111,
      "outputs": [
        {
          "output_type": "execute_result",
          "data": {
            "text/html": [
              "<div>\n",
              "<style scoped>\n",
              "    .dataframe tbody tr th:only-of-type {\n",
              "        vertical-align: middle;\n",
              "    }\n",
              "\n",
              "    .dataframe tbody tr th {\n",
              "        vertical-align: top;\n",
              "    }\n",
              "\n",
              "    .dataframe thead tr th {\n",
              "        text-align: left;\n",
              "    }\n",
              "\n",
              "    .dataframe thead tr:last-of-type th {\n",
              "        text-align: right;\n",
              "    }\n",
              "</style>\n",
              "<table border=\"1\" class=\"dataframe\">\n",
              "  <thead>\n",
              "    <tr>\n",
              "      <th></th>\n",
              "      <th colspan=\"2\" halign=\"left\">Age</th>\n",
              "    </tr>\n",
              "    <tr>\n",
              "      <th>Ventilated-Yes</th>\n",
              "      <th>0</th>\n",
              "      <th>1</th>\n",
              "    </tr>\n",
              "    <tr>\n",
              "      <th>Recovered</th>\n",
              "      <th></th>\n",
              "      <th></th>\n",
              "    </tr>\n",
              "  </thead>\n",
              "  <tbody>\n",
              "    <tr>\n",
              "      <th>0</th>\n",
              "      <td>NaN</td>\n",
              "      <td>57.952381</td>\n",
              "    </tr>\n",
              "    <tr>\n",
              "      <th>1</th>\n",
              "      <td>39.745455</td>\n",
              "      <td>41.333333</td>\n",
              "    </tr>\n",
              "  </tbody>\n",
              "</table>\n",
              "</div>"
            ],
            "text/plain": [
              "                      Age           \n",
              "Ventilated-Yes          0          1\n",
              "Recovered                           \n",
              "0                     NaN  57.952381\n",
              "1               39.745455  41.333333"
            ]
          },
          "metadata": {},
          "execution_count": 111
        }
      ]
    },
    {
      "cell_type": "code",
      "metadata": {
        "colab": {
          "base_uri": "https://localhost:8080/",
          "height": 327
        },
        "id": "xpK6Kwxr7HR8",
        "outputId": "0445ba14-f9bf-4f05-f3eb-e07ea9617688"
      },
      "source": [
        "fig, ax = plt.subplots()\n",
        "im = ax.pcolor(grouped_pivot, cmap='RdBu')\n",
        "\n",
        "#label names\n",
        "row_labels = ['Not Ventilated','Ventilated']\n",
        "col_labels = ['Not Recovered','Recovered']\n",
        "\n",
        "#move ticks and labels to the center\n",
        "ax.set_xticks(np.arange(grouped_pivot.shape[1]) + 0.5, minor=False)\n",
        "ax.set_yticks(np.arange(grouped_pivot.shape[0]) + 0.5, minor=False)\n",
        "\n",
        "#insert labels\n",
        "ax.set_xticklabels(row_labels, minor=False)\n",
        "ax.set_yticklabels(col_labels, minor=False)\n",
        "\n",
        "#rotate label if too long\n",
        "plt.xticks(rotation=90)\n",
        "\n",
        "fig.colorbar(im)\n",
        "plt.show()"
      ],
      "execution_count": 113,
      "outputs": [
        {
          "output_type": "display_data",
          "data": {
            "image/png": "[encoded data removed]",
            "text/plain": [
              "<Figure size 432x288 with 2 Axes>"
            ]
          },
          "metadata": {
            "needs_background": "light"
          }
        }
      ]
    },
    {
      "cell_type": "markdown",
      "metadata": {
        "id": "OhcpYJCZp5su"
      },
      "source": [
        "<h3>Conclusion: Important Variables</h3>\n"
      ]
    },
    {
      "cell_type": "markdown",
      "metadata": {
        "id": "T-HiAURYp5sx"
      },
      "source": [
        "<p>We now have a better idea of what our data looks like and which variables are important to take into account when predicting the recovery . We have narrowed it down to the following variables:</p>\n",
        "\n",
        "Continuous numerical variables:\n",
        "\n",
        "<ul>\n",
        "    <li>Red Blood Cell Width</li>\n",
        "    <li>Ventilated</li>\n",
        "    <li>Age</li>\n",
        "</ul>\n",
        "\n",
        "Categorical variables:\n",
        "\n",
        "<ul>\n",
        "    <li>None</li>\n",
        "</ul>\n",
        "\n",
        "<p>As we now move into building machine learning models to automate our analysis, feeding the model with variables that meaningfully affect our target variable will improve our model's prediction performance.</p>\n"
      ]
    },
    {
      "cell_type": "code",
      "metadata": {
        "colab": {
          "base_uri": "https://localhost:8080/",
          "height": 312
        },
        "id": "aspSODG_1N_d",
        "outputId": "4637d6bc-d674-41dc-d1c6-e42709df8a0c"
      },
      "source": [
        "%matplotlib inline\n",
        "import matplotlib as plt\n",
        "from matplotlib import pyplot\n",
        "plt.pyplot.hist(df[\"Age\"])\n",
        "\n",
        "# set x/y labels and plot title\n",
        "plt.pyplot.xlabel(\"Age\")\n",
        "plt.pyplot.ylabel(\"count\")\n",
        "plt.pyplot.title(\"Age\")"
      ],
      "execution_count": 114,
      "outputs": [
        {
          "output_type": "execute_result",
          "data": {
            "text/plain": [
              "Text(0.5, 1.0, 'Age')"
            ]
          },
          "metadata": {},
          "execution_count": 114
        },
        {
          "output_type": "display_data",
          "data": {
            "image/png": "[encoded data removed]",
            "text/plain": [
              "<Figure size 432x288 with 1 Axes>"
            ]
          },
          "metadata": {
            "needs_background": "light"
          }
        }
      ]
    },
    {
      "cell_type": "code",
      "metadata": {
        "colab": {
          "base_uri": "https://localhost:8080/"
        },
        "id": "vaxL8_fP9S57",
        "outputId": "ac35ff5a-3cb3-45c3-a78d-cab124316b5b"
      },
      "source": [
        "bins = np.linspace(min(df[\"Age\"]), max(df[\"Age\"]), 6)\n",
        "bins"
      ],
      "execution_count": 119,
      "outputs": [
        {
          "output_type": "execute_result",
          "data": {
            "text/plain": [
              "array([17., 29., 41., 53., 65., 77.])"
            ]
          },
          "metadata": {},
          "execution_count": 119
        }
      ]
    },
    {
      "cell_type": "code",
      "metadata": {
        "id": "MKKsd0T694C1"
      },
      "source": [
        "bins1= np.array([17., 35., 40., 57., 70., 77.])"
      ],
      "execution_count": 124,
      "outputs": []
    },
    {
      "cell_type": "code",
      "metadata": {
        "id": "MEVzePnD-5_R"
      },
      "source": [
        "group_names = ['35 less', '35-40', '40-57', '57-70', '70+']"
      ],
      "execution_count": 125,
      "outputs": []
    },
    {
      "cell_type": "code",
      "metadata": {
        "id": "NfmVMyjJAZWl"
      },
      "source": [
        "df.drop('Age-Binned', axis=1, inplace= True)"
      ],
      "execution_count": 127,
      "outputs": []
    },
    {
      "cell_type": "code",
      "metadata": {
        "colab": {
          "base_uri": "https://localhost:8080/",
          "height": 204
        },
        "id": "cfLLzfy9_jgs",
        "outputId": "c7e7a80e-3754-4568-b9fa-f41b4e3b835c"
      },
      "source": [
        "df['Age-Binned'] = pd.cut(df['Age'], bins1, labels=group_names, include_lowest=True )\n",
        "df[['Age','Age-Binned']].head()"
      ],
      "execution_count": 129,
      "outputs": [
        {
          "output_type": "execute_result",
          "data": {
            "text/html": [
              "<div>\n",
              "<style scoped>\n",
              "    .dataframe tbody tr th:only-of-type {\n",
              "        vertical-align: middle;\n",
              "    }\n",
              "\n",
              "    .dataframe tbody tr th {\n",
              "        vertical-align: top;\n",
              "    }\n",
              "\n",
              "    .dataframe thead th {\n",
              "        text-align: right;\n",
              "    }\n",
              "</style>\n",
              "<table border=\"1\" class=\"dataframe\">\n",
              "  <thead>\n",
              "    <tr style=\"text-align: right;\">\n",
              "      <th></th>\n",
              "      <th>Age</th>\n",
              "      <th>Age-Binned</th>\n",
              "    </tr>\n",
              "  </thead>\n",
              "  <tbody>\n",
              "    <tr>\n",
              "      <th>0</th>\n",
              "      <td>51</td>\n",
              "      <td>40-57</td>\n",
              "    </tr>\n",
              "    <tr>\n",
              "      <th>1</th>\n",
              "      <td>65</td>\n",
              "      <td>57-70</td>\n",
              "    </tr>\n",
              "    <tr>\n",
              "      <th>2</th>\n",
              "      <td>32</td>\n",
              "      <td>35 less</td>\n",
              "    </tr>\n",
              "    <tr>\n",
              "      <th>3</th>\n",
              "      <td>36</td>\n",
              "      <td>35-40</td>\n",
              "    </tr>\n",
              "    <tr>\n",
              "      <th>4</th>\n",
              "      <td>46</td>\n",
              "      <td>40-57</td>\n",
              "    </tr>\n",
              "  </tbody>\n",
              "</table>\n",
              "</div>"
            ],
            "text/plain": [
              "   Age Age-Binned\n",
              "0   51      40-57\n",
              "1   65      57-70\n",
              "2   32    35 less\n",
              "3   36      35-40\n",
              "4   46      40-57"
            ]
          },
          "metadata": {},
          "execution_count": 129
        }
      ]
    },
    {
      "cell_type": "code",
      "metadata": {
        "colab": {
          "base_uri": "https://localhost:8080/"
        },
        "id": "0fpviqj6_w_L",
        "outputId": "dad1aaf4-e729-4a01-d9d9-4ce9f82fdc22"
      },
      "source": [
        "df[\"Age-Binned\"].value_counts()"
      ],
      "execution_count": 130,
      "outputs": [
        {
          "output_type": "execute_result",
          "data": {
            "text/plain": [
              "57-70      29\n",
              "40-57      27\n",
              "35 less    27\n",
              "35-40      14\n",
              "70+         6\n",
              "Name: Age-Binned, dtype: int64"
            ]
          },
          "metadata": {},
          "execution_count": 130
        }
      ]
    },
    {
      "cell_type": "code",
      "metadata": {
        "id": "kb5GCS7EACpQ"
      },
      "source": [
        "df_age= df[[\"Age-Binned\", \"Recovered\"]].groupby(\"Age-Binned\").sum()"
      ],
      "execution_count": 135,
      "outputs": []
    },
    {
      "cell_type": "code",
      "metadata": {
        "colab": {
          "base_uri": "https://localhost:8080/",
          "height": 235
        },
        "id": "lJGvlZygBVbx",
        "outputId": "64313b54-940a-4845-d709-0c1eaac41d87"
      },
      "source": [
        "df[[\"Age-Binned\", \"Not Recovered\"]].groupby(\"Age-Binned\").sum()"
      ],
      "execution_count": 133,
      "outputs": [
        {
          "output_type": "execute_result",
          "data": {
            "text/html": [
              "<div>\n",
              "<style scoped>\n",
              "    .dataframe tbody tr th:only-of-type {\n",
              "        vertical-align: middle;\n",
              "    }\n",
              "\n",
              "    .dataframe tbody tr th {\n",
              "        vertical-align: top;\n",
              "    }\n",
              "\n",
              "    .dataframe thead th {\n",
              "        text-align: right;\n",
              "    }\n",
              "</style>\n",
              "<table border=\"1\" class=\"dataframe\">\n",
              "  <thead>\n",
              "    <tr style=\"text-align: right;\">\n",
              "      <th></th>\n",
              "      <th>Not Recovered</th>\n",
              "    </tr>\n",
              "    <tr>\n",
              "      <th>Age-Binned</th>\n",
              "      <th></th>\n",
              "    </tr>\n",
              "  </thead>\n",
              "  <tbody>\n",
              "    <tr>\n",
              "      <th>35 less</th>\n",
              "      <td>4</td>\n",
              "    </tr>\n",
              "    <tr>\n",
              "      <th>35-40</th>\n",
              "      <td>1</td>\n",
              "    </tr>\n",
              "    <tr>\n",
              "      <th>40-57</th>\n",
              "      <td>12</td>\n",
              "    </tr>\n",
              "    <tr>\n",
              "      <th>57-70</th>\n",
              "      <td>20</td>\n",
              "    </tr>\n",
              "    <tr>\n",
              "      <th>70+</th>\n",
              "      <td>5</td>\n",
              "    </tr>\n",
              "  </tbody>\n",
              "</table>\n",
              "</div>"
            ],
            "text/plain": [
              "            Not Recovered\n",
              "Age-Binned               \n",
              "35 less                 4\n",
              "35-40                   1\n",
              "40-57                  12\n",
              "57-70                  20\n",
              "70+                     5"
            ]
          },
          "metadata": {},
          "execution_count": 133
        }
      ]
    },
    {
      "cell_type": "code",
      "metadata": {
        "colab": {
          "base_uri": "https://localhost:8080/",
          "height": 296
        },
        "id": "1rnxfavKBZDx",
        "outputId": "ad703872-9a16-4568-af6d-10859ea3a4bb"
      },
      "source": [
        "sns.lineplot(data=df_age, x=\"Age-Binned\", y=\"Recovered\")"
      ],
      "execution_count": 137,
      "outputs": [
        {
          "output_type": "execute_result",
          "data": {
            "text/plain": [
              "<matplotlib.axes._subplots.AxesSubplot at 0x7fbd3c46cad0>"
            ]
          },
          "metadata": {},
          "execution_count": 137
        },
        {
          "output_type": "display_data",
          "data": {
            "image/png": "[encoded data removed]",
            "text/plain": [
              "<Figure size 432x288 with 1 Axes>"
            ]
          },
          "metadata": {
            "needs_background": "light"
          }
        }
      ]
    },
    {
      "cell_type": "code",
      "metadata": {
        "id": "qKuTmCjyCWlq"
      },
      "source": [
        "df.to_csv('cov19_cvc_cleaned2.csv')"
      ],
      "execution_count": 138,
      "outputs": []
    },
    {
      "cell_type": "code",
      "metadata": {
        "id": "DHahFd2fDPLO"
      },
      "source": [
        ""
      ],
      "execution_count": null,
      "outputs": []
    }
  ]
}