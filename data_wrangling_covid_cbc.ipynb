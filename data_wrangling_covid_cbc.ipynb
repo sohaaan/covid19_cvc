{
  "nbformat": 4,
  "nbformat_minor": 0,
  "metadata": {
    "anaconda-cloud": {},
    "kernelspec": {
      "display_name": "Python",
      "language": "python",
      "name": "conda-env-python-py"
    },
    "language_info": {
      "codemirror_mode": {
        "name": "ipython",
        "version": 3
      },
      "file_extension": ".py",
      "mimetype": "text/x-python",
      "name": "python",
      "nbconvert_exporter": "python",
      "pygments_lexer": "ipython3",
      "version": "3.6.13"
    },
    "colab": {
      "name": "data_wrangling_covid_cbc.ipynb",
      "provenance": []
    }
  },
  "cells": [
    {
      "cell_type": "markdown",
      "metadata": {
        "id": "hkAzkR9u52Te"
      },
      "source": [
        "<h4>Import pandas</h4> \n"
      ]
    },
    {
      "cell_type": "code",
      "metadata": {
        "id": "mm7lWhCN52Tg"
      },
      "source": [
        "import pandas as pd\n",
        "import matplotlib.pylab as plt"
      ],
      "execution_count": 1,
      "outputs": []
    },
    {
      "cell_type": "markdown",
      "metadata": {
        "id": "xH6fDJh252Tk"
      },
      "source": [
        "\n",
        "Use the Pandas method <b>read_csv()</b> to load the data from the web address. Set the parameter  \"names\" equal to the Python list \"headers\".\n"
      ]
    },
    {
      "cell_type": "code",
      "metadata": {
        "id": "KQaDBWYVJ3_K"
      },
      "source": [
        "headers= ['Admission_Date', 'Discharge_DATE',\t'Outcome',\t'Age',\t'Gender',\t'Sample_Collection_Date', 'Treatment', 'Ventilated (Y/N)',\t'Red_blood_cell_distribution_width',\t'Monocytes(%)',\t'White_blood_cell_count',\t'Platelet_Count', 'Lymphocyte_Count',\t'Neutrophils_Count']"
      ],
      "execution_count": 18,
      "outputs": []
    },
    {
      "cell_type": "code",
      "metadata": {
        "id": "nMiccte952Tk"
      },
      "source": [
        "df = pd.read_csv('cov19_cvc.csv', names = headers)"
      ],
      "execution_count": 19,
      "outputs": []
    },
    {
      "cell_type": "code",
      "metadata": {
        "id": "dOOaurmrMNuS"
      },
      "source": [
        "df.drop(df.index[:1], inplace=True)"
      ],
      "execution_count": 21,
      "outputs": []
    },
    {
      "cell_type": "code",
      "metadata": {
        "id": "Rq_7mFpY52Tk",
        "colab": {
          "base_uri": "https://localhost:8080/",
          "height": 360
        },
        "outputId": "c5b4ab8e-b394-4c28-cb8d-3a4e39148af4"
      },
      "source": [
        "df.head()"
      ],
      "execution_count": 23,
      "outputs": [
        {
          "output_type": "execute_result",
          "data": {
            "text/html": [
              "<div>\n",
              "<style scoped>\n",
              "    .dataframe tbody tr th:only-of-type {\n",
              "        vertical-align: middle;\n",
              "    }\n",
              "\n",
              "    .dataframe tbody tr th {\n",
              "        vertical-align: top;\n",
              "    }\n",
              "\n",
              "    .dataframe thead th {\n",
              "        text-align: right;\n",
              "    }\n",
              "</style>\n",
              "<table border=\"1\" class=\"dataframe\">\n",
              "  <thead>\n",
              "    <tr style=\"text-align: right;\">\n",
              "      <th></th>\n",
              "      <th>Admission_Date</th>\n",
              "      <th>Discharge_DATE</th>\n",
              "      <th>Outcome</th>\n",
              "      <th>Age</th>\n",
              "      <th>Gender</th>\n",
              "      <th>Sample_Collection_Date</th>\n",
              "      <th>Treatment</th>\n",
              "      <th>Ventilated (Y/N)</th>\n",
              "      <th>Red_blood_cell_distribution_width</th>\n",
              "      <th>Monocytes(%)</th>\n",
              "      <th>White_blood_cell_count</th>\n",
              "      <th>Platelet_Count</th>\n",
              "      <th>Lymphocyte_Count</th>\n",
              "      <th>Neutrophils_Count</th>\n",
              "    </tr>\n",
              "  </thead>\n",
              "  <tbody>\n",
              "    <tr>\n",
              "      <th>1</th>\n",
              "      <td>8/10/2020</td>\n",
              "      <td>8/8/2020</td>\n",
              "      <td>Not Recovered</td>\n",
              "      <td>51</td>\n",
              "      <td>Male</td>\n",
              "      <td>8/10/2020</td>\n",
              "      <td>antibiotics,  O2</td>\n",
              "      <td>Yes</td>\n",
              "      <td>13.2</td>\n",
              "      <td>3.3</td>\n",
              "      <td>21</td>\n",
              "      <td>462</td>\n",
              "      <td>0.44</td>\n",
              "      <td>19.43</td>\n",
              "    </tr>\n",
              "    <tr>\n",
              "      <th>2</th>\n",
              "      <td>7/24/2020</td>\n",
              "      <td>8/5/2020</td>\n",
              "      <td>Not Recovered</td>\n",
              "      <td>65</td>\n",
              "      <td>Female</td>\n",
              "      <td>7/24/2020</td>\n",
              "      <td>Paracetamol, Antibiotics,  O2</td>\n",
              "      <td>Yes</td>\n",
              "      <td>40</td>\n",
              "      <td>3</td>\n",
              "      <td>8.79</td>\n",
              "      <td>180.66</td>\n",
              "      <td>4.39</td>\n",
              "      <td>7.56</td>\n",
              "    </tr>\n",
              "    <tr>\n",
              "      <th>3</th>\n",
              "      <td>7/22/2020</td>\n",
              "      <td>8/8/2020</td>\n",
              "      <td>Recovered</td>\n",
              "      <td>32</td>\n",
              "      <td>Male</td>\n",
              "      <td>7/22/2020</td>\n",
              "      <td>Antibiotics, O2</td>\n",
              "      <td>No</td>\n",
              "      <td>11.7</td>\n",
              "      <td>5.3</td>\n",
              "      <td>9.9</td>\n",
              "      <td>336</td>\n",
              "      <td>3.47</td>\n",
              "      <td>5.34</td>\n",
              "    </tr>\n",
              "    <tr>\n",
              "      <th>4</th>\n",
              "      <td>7/19/2020</td>\n",
              "      <td>8/5/2020</td>\n",
              "      <td>Recovered</td>\n",
              "      <td>36</td>\n",
              "      <td>Female</td>\n",
              "      <td>7/19/2020</td>\n",
              "      <td>Antibiotics, O2</td>\n",
              "      <td>No</td>\n",
              "      <td>13</td>\n",
              "      <td>5</td>\n",
              "      <td>9.95</td>\n",
              "      <td>240.1</td>\n",
              "      <td>0.8</td>\n",
              "      <td>8.66</td>\n",
              "    </tr>\n",
              "    <tr>\n",
              "      <th>5</th>\n",
              "      <td>7/18/2020</td>\n",
              "      <td>8/5/2020</td>\n",
              "      <td>Recovered</td>\n",
              "      <td>46</td>\n",
              "      <td>Male</td>\n",
              "      <td>7/18/2020</td>\n",
              "      <td>Paracetamol, Antibiotics,  O2</td>\n",
              "      <td>No</td>\n",
              "      <td>31</td>\n",
              "      <td>3</td>\n",
              "      <td>14.15</td>\n",
              "      <td>236.58</td>\n",
              "      <td>7.93</td>\n",
              "      <td>13.02</td>\n",
              "    </tr>\n",
              "  </tbody>\n",
              "</table>\n",
              "</div>"
            ],
            "text/plain": [
              "  Admission_Date Discharge_DATE  ... Lymphocyte_Count Neutrophils_Count\n",
              "1      8/10/2020       8/8/2020  ...             0.44             19.43\n",
              "2      7/24/2020       8/5/2020  ...             4.39              7.56\n",
              "3      7/22/2020       8/8/2020  ...             3.47              5.34\n",
              "4      7/19/2020       8/5/2020  ...              0.8              8.66\n",
              "5      7/18/2020       8/5/2020  ...             7.93             13.02\n",
              "\n",
              "[5 rows x 14 columns]"
            ]
          },
          "metadata": {},
          "execution_count": 23
        }
      ]
    },
    {
      "cell_type": "markdown",
      "metadata": {
        "id": "u1dy_y0152Tm"
      },
      "source": [
        "<h4>Evaluating for Missing Data</h4>\n",
        "\n",
        "Lets see if there is any null values\n"
      ]
    },
    {
      "cell_type": "code",
      "metadata": {
        "id": "vtoOGnhx52Tm",
        "colab": {
          "base_uri": "https://localhost:8080/",
          "height": 241
        },
        "outputId": "161d38a4-4ebd-4859-fa3e-50e85cc836d3"
      },
      "source": [
        "missing_data = df.isnull()\n",
        "missing_data.head(5)"
      ],
      "execution_count": 24,
      "outputs": [
        {
          "output_type": "execute_result",
          "data": {
            "text/html": [
              "<div>\n",
              "<style scoped>\n",
              "    .dataframe tbody tr th:only-of-type {\n",
              "        vertical-align: middle;\n",
              "    }\n",
              "\n",
              "    .dataframe tbody tr th {\n",
              "        vertical-align: top;\n",
              "    }\n",
              "\n",
              "    .dataframe thead th {\n",
              "        text-align: right;\n",
              "    }\n",
              "</style>\n",
              "<table border=\"1\" class=\"dataframe\">\n",
              "  <thead>\n",
              "    <tr style=\"text-align: right;\">\n",
              "      <th></th>\n",
              "      <th>Admission_Date</th>\n",
              "      <th>Discharge_DATE</th>\n",
              "      <th>Outcome</th>\n",
              "      <th>Age</th>\n",
              "      <th>Gender</th>\n",
              "      <th>Sample_Collection_Date</th>\n",
              "      <th>Treatment</th>\n",
              "      <th>Ventilated (Y/N)</th>\n",
              "      <th>Red_blood_cell_distribution_width</th>\n",
              "      <th>Monocytes(%)</th>\n",
              "      <th>White_blood_cell_count</th>\n",
              "      <th>Platelet_Count</th>\n",
              "      <th>Lymphocyte_Count</th>\n",
              "      <th>Neutrophils_Count</th>\n",
              "    </tr>\n",
              "  </thead>\n",
              "  <tbody>\n",
              "    <tr>\n",
              "      <th>1</th>\n",
              "      <td>False</td>\n",
              "      <td>False</td>\n",
              "      <td>False</td>\n",
              "      <td>False</td>\n",
              "      <td>False</td>\n",
              "      <td>False</td>\n",
              "      <td>False</td>\n",
              "      <td>False</td>\n",
              "      <td>False</td>\n",
              "      <td>False</td>\n",
              "      <td>False</td>\n",
              "      <td>False</td>\n",
              "      <td>False</td>\n",
              "      <td>False</td>\n",
              "    </tr>\n",
              "    <tr>\n",
              "      <th>2</th>\n",
              "      <td>False</td>\n",
              "      <td>False</td>\n",
              "      <td>False</td>\n",
              "      <td>False</td>\n",
              "      <td>False</td>\n",
              "      <td>False</td>\n",
              "      <td>False</td>\n",
              "      <td>False</td>\n",
              "      <td>False</td>\n",
              "      <td>False</td>\n",
              "      <td>False</td>\n",
              "      <td>False</td>\n",
              "      <td>False</td>\n",
              "      <td>False</td>\n",
              "    </tr>\n",
              "    <tr>\n",
              "      <th>3</th>\n",
              "      <td>False</td>\n",
              "      <td>False</td>\n",
              "      <td>False</td>\n",
              "      <td>False</td>\n",
              "      <td>False</td>\n",
              "      <td>False</td>\n",
              "      <td>False</td>\n",
              "      <td>False</td>\n",
              "      <td>False</td>\n",
              "      <td>False</td>\n",
              "      <td>False</td>\n",
              "      <td>False</td>\n",
              "      <td>False</td>\n",
              "      <td>False</td>\n",
              "    </tr>\n",
              "    <tr>\n",
              "      <th>4</th>\n",
              "      <td>False</td>\n",
              "      <td>False</td>\n",
              "      <td>False</td>\n",
              "      <td>False</td>\n",
              "      <td>False</td>\n",
              "      <td>False</td>\n",
              "      <td>False</td>\n",
              "      <td>False</td>\n",
              "      <td>False</td>\n",
              "      <td>False</td>\n",
              "      <td>False</td>\n",
              "      <td>False</td>\n",
              "      <td>False</td>\n",
              "      <td>False</td>\n",
              "    </tr>\n",
              "    <tr>\n",
              "      <th>5</th>\n",
              "      <td>False</td>\n",
              "      <td>False</td>\n",
              "      <td>False</td>\n",
              "      <td>False</td>\n",
              "      <td>False</td>\n",
              "      <td>False</td>\n",
              "      <td>False</td>\n",
              "      <td>False</td>\n",
              "      <td>False</td>\n",
              "      <td>False</td>\n",
              "      <td>False</td>\n",
              "      <td>False</td>\n",
              "      <td>False</td>\n",
              "      <td>False</td>\n",
              "    </tr>\n",
              "  </tbody>\n",
              "</table>\n",
              "</div>"
            ],
            "text/plain": [
              "   Admission_Date  Discharge_DATE  ...  Lymphocyte_Count  Neutrophils_Count\n",
              "1           False           False  ...             False              False\n",
              "2           False           False  ...             False              False\n",
              "3           False           False  ...             False              False\n",
              "4           False           False  ...             False              False\n",
              "5           False           False  ...             False              False\n",
              "\n",
              "[5 rows x 14 columns]"
            ]
          },
          "metadata": {},
          "execution_count": 24
        }
      ]
    },
    {
      "cell_type": "markdown",
      "metadata": {
        "id": "qJv7Vecx52Tn"
      },
      "source": [
        "\"True\" means the value is a missing value while \"False\" means the value is not a missing value.\n"
      ]
    },
    {
      "cell_type": "markdown",
      "metadata": {
        "id": "uTxpHr2252Tn"
      },
      "source": [
        "<h4>Count missing values in each column</h4>\n"
      ]
    },
    {
      "cell_type": "code",
      "metadata": {
        "id": "NR0uojmb52Tn",
        "colab": {
          "base_uri": "https://localhost:8080/"
        },
        "outputId": "d9d0f588-0168-4e1f-bcda-f9f841e151cb"
      },
      "source": [
        "for column in missing_data.columns.values.tolist():\n",
        "    print(column)\n",
        "    print (missing_data[column].value_counts())\n",
        "    print(\"\")    "
      ],
      "execution_count": 25,
      "outputs": [
        {
          "output_type": "stream",
          "name": "stdout",
          "text": [
            "Admission_Date\n",
            "False    103\n",
            "Name: Admission_Date, dtype: int64\n",
            "\n",
            "Discharge_DATE\n",
            "False    103\n",
            "Name: Discharge_DATE, dtype: int64\n",
            "\n",
            "Outcome\n",
            "False    103\n",
            "Name: Outcome, dtype: int64\n",
            "\n",
            "Age\n",
            "False    103\n",
            "Name: Age, dtype: int64\n",
            "\n",
            "Gender\n",
            "False    103\n",
            "Name: Gender, dtype: int64\n",
            "\n",
            "Sample_Collection_Date\n",
            "False    103\n",
            "Name: Sample_Collection_Date, dtype: int64\n",
            "\n",
            "Treatment\n",
            "False    103\n",
            "Name: Treatment, dtype: int64\n",
            "\n",
            "Ventilated (Y/N)\n",
            "False    103\n",
            "Name: Ventilated (Y/N), dtype: int64\n",
            "\n",
            "Red_blood_cell_distribution_width\n",
            "False    103\n",
            "Name: Red_blood_cell_distribution_width, dtype: int64\n",
            "\n",
            "Monocytes(%)\n",
            "False    103\n",
            "Name: Monocytes(%), dtype: int64\n",
            "\n",
            "White_blood_cell_count\n",
            "False    103\n",
            "Name: White_blood_cell_count, dtype: int64\n",
            "\n",
            "Platelet_Count\n",
            "False    103\n",
            "Name: Platelet_Count, dtype: int64\n",
            "\n",
            "Lymphocyte_Count\n",
            "False    103\n",
            "Name: Lymphocyte_Count, dtype: int64\n",
            "\n",
            "Neutrophils_Count\n",
            "False    103\n",
            "Name: Neutrophils_Count, dtype: int64\n",
            "\n"
          ]
        }
      ]
    },
    {
      "cell_type": "code",
      "metadata": {
        "colab": {
          "base_uri": "https://localhost:8080/"
        },
        "id": "i4sSOqc_IzAx",
        "outputId": "bb1169a1-6a70-443d-9694-1de11e46b08b"
      },
      "source": [
        "df.dtypes"
      ],
      "execution_count": 26,
      "outputs": [
        {
          "output_type": "execute_result",
          "data": {
            "text/plain": [
              "Admission_Date                       object\n",
              "Discharge_DATE                       object\n",
              "Outcome                              object\n",
              "Age                                  object\n",
              "Gender                               object\n",
              "Sample_Collection_Date               object\n",
              "Treatment                            object\n",
              "Ventilated (Y/N)                     object\n",
              "Red_blood_cell_distribution_width    object\n",
              "Monocytes(%)                         object\n",
              "White_blood_cell_count               object\n",
              "Platelet_Count                       object\n",
              "Lymphocyte_Count                     object\n",
              "Neutrophils_Count                    object\n",
              "dtype: object"
            ]
          },
          "metadata": {},
          "execution_count": 26
        }
      ]
    },
    {
      "cell_type": "markdown",
      "metadata": {
        "id": "LDiPRC1G52Tq"
      },
      "source": [
        "To see which values are present in a particular column, we can use the \".value_counts()\" method:\n"
      ]
    },
    {
      "cell_type": "code",
      "metadata": {
        "id": "dL-2kPZv52Tq",
        "colab": {
          "base_uri": "https://localhost:8080/"
        },
        "outputId": "6c9b3e1c-0099-4420-e3d5-f72fc6ee2205"
      },
      "source": [
        "df['Ventilated (Y/N)'].value_counts()"
      ],
      "execution_count": 27,
      "outputs": [
        {
          "output_type": "execute_result",
          "data": {
            "text/plain": [
              "No     55\n",
              "Yes    48\n",
              "Name: Ventilated (Y/N), dtype: int64"
            ]
          },
          "metadata": {},
          "execution_count": 27
        }
      ]
    },
    {
      "cell_type": "code",
      "metadata": {
        "colab": {
          "base_uri": "https://localhost:8080/"
        },
        "id": "nX6S3atZIGJw",
        "outputId": "c67a76ec-518e-4698-f1eb-d302b94718de"
      },
      "source": [
        "df[\"Treatment\"].value_counts()"
      ],
      "execution_count": 28,
      "outputs": [
        {
          "output_type": "execute_result",
          "data": {
            "text/plain": [
              "Antibiotics, O2                  42\n",
              "antibiotics,  O2                 20\n",
              "Paracetamol, Antibiotics,  O2    18\n",
              "antibiotics                       9\n",
              "Antibiotics,  O2                  4\n",
              "Antibiotic,  O2                   2\n",
              "Antibiotics,  O8                  1\n",
              "Antibiotics,  O4                  1\n",
              "Antibiotics,  O7                  1\n",
              "Antibiotics,  O5                  1\n",
              "Antibiotics,  O6                  1\n",
              "Antibiotics,  O9                  1\n",
              "Antibiotics                       1\n",
              "Antibiotics,  O3                  1\n",
              "Name: Treatment, dtype: int64"
            ]
          },
          "metadata": {},
          "execution_count": 28
        }
      ]
    },
    {
      "cell_type": "code",
      "metadata": {
        "colab": {
          "base_uri": "https://localhost:8080/"
        },
        "id": "b02p6iYXM6p7",
        "outputId": "454e5f61-7ddc-4b20-fb4b-805172b39b57"
      },
      "source": [
        "df[\"Gender\"].value_counts()"
      ],
      "execution_count": 29,
      "outputs": [
        {
          "output_type": "execute_result",
          "data": {
            "text/plain": [
              "Male      55\n",
              "Female    48\n",
              "Name: Gender, dtype: int64"
            ]
          },
          "metadata": {},
          "execution_count": 29
        }
      ]
    },
    {
      "cell_type": "code",
      "metadata": {
        "colab": {
          "base_uri": "https://localhost:8080/"
        },
        "id": "qGjc2UwDNVbX",
        "outputId": "a2301d2a-2169-42a1-8e58-bb9c3656c86e"
      },
      "source": [
        "df[\"Outcome\"].value_counts()"
      ],
      "execution_count": 30,
      "outputs": [
        {
          "output_type": "execute_result",
          "data": {
            "text/plain": [
              "Recovered        61\n",
              "Not Recovered    42\n",
              "Name: Outcome, dtype: int64"
            ]
          },
          "metadata": {},
          "execution_count": 30
        }
      ]
    },
    {
      "cell_type": "markdown",
      "metadata": {
        "id": "nlcN1TkD52Tq"
      },
      "source": [
        "The replacement procedure is very similar to what we have seen previously:\n"
      ]
    },
    {
      "cell_type": "code",
      "metadata": {
        "id": "GdaEWFVo52Tq"
      },
      "source": [
        "#replace the duplicate vaulues and make them similar in treatmen coulmn \n",
        "df[\"Treatment\"].replace('antibiotics,  O2', \"Antibiotics,  O2\", inplace=True)\n",
        "df[\"Treatment\"].replace('Antibiotics, O2', \"Antibiotics,  O2\", inplace=True)\n",
        "df[\"Treatment\"].replace('Antibiotic,  O2', \"Antibiotics,  O2\", inplace=True)\n",
        "df[\"Treatment\"].replace('antibiotics', \"Antibiotics\", inplace=True)"
      ],
      "execution_count": 31,
      "outputs": []
    },
    {
      "cell_type": "code",
      "metadata": {
        "id": "GhJDWkVlO8Je"
      },
      "source": [
        "df[\"Treatment\"].replace(to_replace='Antibiotic,  O2 ', value=\"Antibiotics,  O2\", inplace=True)"
      ],
      "execution_count": 79,
      "outputs": []
    },
    {
      "cell_type": "code",
      "metadata": {
        "colab": {
          "base_uri": "https://localhost:8080/",
          "height": 80
        },
        "id": "5mSnkStjTdC9",
        "outputId": "c9996215-b270-4f4e-ae48-b521d1ba49c4"
      },
      "source": [
        "df[[\"Treatment\"]][44:45]"
      ],
      "execution_count": 80,
      "outputs": [
        {
          "output_type": "execute_result",
          "data": {
            "text/html": [
              "<div>\n",
              "<style scoped>\n",
              "    .dataframe tbody tr th:only-of-type {\n",
              "        vertical-align: middle;\n",
              "    }\n",
              "\n",
              "    .dataframe tbody tr th {\n",
              "        vertical-align: top;\n",
              "    }\n",
              "\n",
              "    .dataframe thead th {\n",
              "        text-align: right;\n",
              "    }\n",
              "</style>\n",
              "<table border=\"1\" class=\"dataframe\">\n",
              "  <thead>\n",
              "    <tr style=\"text-align: right;\">\n",
              "      <th></th>\n",
              "      <th>Treatment</th>\n",
              "    </tr>\n",
              "  </thead>\n",
              "  <tbody>\n",
              "    <tr>\n",
              "      <th>45</th>\n",
              "      <td>Antibiotics,  O2</td>\n",
              "    </tr>\n",
              "  </tbody>\n",
              "</table>\n",
              "</div>"
            ],
            "text/plain": [
              "           Treatment\n",
              "45  Antibiotics,  O2"
            ]
          },
          "metadata": {},
          "execution_count": 80
        }
      ]
    },
    {
      "cell_type": "code",
      "metadata": {
        "colab": {
          "base_uri": "https://localhost:8080/"
        },
        "id": "Y9LUx6YnOy-J",
        "outputId": "10c492a0-5174-4842-c9b6-c89ad5c01a6a"
      },
      "source": [
        "df[\"Treatment\"].value_counts()"
      ],
      "execution_count": 81,
      "outputs": [
        {
          "output_type": "execute_result",
          "data": {
            "text/plain": [
              "Antibiotics,  O2                 68\n",
              "Paracetamol, Antibiotics,  O2    18\n",
              "Antibiotics                      10\n",
              "Antibiotics,  O7                  1\n",
              "Antibiotics,  O5                  1\n",
              "Antibiotics,  O6                  1\n",
              "Antibiotics,  O8                  1\n",
              "Antibiotics,  O4                  1\n",
              "Antibiotics,  O9                  1\n",
              "Antibiotics,  O3                  1\n",
              "Name: Treatment, dtype: int64"
            ]
          },
          "metadata": {},
          "execution_count": 81
        }
      ]
    },
    {
      "cell_type": "code",
      "metadata": {
        "id": "4q-w5y2k52Tr",
        "colab": {
          "base_uri": "https://localhost:8080/"
        },
        "outputId": "12acd4aa-f538-474f-e826-11e159bad258"
      },
      "source": [
        "df.dtypes"
      ],
      "execution_count": 82,
      "outputs": [
        {
          "output_type": "execute_result",
          "data": {
            "text/plain": [
              "Admission_Date                       object\n",
              "Discharge_DATE                       object\n",
              "Outcome                              object\n",
              "Age                                  object\n",
              "Gender                               object\n",
              "Sample_Collection_Date               object\n",
              "Treatment                            object\n",
              "Ventilated (Y/N)                     object\n",
              "Red_blood_cell_distribution_width    object\n",
              "Monocytes(%)                         object\n",
              "White_blood_cell_count               object\n",
              "Platelet_Count                       object\n",
              "Lymphocyte_Count                     object\n",
              "Neutrophils_Count                    object\n",
              "dtype: object"
            ]
          },
          "metadata": {},
          "execution_count": 82
        }
      ]
    },
    {
      "cell_type": "markdown",
      "metadata": {
        "id": "y36PyLba52Ts"
      },
      "source": [
        "<h4>Convert data types to proper format</h4>\n"
      ]
    },
    {
      "cell_type": "code",
      "metadata": {
        "id": "YJ9GW1Q652Ts"
      },
      "source": [
        "df[[\"Red_blood_cell_distribution_width\", \"Monocytes(%)\"]] = df[[\"Red_blood_cell_distribution_width\", \"Monocytes(%)\"]].astype(\"float\")\n",
        "df[[\"Age\"]] = df[[\"Age\"]].astype(\"int\")\n",
        "df[[\"White_blood_cell_count\",\"Platelet_Count\"]] = df[[\"White_blood_cell_count\",\"Platelet_Count\"]].astype(\"float\")\n",
        "df[[\"Lymphocyte_Count\",\"Neutrophils_Count\"]] = df[[\"Lymphocyte_Count\",\"Neutrophils_Count\"]].astype(\"float\")"
      ],
      "execution_count": 83,
      "outputs": []
    },
    {
      "cell_type": "markdown",
      "metadata": {
        "id": "OVI4U-l052Ts"
      },
      "source": [
        "<h4>Let us list the columns after the conversion</h4>\n"
      ]
    },
    {
      "cell_type": "code",
      "metadata": {
        "id": "dap2AD0c52Ts",
        "colab": {
          "base_uri": "https://localhost:8080/"
        },
        "outputId": "d3d3d09a-9486-4ac3-c0f3-b6b52c088059"
      },
      "source": [
        "df.dtypes"
      ],
      "execution_count": 84,
      "outputs": [
        {
          "output_type": "execute_result",
          "data": {
            "text/plain": [
              "Admission_Date                        object\n",
              "Discharge_DATE                        object\n",
              "Outcome                               object\n",
              "Age                                    int64\n",
              "Gender                                object\n",
              "Sample_Collection_Date                object\n",
              "Treatment                             object\n",
              "Ventilated (Y/N)                      object\n",
              "Red_blood_cell_distribution_width    float64\n",
              "Monocytes(%)                         float64\n",
              "White_blood_cell_count               float64\n",
              "Platelet_Count                       float64\n",
              "Lymphocyte_Count                     float64\n",
              "Neutrophils_Count                    float64\n",
              "dtype: object"
            ]
          },
          "metadata": {},
          "execution_count": 84
        }
      ]
    },
    {
      "cell_type": "markdown",
      "metadata": {
        "id": "x3jCqroK52Ts"
      },
      "source": [
        "<h2 id=\"data_standardization\">Data Standardization</h2>"
      ]
    },
    {
      "cell_type": "markdown",
      "metadata": {
        "id": "FRPkHfuw52Tt"
      },
      "source": [
        "<h2 id=\"data_normalization\">Data Normalization</h2>"
      ]
    },
    {
      "cell_type": "markdown",
      "metadata": {
        "id": "7WWgVPQ152Tt"
      },
      "source": [
        "<h2 id=\"binning\">Binning</h2>\n"
      ]
    },
    {
      "cell_type": "code",
      "metadata": {
        "id": "2W4Ux-3S52Tt",
        "colab": {
          "base_uri": "https://localhost:8080/",
          "height": 312
        },
        "outputId": "847bf3ff-7702-4b56-8e25-31c7c76c7b26"
      },
      "source": [
        "%matplotlib inline\n",
        "import matplotlib as plt\n",
        "from matplotlib import pyplot\n",
        "plt.pyplot.hist(df[\"Age\"])\n",
        "\n",
        "# set x/y labels and plot title\n",
        "plt.pyplot.xlabel(\"Age\")\n",
        "plt.pyplot.ylabel(\"count\")\n",
        "plt.pyplot.title(\"Age\")"
      ],
      "execution_count": 95,
      "outputs": [
        {
          "output_type": "execute_result",
          "data": {
            "text/plain": [
              "Text(0.5, 1.0, 'Age')"
            ]
          },
          "metadata": {},
          "execution_count": 95
        },
        {
          "output_type": "display_data",
          "data": {
            "image/png": "[encoded data removed]",
            "text/plain": [
              "<Figure size 432x288 with 1 Axes>"
            ]
          },
          "metadata": {
            "needs_background": "light"
          }
        }
      ]
    },
    {
      "cell_type": "code",
      "metadata": {
        "colab": {
          "base_uri": "https://localhost:8080/",
          "height": 313
        },
        "id": "HaNSPhjEWu1e",
        "outputId": "46cbd8a2-b100-40bd-bc3d-a4d34648c68b"
      },
      "source": [
        "%matplotlib inline\n",
        "import matplotlib as plt\n",
        "from matplotlib import pyplot\n",
        "plt.pyplot.hist(df[\"Lymphocyte_Count\"])\n",
        "\n",
        "# set x/y labels and plot title\n",
        "plt.pyplot.xlabel(\"Lymphocyte_Count\")\n",
        "plt.pyplot.ylabel(\"count\")\n",
        "plt.pyplot.title(\"Lymphocyte_Count bins\")"
      ],
      "execution_count": 86,
      "outputs": [
        {
          "output_type": "execute_result",
          "data": {
            "text/plain": [
              "Text(0.5, 1.0, 'Lymphocyte_Count bins')"
            ]
          },
          "metadata": {},
          "execution_count": 86
        },
        {
          "output_type": "display_data",
          "data": {
            "image/png": "[encoded data removed]",
            "text/plain": [
              "<Figure size 432x288 with 1 Axes>"
            ]
          },
          "metadata": {
            "needs_background": "light"
          }
        }
      ]
    },
    {
      "cell_type": "code",
      "metadata": {
        "id": "6u_zStkAXkEo"
      },
      "source": [
        ""
      ],
      "execution_count": null,
      "outputs": []
    },
    {
      "cell_type": "code",
      "metadata": {
        "id": "lBlK1lJMXHIm"
      },
      "source": [
        "import numpy as np"
      ],
      "execution_count": 88,
      "outputs": []
    },
    {
      "cell_type": "code",
      "metadata": {
        "id": "xCrYX2x752Tu",
        "colab": {
          "base_uri": "https://localhost:8080/"
        },
        "outputId": "0333a3b8-67a7-4ece-9692-e6e2564ff429"
      },
      "source": [
        "bins = np.linspace(min(df[\"Lymphocyte_Count\"]), max(df[\"Lymphocyte_Count\"]), 4)\n",
        "bins"
      ],
      "execution_count": 90,
      "outputs": [
        {
          "output_type": "execute_result",
          "data": {
            "text/plain": [
              "array([ 0. ,  5.5, 11. , 16.5])"
            ]
          },
          "metadata": {},
          "execution_count": 90
        }
      ]
    },
    {
      "cell_type": "markdown",
      "metadata": {
        "id": "8u5PyHaO52Tu"
      },
      "source": [
        "We set group  names:\n"
      ]
    },
    {
      "cell_type": "code",
      "metadata": {
        "id": "hnF10GlB52Tu"
      },
      "source": [
        "group_names = ['less than 5', '5 to 11', '11+']"
      ],
      "execution_count": 96,
      "outputs": []
    },
    {
      "cell_type": "markdown",
      "metadata": {
        "id": "MQ_2crMY52Tu"
      },
      "source": [
        "We apply the function \"cut\" to determine what each value of `df['horsepower']` belongs to.\n"
      ]
    },
    {
      "cell_type": "code",
      "metadata": {
        "id": "Ah3I__Iq52Tu",
        "colab": {
          "base_uri": "https://localhost:8080/",
          "height": 669
        },
        "outputId": "2eb22c5b-ff61-4060-a48c-f2a1cfe15e01"
      },
      "source": [
        "df['Lymphocyte_Count_Binned'] = pd.cut(df['Lymphocyte_Count'], bins, labels=group_names, include_lowest=True )\n",
        "df[['Lymphocyte_Count','Lymphocyte_Count_Binned']].head(20)"
      ],
      "execution_count": 97,
      "outputs": [
        {
          "output_type": "execute_result",
          "data": {
            "text/html": [
              "<div>\n",
              "<style scoped>\n",
              "    .dataframe tbody tr th:only-of-type {\n",
              "        vertical-align: middle;\n",
              "    }\n",
              "\n",
              "    .dataframe tbody tr th {\n",
              "        vertical-align: top;\n",
              "    }\n",
              "\n",
              "    .dataframe thead th {\n",
              "        text-align: right;\n",
              "    }\n",
              "</style>\n",
              "<table border=\"1\" class=\"dataframe\">\n",
              "  <thead>\n",
              "    <tr style=\"text-align: right;\">\n",
              "      <th></th>\n",
              "      <th>Lymphocyte_Count</th>\n",
              "      <th>Lymphocyte_Count_Binned</th>\n",
              "    </tr>\n",
              "  </thead>\n",
              "  <tbody>\n",
              "    <tr>\n",
              "      <th>1</th>\n",
              "      <td>0.44</td>\n",
              "      <td>less than 5</td>\n",
              "    </tr>\n",
              "    <tr>\n",
              "      <th>2</th>\n",
              "      <td>4.39</td>\n",
              "      <td>less than 5</td>\n",
              "    </tr>\n",
              "    <tr>\n",
              "      <th>3</th>\n",
              "      <td>3.47</td>\n",
              "      <td>less than 5</td>\n",
              "    </tr>\n",
              "    <tr>\n",
              "      <th>4</th>\n",
              "      <td>0.80</td>\n",
              "      <td>less than 5</td>\n",
              "    </tr>\n",
              "    <tr>\n",
              "      <th>5</th>\n",
              "      <td>7.93</td>\n",
              "      <td>5 to 11</td>\n",
              "    </tr>\n",
              "    <tr>\n",
              "      <th>6</th>\n",
              "      <td>4.12</td>\n",
              "      <td>less than 5</td>\n",
              "    </tr>\n",
              "    <tr>\n",
              "      <th>7</th>\n",
              "      <td>1.92</td>\n",
              "      <td>less than 5</td>\n",
              "    </tr>\n",
              "    <tr>\n",
              "      <th>8</th>\n",
              "      <td>6.53</td>\n",
              "      <td>5 to 11</td>\n",
              "    </tr>\n",
              "    <tr>\n",
              "      <th>9</th>\n",
              "      <td>0.34</td>\n",
              "      <td>less than 5</td>\n",
              "    </tr>\n",
              "    <tr>\n",
              "      <th>10</th>\n",
              "      <td>2.00</td>\n",
              "      <td>less than 5</td>\n",
              "    </tr>\n",
              "    <tr>\n",
              "      <th>11</th>\n",
              "      <td>0.76</td>\n",
              "      <td>less than 5</td>\n",
              "    </tr>\n",
              "    <tr>\n",
              "      <th>12</th>\n",
              "      <td>3.47</td>\n",
              "      <td>less than 5</td>\n",
              "    </tr>\n",
              "    <tr>\n",
              "      <th>13</th>\n",
              "      <td>0.45</td>\n",
              "      <td>less than 5</td>\n",
              "    </tr>\n",
              "    <tr>\n",
              "      <th>14</th>\n",
              "      <td>3.53</td>\n",
              "      <td>less than 5</td>\n",
              "    </tr>\n",
              "    <tr>\n",
              "      <th>15</th>\n",
              "      <td>6.53</td>\n",
              "      <td>5 to 11</td>\n",
              "    </tr>\n",
              "    <tr>\n",
              "      <th>16</th>\n",
              "      <td>5.51</td>\n",
              "      <td>5 to 11</td>\n",
              "    </tr>\n",
              "    <tr>\n",
              "      <th>17</th>\n",
              "      <td>2.72</td>\n",
              "      <td>less than 5</td>\n",
              "    </tr>\n",
              "    <tr>\n",
              "      <th>18</th>\n",
              "      <td>1.29</td>\n",
              "      <td>less than 5</td>\n",
              "    </tr>\n",
              "    <tr>\n",
              "      <th>19</th>\n",
              "      <td>2.26</td>\n",
              "      <td>less than 5</td>\n",
              "    </tr>\n",
              "    <tr>\n",
              "      <th>20</th>\n",
              "      <td>1.30</td>\n",
              "      <td>less than 5</td>\n",
              "    </tr>\n",
              "  </tbody>\n",
              "</table>\n",
              "</div>"
            ],
            "text/plain": [
              "    Lymphocyte_Count Lymphocyte_Count_Binned\n",
              "1               0.44             less than 5\n",
              "2               4.39             less than 5\n",
              "3               3.47             less than 5\n",
              "4               0.80             less than 5\n",
              "5               7.93                 5 to 11\n",
              "6               4.12             less than 5\n",
              "7               1.92             less than 5\n",
              "8               6.53                 5 to 11\n",
              "9               0.34             less than 5\n",
              "10              2.00             less than 5\n",
              "11              0.76             less than 5\n",
              "12              3.47             less than 5\n",
              "13              0.45             less than 5\n",
              "14              3.53             less than 5\n",
              "15              6.53                 5 to 11\n",
              "16              5.51                 5 to 11\n",
              "17              2.72             less than 5\n",
              "18              1.29             less than 5\n",
              "19              2.26             less than 5\n",
              "20              1.30             less than 5"
            ]
          },
          "metadata": {},
          "execution_count": 97
        }
      ]
    },
    {
      "cell_type": "markdown",
      "metadata": {
        "id": "wUkG1k5t52Tu"
      },
      "source": [
        "Let's see the number of vehicles in each bin:\n"
      ]
    },
    {
      "cell_type": "code",
      "metadata": {
        "id": "-tF5w8ab52Tu",
        "colab": {
          "base_uri": "https://localhost:8080/"
        },
        "outputId": "ec439001-5a95-4330-9272-dc23d67590b8"
      },
      "source": [
        "df[\"Lymphocyte_Count_Binned\"].value_counts()"
      ],
      "execution_count": 98,
      "outputs": [
        {
          "output_type": "execute_result",
          "data": {
            "text/plain": [
              "less than 5    87\n",
              "5 to 11        13\n",
              "11+             3\n",
              "Name: Lymphocyte_Count_Binned, dtype: int64"
            ]
          },
          "metadata": {},
          "execution_count": 98
        }
      ]
    },
    {
      "cell_type": "markdown",
      "metadata": {
        "id": "lu3pgKcy52Tu"
      },
      "source": [
        "Let's plot the distribution of each bin:\n"
      ]
    },
    {
      "cell_type": "code",
      "metadata": {
        "id": "E0kb1mQ652Tu",
        "colab": {
          "base_uri": "https://localhost:8080/",
          "height": 313
        },
        "outputId": "5b864aeb-f25e-4265-fb52-9dd20244dfbe"
      },
      "source": [
        "%matplotlib inline\n",
        "import matplotlib as plt\n",
        "from matplotlib import pyplot\n",
        "pyplot.bar(group_names, df[\"Lymphocyte_Count_Binned\"].value_counts())\n",
        "\n",
        "# set x/y labels and plot title\n",
        "plt.pyplot.xlabel(\"Lymphocyte_Count\")\n",
        "plt.pyplot.ylabel(\"count\")\n",
        "plt.pyplot.title(\"Lymphocyte_Count bins\")"
      ],
      "execution_count": 99,
      "outputs": [
        {
          "output_type": "execute_result",
          "data": {
            "text/plain": [
              "Text(0.5, 1.0, 'Lymphocyte_Count bins')"
            ]
          },
          "metadata": {},
          "execution_count": 99
        },
        {
          "output_type": "display_data",
          "data": {
            "image/png": "[encoded data removed]",
            "text/plain": [
              "<Figure size 432x288 with 1 Axes>"
            ]
          },
          "metadata": {
            "needs_background": "light"
          }
        }
      ]
    },
    {
      "cell_type": "markdown",
      "metadata": {
        "id": "7MYoD2EZ52Tu"
      },
      "source": [
        "<h3>Bins Visualization</h3>\n",
        "Normally, a histogram is used to visualize the distribution of bins we created above. \n"
      ]
    },
    {
      "cell_type": "code",
      "metadata": {
        "id": "Tl5tbf0k52Tv",
        "colab": {
          "base_uri": "https://localhost:8080/",
          "height": 313
        },
        "outputId": "5a756d98-b0de-4191-f7d9-44acc2639511"
      },
      "source": [
        "%matplotlib inline\n",
        "import matplotlib as plt\n",
        "from matplotlib import pyplot\n",
        "\n",
        "\n",
        "# draw historgram of attribute \"horsepower\" with bins = 3\n",
        "plt.pyplot.hist(df[\"Lymphocyte_Count\"], bins = 3)\n",
        "\n",
        "# set x/y labels and plot title\n",
        "plt.pyplot.xlabel(\"Lymphocyte_Count\")\n",
        "plt.pyplot.ylabel(\"count\")\n",
        "plt.pyplot.title(\"Lymphocyte_Count bins\")"
      ],
      "execution_count": 100,
      "outputs": [
        {
          "output_type": "execute_result",
          "data": {
            "text/plain": [
              "Text(0.5, 1.0, 'Lymphocyte_Count bins')"
            ]
          },
          "metadata": {},
          "execution_count": 100
        },
        {
          "output_type": "display_data",
          "data": {
            "image/png": "[encoded data removed]",
            "text/plain": [
              "<Figure size 432x288 with 1 Axes>"
            ]
          },
          "metadata": {
            "needs_background": "light"
          }
        }
      ]
    },
    {
      "cell_type": "markdown",
      "metadata": {
        "id": "3f98ALrG52Tv"
      },
      "source": [
        "The plot above shows the binning result for the attribute \"horsepower\".\n"
      ]
    },
    {
      "cell_type": "markdown",
      "metadata": {
        "id": "AdHlZFGw52Tv"
      },
      "source": [
        "<h2 id=\"indicator\">Indicator Variable (or Dummy Variable)</h2>"
      ]
    },
    {
      "cell_type": "code",
      "metadata": {
        "id": "n2_vr1QX52Tv",
        "colab": {
          "base_uri": "https://localhost:8080/"
        },
        "outputId": "e59652c8-c5b6-4386-aa00-2e42f59a33f6"
      },
      "source": [
        "df.columns"
      ],
      "execution_count": 101,
      "outputs": [
        {
          "output_type": "execute_result",
          "data": {
            "text/plain": [
              "Index(['Admission_Date', 'Discharge_DATE', 'Outcome', 'Age', 'Gender',\n",
              "       'Sample_Collection_Date', 'Treatment', 'Ventilated (Y/N)',\n",
              "       'Red_blood_cell_distribution_width', 'Monocytes(%)',\n",
              "       'White_blood_cell_count', 'Platelet_Count', 'Lymphocyte_Count',\n",
              "       'Neutrophils_Count', 'Lymphocyte_Count_Binned'],\n",
              "      dtype='object')"
            ]
          },
          "metadata": {},
          "execution_count": 101
        }
      ]
    },
    {
      "cell_type": "markdown",
      "metadata": {
        "id": "IJ1KDYX352Tv"
      },
      "source": [
        "Get the indicator variables and assign it to data frame \"dummy_variable\\_1\":\n"
      ]
    },
    {
      "cell_type": "code",
      "metadata": {
        "id": "C-NhdWtr52Tv",
        "colab": {
          "base_uri": "https://localhost:8080/",
          "height": 204
        },
        "outputId": "55ee4296-a388-426b-dd9e-10afb1943a7f"
      },
      "source": [
        "dummy_variable_1 = pd.get_dummies(df[\"Ventilated (Y/N)\"])\n",
        "dummy_variable_1.head()"
      ],
      "execution_count": 102,
      "outputs": [
        {
          "output_type": "execute_result",
          "data": {
            "text/html": [
              "<div>\n",
              "<style scoped>\n",
              "    .dataframe tbody tr th:only-of-type {\n",
              "        vertical-align: middle;\n",
              "    }\n",
              "\n",
              "    .dataframe tbody tr th {\n",
              "        vertical-align: top;\n",
              "    }\n",
              "\n",
              "    .dataframe thead th {\n",
              "        text-align: right;\n",
              "    }\n",
              "</style>\n",
              "<table border=\"1\" class=\"dataframe\">\n",
              "  <thead>\n",
              "    <tr style=\"text-align: right;\">\n",
              "      <th></th>\n",
              "      <th>No</th>\n",
              "      <th>Yes</th>\n",
              "    </tr>\n",
              "  </thead>\n",
              "  <tbody>\n",
              "    <tr>\n",
              "      <th>1</th>\n",
              "      <td>0</td>\n",
              "      <td>1</td>\n",
              "    </tr>\n",
              "    <tr>\n",
              "      <th>2</th>\n",
              "      <td>0</td>\n",
              "      <td>1</td>\n",
              "    </tr>\n",
              "    <tr>\n",
              "      <th>3</th>\n",
              "      <td>1</td>\n",
              "      <td>0</td>\n",
              "    </tr>\n",
              "    <tr>\n",
              "      <th>4</th>\n",
              "      <td>1</td>\n",
              "      <td>0</td>\n",
              "    </tr>\n",
              "    <tr>\n",
              "      <th>5</th>\n",
              "      <td>1</td>\n",
              "      <td>0</td>\n",
              "    </tr>\n",
              "  </tbody>\n",
              "</table>\n",
              "</div>"
            ],
            "text/plain": [
              "   No  Yes\n",
              "1   0    1\n",
              "2   0    1\n",
              "3   1    0\n",
              "4   1    0\n",
              "5   1    0"
            ]
          },
          "metadata": {},
          "execution_count": 102
        }
      ]
    },
    {
      "cell_type": "markdown",
      "metadata": {
        "id": "lQ-wAat-52Tw"
      },
      "source": [
        "Change the column names for clarity:\n"
      ]
    },
    {
      "cell_type": "code",
      "metadata": {
        "id": "B9fWavor52Tw",
        "colab": {
          "base_uri": "https://localhost:8080/",
          "height": 204
        },
        "outputId": "3d5b6af3-cc27-420f-cff2-996af5a24c87"
      },
      "source": [
        "dummy_variable_1.rename(columns={'No':'Ventilated-No', 'Yes':'Ventilated-Yes'}, inplace=True)\n",
        "dummy_variable_1.head()"
      ],
      "execution_count": 103,
      "outputs": [
        {
          "output_type": "execute_result",
          "data": {
            "text/html": [
              "<div>\n",
              "<style scoped>\n",
              "    .dataframe tbody tr th:only-of-type {\n",
              "        vertical-align: middle;\n",
              "    }\n",
              "\n",
              "    .dataframe tbody tr th {\n",
              "        vertical-align: top;\n",
              "    }\n",
              "\n",
              "    .dataframe thead th {\n",
              "        text-align: right;\n",
              "    }\n",
              "</style>\n",
              "<table border=\"1\" class=\"dataframe\">\n",
              "  <thead>\n",
              "    <tr style=\"text-align: right;\">\n",
              "      <th></th>\n",
              "      <th>Ventilated-No</th>\n",
              "      <th>Ventilated-Yes</th>\n",
              "    </tr>\n",
              "  </thead>\n",
              "  <tbody>\n",
              "    <tr>\n",
              "      <th>1</th>\n",
              "      <td>0</td>\n",
              "      <td>1</td>\n",
              "    </tr>\n",
              "    <tr>\n",
              "      <th>2</th>\n",
              "      <td>0</td>\n",
              "      <td>1</td>\n",
              "    </tr>\n",
              "    <tr>\n",
              "      <th>3</th>\n",
              "      <td>1</td>\n",
              "      <td>0</td>\n",
              "    </tr>\n",
              "    <tr>\n",
              "      <th>4</th>\n",
              "      <td>1</td>\n",
              "      <td>0</td>\n",
              "    </tr>\n",
              "    <tr>\n",
              "      <th>5</th>\n",
              "      <td>1</td>\n",
              "      <td>0</td>\n",
              "    </tr>\n",
              "  </tbody>\n",
              "</table>\n",
              "</div>"
            ],
            "text/plain": [
              "   Ventilated-No  Ventilated-Yes\n",
              "1              0               1\n",
              "2              0               1\n",
              "3              1               0\n",
              "4              1               0\n",
              "5              1               0"
            ]
          },
          "metadata": {},
          "execution_count": 103
        }
      ]
    },
    {
      "cell_type": "markdown",
      "metadata": {
        "id": "vIaKVsdD52Tw"
      },
      "source": [
        "In the dataframe, column 'fuel-type' has values for 'gas' and 'diesel' as 0s and 1s now.\n"
      ]
    },
    {
      "cell_type": "code",
      "metadata": {
        "id": "ajGPG4AV52Tw"
      },
      "source": [
        "# merge data frame \"df\" and \"dummy_variable_1\" \n",
        "df = pd.concat([df, dummy_variable_1], axis=1)\n",
        "\n",
        "# drop original column \"fuel-type\" from \"df\"\n",
        "#df.drop(\"fuel-type\", axis = 1, inplace=True)"
      ],
      "execution_count": 104,
      "outputs": []
    },
    {
      "cell_type": "code",
      "metadata": {
        "id": "CQambGPS52Tw",
        "colab": {
          "base_uri": "https://localhost:8080/",
          "height": 360
        },
        "outputId": "6d88b2f7-f7a8-4c1f-cefb-fedec419f4ca"
      },
      "source": [
        "df.head()"
      ],
      "execution_count": 105,
      "outputs": [
        {
          "output_type": "execute_result",
          "data": {
            "text/html": [
              "<div>\n",
              "<style scoped>\n",
              "    .dataframe tbody tr th:only-of-type {\n",
              "        vertical-align: middle;\n",
              "    }\n",
              "\n",
              "    .dataframe tbody tr th {\n",
              "        vertical-align: top;\n",
              "    }\n",
              "\n",
              "    .dataframe thead th {\n",
              "        text-align: right;\n",
              "    }\n",
              "</style>\n",
              "<table border=\"1\" class=\"dataframe\">\n",
              "  <thead>\n",
              "    <tr style=\"text-align: right;\">\n",
              "      <th></th>\n",
              "      <th>Admission_Date</th>\n",
              "      <th>Discharge_DATE</th>\n",
              "      <th>Outcome</th>\n",
              "      <th>Age</th>\n",
              "      <th>Gender</th>\n",
              "      <th>Sample_Collection_Date</th>\n",
              "      <th>Treatment</th>\n",
              "      <th>Ventilated (Y/N)</th>\n",
              "      <th>Red_blood_cell_distribution_width</th>\n",
              "      <th>Monocytes(%)</th>\n",
              "      <th>White_blood_cell_count</th>\n",
              "      <th>Platelet_Count</th>\n",
              "      <th>Lymphocyte_Count</th>\n",
              "      <th>Neutrophils_Count</th>\n",
              "      <th>Lymphocyte_Count_Binned</th>\n",
              "      <th>Ventilated-No</th>\n",
              "      <th>Ventilated-Yes</th>\n",
              "    </tr>\n",
              "  </thead>\n",
              "  <tbody>\n",
              "    <tr>\n",
              "      <th>1</th>\n",
              "      <td>8/10/2020</td>\n",
              "      <td>8/8/2020</td>\n",
              "      <td>Not Recovered</td>\n",
              "      <td>51</td>\n",
              "      <td>Male</td>\n",
              "      <td>8/10/2020</td>\n",
              "      <td>Antibiotics,  O2</td>\n",
              "      <td>Yes</td>\n",
              "      <td>13.2</td>\n",
              "      <td>3.3</td>\n",
              "      <td>21.00</td>\n",
              "      <td>462.00</td>\n",
              "      <td>0.44</td>\n",
              "      <td>19.43</td>\n",
              "      <td>less than 5</td>\n",
              "      <td>0</td>\n",
              "      <td>1</td>\n",
              "    </tr>\n",
              "    <tr>\n",
              "      <th>2</th>\n",
              "      <td>7/24/2020</td>\n",
              "      <td>8/5/2020</td>\n",
              "      <td>Not Recovered</td>\n",
              "      <td>65</td>\n",
              "      <td>Female</td>\n",
              "      <td>7/24/2020</td>\n",
              "      <td>Paracetamol, Antibiotics,  O2</td>\n",
              "      <td>Yes</td>\n",
              "      <td>40.0</td>\n",
              "      <td>3.0</td>\n",
              "      <td>8.79</td>\n",
              "      <td>180.66</td>\n",
              "      <td>4.39</td>\n",
              "      <td>7.56</td>\n",
              "      <td>less than 5</td>\n",
              "      <td>0</td>\n",
              "      <td>1</td>\n",
              "    </tr>\n",
              "    <tr>\n",
              "      <th>3</th>\n",
              "      <td>7/22/2020</td>\n",
              "      <td>8/8/2020</td>\n",
              "      <td>Recovered</td>\n",
              "      <td>32</td>\n",
              "      <td>Male</td>\n",
              "      <td>7/22/2020</td>\n",
              "      <td>Antibiotics,  O2</td>\n",
              "      <td>No</td>\n",
              "      <td>11.7</td>\n",
              "      <td>5.3</td>\n",
              "      <td>9.90</td>\n",
              "      <td>336.00</td>\n",
              "      <td>3.47</td>\n",
              "      <td>5.34</td>\n",
              "      <td>less than 5</td>\n",
              "      <td>1</td>\n",
              "      <td>0</td>\n",
              "    </tr>\n",
              "    <tr>\n",
              "      <th>4</th>\n",
              "      <td>7/19/2020</td>\n",
              "      <td>8/5/2020</td>\n",
              "      <td>Recovered</td>\n",
              "      <td>36</td>\n",
              "      <td>Female</td>\n",
              "      <td>7/19/2020</td>\n",
              "      <td>Antibiotics,  O2</td>\n",
              "      <td>No</td>\n",
              "      <td>13.0</td>\n",
              "      <td>5.0</td>\n",
              "      <td>9.95</td>\n",
              "      <td>240.10</td>\n",
              "      <td>0.80</td>\n",
              "      <td>8.66</td>\n",
              "      <td>less than 5</td>\n",
              "      <td>1</td>\n",
              "      <td>0</td>\n",
              "    </tr>\n",
              "    <tr>\n",
              "      <th>5</th>\n",
              "      <td>7/18/2020</td>\n",
              "      <td>8/5/2020</td>\n",
              "      <td>Recovered</td>\n",
              "      <td>46</td>\n",
              "      <td>Male</td>\n",
              "      <td>7/18/2020</td>\n",
              "      <td>Paracetamol, Antibiotics,  O2</td>\n",
              "      <td>No</td>\n",
              "      <td>31.0</td>\n",
              "      <td>3.0</td>\n",
              "      <td>14.15</td>\n",
              "      <td>236.58</td>\n",
              "      <td>7.93</td>\n",
              "      <td>13.02</td>\n",
              "      <td>5 to 11</td>\n",
              "      <td>1</td>\n",
              "      <td>0</td>\n",
              "    </tr>\n",
              "  </tbody>\n",
              "</table>\n",
              "</div>"
            ],
            "text/plain": [
              "  Admission_Date Discharge_DATE  ... Ventilated-No  Ventilated-Yes\n",
              "1      8/10/2020       8/8/2020  ...             0               1\n",
              "2      7/24/2020       8/5/2020  ...             0               1\n",
              "3      7/22/2020       8/8/2020  ...             1               0\n",
              "4      7/19/2020       8/5/2020  ...             1               0\n",
              "5      7/18/2020       8/5/2020  ...             1               0\n",
              "\n",
              "[5 rows x 17 columns]"
            ]
          },
          "metadata": {},
          "execution_count": 105
        }
      ]
    },
    {
      "cell_type": "markdown",
      "metadata": {
        "id": "6LgboqJc52Tx"
      },
      "source": [
        "Save the new csv:\n"
      ]
    },
    {
      "cell_type": "code",
      "metadata": {
        "id": "UosOILiP52Tx"
      },
      "source": [
        "df.to_csv('cov19_cvc_cleaned.csv')"
      ],
      "execution_count": 106,
      "outputs": []
    },
    {
      "cell_type": "code",
      "metadata": {
        "id": "jIUYV0AXaRuw"
      },
      "source": [
        ""
      ],
      "execution_count": null,
      "outputs": []
    }
  ]
}